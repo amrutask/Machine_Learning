{
  "nbformat": 4,
  "nbformat_minor": 0,
  "metadata": {
    "colab": {
      "name": "Problem1.ipynb",
      "version": "0.3.2",
      "provenance": [],
      "include_colab_link": true
    },
    "kernelspec": {
      "name": "python3",
      "display_name": "Python 3"
    },
    "accelerator": "GPU"
  },
  "cells": [
    {
      "cell_type": "markdown",
      "metadata": {
        "id": "view-in-github",
        "colab_type": "text"
      },
      "source": [
        "<a href=\"https://colab.research.google.com/github/amrutask/Machine_Learning/blob/master/HomeWork1/Problem1.ipynb\" target=\"_parent\"><img src=\"https://colab.research.google.com/assets/colab-badge.svg\" alt=\"Open In Colab\"/></a>"
      ]
    },
    {
      "metadata": {
        "id": "CqiUNMXz19-p",
        "colab_type": "code",
        "outputId": "fc230468-0d0a-419f-badd-3a2fc8541c44",
        "colab": {
          "base_uri": "https://localhost:8080/",
          "height": 34
        }
      },
      "cell_type": "code",
      "source": [
        "import numpy as np\n",
        "import matplotlib.pyplot as plt\n",
        "import h5py\n",
        "import scipy\n",
        "from PIL import Image\n",
        "from scipy import ndimage\n",
        "%matplotlib inline\n",
        "import keras\n",
        "from keras.datasets import mnist"
      ],
      "execution_count": 1,
      "outputs": [
        {
          "output_type": "stream",
          "text": [
            "Using TensorFlow backend.\n"
          ],
          "name": "stderr"
        }
      ]
    },
    {
      "metadata": {
        "id": "KfbP1x7t2SG0",
        "colab_type": "code",
        "colab": {}
      },
      "cell_type": "code",
      "source": [
        "class logistic_regression():\n",
        "  \n",
        "  def __init__(self, size):\n",
        "    \n",
        "    self.weights = np.zeros((size,1))\n",
        "    self.bias = 0.0\n",
        "    self.accuracy=0.0\n",
        "      \n",
        "  \n",
        "  def train_and_optimize(self, train_x, train_y, learning_rate=0.01, num_iters=50, mini_batch_size=200):\n",
        "    \n",
        "    w = np.zeros((train_x.shape[0],1))\n",
        "    b=0.0\n",
        "    m = train_x.shape[1]   #no of training smaples\n",
        "    print(\"No of training examples:\", m)\n",
        "    num_batches=int(m/mini_batch_size)\n",
        "    costs=[] \n",
        "    \n",
        "    #mini batch gradient descent\n",
        "    for i in range(num_iters):\n",
        "      \n",
        "      batch_cost=[]\n",
        "      shuffled_indices = np.random.permutation(m)       \n",
        "      train_x = train_x[:,shuffled_indices]\n",
        "      train_y = train_y[shuffled_indices]\n",
        "      start=0\n",
        "      end=mini_batch_size-1\n",
        "      \n",
        "      for j in range(num_batches):\n",
        "        X=train_x[:, start:end]\n",
        "        Y=train_y[start:end]\n",
        "        \n",
        "        A = 1/(1 + np.exp(-((np.dot(w.transpose(),X))+ b)))  # compute activation\n",
        "        \n",
        "        cost = (1/mini_batch_size) *  np.sum(np.dot((A-Y).transpose(),(A-Y)))\n",
        "        \n",
        "        dz=np.dot(A.transpose(),(1-A))\n",
        "        temp=np.dot(X, dz)\n",
        "        dw = (1/mini_batch_size) * np.dot(temp,(A-Y).transpose())\n",
        "        db = (1/mini_batch_size) * np.sum(np.dot(dz,(A-Y).transpose()))\n",
        "        cost = np.squeeze(cost)\n",
        "  \n",
        "        w = w - learning_rate * dw\n",
        "        b = b - learning_rate * db\n",
        "        \n",
        "        batch_cost.append(cost)\n",
        "        start=start+mini_batch_size\n",
        "        end=end+mini_batch_size\n",
        "        \n",
        "      costs.append(sum(batch_cost) / len(batch_cost))\n",
        "    \n",
        "      if i%25==0 or i==num_iters-1:\n",
        "        print(\"Cost after {} iterations: {}\".format(i, sum(costs)/len(costs)))\n",
        "    \n",
        "    self.weights=w\n",
        "    self.bias=b\n",
        "    \n",
        " \n",
        "  def predict(self, test_x, Label):\n",
        "  \n",
        "    A = 1/(1 + np.exp(-((np.dot(self.weights.transpose(),test_x))+ self.bias)))\n",
        "    m = A.shape[1]\n",
        "    Y_pred = np.zeros((1, m))\n",
        "  \n",
        "    for i in range(A.shape[1]):\n",
        "      # Convert probabilities A to actual predictions\n",
        "        \n",
        "      if A[0,i]<= 0.5 :\n",
        "        Y_pred[0, i] = 0\n",
        "      else :\n",
        "        Y_pred[0, i] = 1\n",
        "  \n",
        "    self.accuracy=((np.sum(Y_pred==Label))/m) * 100\n",
        "    \n",
        "    return(self.accuracy)\n",
        "  \n",
        "  \n",
        "  def calc_probability(self, image_features):\n",
        "    \n",
        "    prob=1/(1 + np.exp(-((np.dot(self.weights.transpose(),image_features))+ self.bias)))\n",
        "    \n",
        "    return(prob)"
      ],
      "execution_count": 0,
      "outputs": []
    },
    {
      "metadata": {
        "id": "jHRGOBVr2oEX",
        "colab_type": "code",
        "outputId": "24b7afb3-6f3a-4cad-e2c1-149056a2aadc",
        "colab": {
          "base_uri": "https://localhost:8080/",
          "height": 1495
        }
      },
      "cell_type": "code",
      "source": [
        "(x_train, y_train),(x_test, y_test) = mnist.load_data()\n",
        "\n",
        "train_x_flat = x_train.reshape(x_train.shape[0],-1).T\n",
        "test_x_flat = x_test.reshape(x_test.shape[0],-1).T\n",
        "\n",
        "train_x, test_x = train_x_flat / 255.0, test_x_flat / 255.0\n",
        "print(\"Size of training data:\",train_x.shape)\n",
        "print(\"Size of test data:\",test_x.shape)\n",
        "\n",
        "#one hot encoding of the labels\n",
        "train_y= np.eye(10)[y_train]\n",
        "test_y = np.eye(10)[y_test]\n",
        "print(\"Size of training labels:\", train_y.shape)\n",
        "print(\"Size of test labels:\", test_y.shape)\n",
        "\n",
        "no_classes=10  #0 to 9 digits\n",
        "\n",
        "\"\"\"digit0=logistic_regression(train_x.shape[0])\n",
        "digit0.train_and_optimize(train_x, train_y[:,0])\n",
        "acc=digit0.predict(test_x, test_y[:,0])\n",
        "print(\"\\nAccuracy of predicting 0 is: {}\".format(acc))\"\"\"\n",
        "\n",
        "#one vs all approach\n",
        "digits=[]\n",
        "for i in range(no_classes):\n",
        "  lgr=logistic_regression(train_x.shape[0])\n",
        "  print(\"\\nTraining class {} vs others.....\".format(i))\n",
        "  lgr.train_and_optimize(train_x, train_y[:,i])\n",
        "  acc=lgr.predict(test_x, test_y[:,i])\n",
        "  print(\"\\nAccuracy of predicting {} is: {}\".format(i, acc))\n",
        "  digits.append(lgr)\n",
        "  "
      ],
      "execution_count": 20,
      "outputs": [
        {
          "output_type": "stream",
          "text": [
            "Size of training data: (784, 60000)\n",
            "Size of test data: (784, 10000)\n",
            "Size of training labels: (60000, 10)\n",
            "Size of test labels: (10000, 10)\n",
            "\n",
            "Training class 0 vs others.....\n",
            "No of training examples: 60000\n",
            "Cost after 0 iterations: 0.6798097245453089\n",
            "Cost after 25 iterations: 0.114294699598188\n",
            "Cost after 49 iterations: 0.09179983502944764\n",
            "\n",
            "Accuracy of predicting 0 is: 97.6\n",
            "\n",
            "Training class 1 vs others.....\n",
            "No of training examples: 60000\n",
            "Cost after 0 iterations: 0.7374997307436462\n",
            "Cost after 25 iterations: 0.13341583483589584\n",
            "Cost after 49 iterations: 0.11162209145175868\n",
            "\n",
            "Accuracy of predicting 1 is: 98.61\n",
            "\n",
            "Training class 2 vs others.....\n",
            "No of training examples: 60000\n",
            "Cost after 0 iterations: 0.6278296457883797\n",
            "Cost after 25 iterations: 0.10765162389033403\n",
            "Cost after 49 iterations: 0.08653324176668611\n",
            "\n",
            "Accuracy of predicting 2 is: 96.28\n",
            "\n",
            "Training class 3 vs others.....\n",
            "No of training examples: 60000\n",
            "Cost after 0 iterations: 0.7741059081261095\n",
            "Cost after 25 iterations: 0.11706035786665092\n",
            "Cost after 49 iterations: 0.0911525527180517\n",
            "\n",
            "Accuracy of predicting 3 is: 96.16\n",
            "\n",
            "Training class 4 vs others.....\n",
            "No of training examples: 60000\n",
            "Cost after 0 iterations: 0.6740673401857101\n",
            "Cost after 25 iterations: 0.10966833740333638\n",
            "Cost after 49 iterations: 0.09164290593035233\n",
            "\n",
            "Accuracy of predicting 4 is: 96.41\n",
            "\n",
            "Training class 5 vs others.....\n",
            "No of training examples: 60000\n",
            "Cost after 0 iterations: 0.5124085794065262\n",
            "Cost after 25 iterations: 0.10117928506641158\n",
            "Cost after 49 iterations: 0.08677395993157394\n",
            "\n",
            "Accuracy of predicting 5 is: 95.12\n",
            "\n",
            "Training class 6 vs others.....\n",
            "No of training examples: 60000\n",
            "Cost after 0 iterations: 0.8263290250134386\n",
            "Cost after 25 iterations: 0.11802899042119414\n",
            "Cost after 49 iterations: 0.09540064138068334\n",
            "\n",
            "Accuracy of predicting 6 is: 97.23\n",
            "\n",
            "Training class 7 vs others.....\n",
            "No of training examples: 60000\n",
            "Cost after 0 iterations: 0.6236232450637311\n",
            "Cost after 25 iterations: 0.11265439857890858\n",
            "Cost after 49 iterations: 0.09042793506856428\n",
            "\n",
            "Accuracy of predicting 7 is: 97.28999999999999\n",
            "\n",
            "Training class 8 vs others.....\n",
            "No of training examples: 60000\n",
            "Cost after 0 iterations: 0.8123046697830117\n",
            "Cost after 25 iterations: 0.13581743165297624\n",
            "Cost after 49 iterations: 0.10634515673478286\n",
            "\n",
            "Accuracy of predicting 8 is: 93.11\n",
            "\n",
            "Training class 9 vs others.....\n",
            "No of training examples: 60000\n",
            "Cost after 0 iterations: 0.6164937160188926\n",
            "Cost after 25 iterations: 0.11181632838590926\n",
            "Cost after 49 iterations: 0.09409409358986551\n",
            "\n",
            "Accuracy of predicting 9 is: 94.15\n"
          ],
          "name": "stdout"
        }
      ]
    },
    {
      "metadata": {
        "id": "o_anf00_2wcA",
        "colab_type": "code",
        "outputId": "add8e44b-e4be-49ca-c09a-6ebea0366a73",
        "colab": {
          "base_uri": "https://localhost:8080/",
          "height": 670
        }
      },
      "cell_type": "code",
      "source": [
        "No_to_predict = input(\"Enter any image from 0 to 60000 for prediction: \")\n",
        "\n",
        "plt.imshow(train_x[:,int(No_to_predict)].reshape((28,28)))\n",
        "predictions=[]\n",
        "\n",
        "for i in range(no_classes):\n",
        "  lgr=digits[i]\n",
        "  prob=lgr.calc_probability(train_x[:,int(No_to_predict)])\n",
        "  print(\"\\nProbability of the number being {} is: {}\".format(i, prob))\n",
        "  predictions.append(prob)\n",
        "  \n",
        "preds=np.asarray(predictions)\n",
        "print(\"\\nPredicted number is:\",np.argmax(preds))\n",
        "  "
      ],
      "execution_count": 21,
      "outputs": [
        {
          "output_type": "stream",
          "text": [
            "Enter any image from 0 to 60000 for prediction: 45\n",
            "\n",
            "Probability of the number being 0 is: [0.00354768]\n",
            "\n",
            "Probability of the number being 1 is: [0.00183289]\n",
            "\n",
            "Probability of the number being 2 is: [0.00151818]\n",
            "\n",
            "Probability of the number being 3 is: [0.00560086]\n",
            "\n",
            "Probability of the number being 4 is: [0.10520628]\n",
            "\n",
            "Probability of the number being 5 is: [0.01929952]\n",
            "\n",
            "Probability of the number being 6 is: [0.00263013]\n",
            "\n",
            "Probability of the number being 7 is: [0.07403923]\n",
            "\n",
            "Probability of the number being 8 is: [0.02433697]\n",
            "\n",
            "Probability of the number being 9 is: [0.82823841]\n",
            "\n",
            "Predicted number is: 9\n"
          ],
          "name": "stdout"
        },
        {
          "output_type": "display_data",
          "data": {
            "image/png": "[encoded data removed]",
            "text/plain": [
              "<Figure size 432x288 with 1 Axes>"
            ]
          },
          "metadata": {
            "tags": []
          }
        }
      ]
    }
  ]
}