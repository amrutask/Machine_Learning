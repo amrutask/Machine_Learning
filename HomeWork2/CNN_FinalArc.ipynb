{
  "nbformat": 4,
  "nbformat_minor": 0,
  "metadata": {
    "colab": {
      "name": "CNN_FinalArc.ipynb",
      "version": "0.3.2",
      "provenance": [],
      "include_colab_link": true
    },
    "kernelspec": {
      "name": "python3",
      "display_name": "Python 3"
    },
    "accelerator": "GPU"
  },
  "cells": [
    {
      "cell_type": "markdown",
      "metadata": {
        "id": "view-in-github",
        "colab_type": "text"
      },
      "source": [
        "<a href=\"https://colab.research.google.com/github/amrutask/Machine_Learning/blob/master/HomeWork2/CNN_FinalArc.ipynb\" target=\"_parent\"><img src=\"https://colab.research.google.com/assets/colab-badge.svg\" alt=\"Open In Colab\"/></a>"
      ]
    },
    {
      "metadata": {
        "id": "QKJOa5A3fiuW",
        "colab_type": "code",
        "colab": {
          "base_uri": "https://localhost:8080/",
          "height": 34
        },
        "outputId": "f73ba77e-5ffb-46b6-8144-859b7d0e2295"
      },
      "cell_type": "code",
      "source": [
        "import keras\n",
        "from keras.models import Sequential\n",
        "from keras.layers import Dense, Dropout, Activation, Flatten\n",
        "from keras.layers import Conv2D, MaxPooling2D\n",
        "from keras.preprocessing.image import ImageDataGenerator\n",
        "from keras import optimizers\n",
        "\n",
        "from keras.datasets import cifar10\n",
        "from sklearn.model_selection import train_test_split\n",
        "from sklearn.model_selection import StratifiedKFold\n",
        "import matplotlib.pyplot as plt"
      ],
      "execution_count": 2,
      "outputs": [
        {
          "output_type": "stream",
          "text": [
            "Using TensorFlow backend.\n"
          ],
          "name": "stderr"
        }
      ]
    },
    {
      "metadata": {
        "id": "aNAo2foafnKS",
        "colab_type": "code",
        "colab": {
          "base_uri": "https://localhost:8080/",
          "height": 105
        },
        "outputId": "46d56cb3-0cf3-4a0c-93de-64d13ef172d7"
      },
      "cell_type": "code",
      "source": [
        "(X_train, y_train), (X_test, y_test) = cifar10.load_data()\n",
        "print(\"X_train Size :\",X_train.shape)\n",
        "print(\"X_test Size : \",X_test.shape)\n",
        "print(y_train.shape)"
      ],
      "execution_count": 3,
      "outputs": [
        {
          "output_type": "stream",
          "text": [
            "Downloading data from https://www.cs.toronto.edu/~kriz/cifar-10-python.tar.gz\n",
            "170500096/170498071 [==============================] - 22s 0us/step\n",
            "X_train Size : (50000, 32, 32, 3)\n",
            "X_test Size :  (10000, 32, 32, 3)\n",
            "(50000, 1)\n"
          ],
          "name": "stdout"
        }
      ]
    },
    {
      "metadata": {
        "id": "wszVzhBvftFn",
        "colab_type": "code",
        "colab": {
          "base_uri": "https://localhost:8080/",
          "height": 34
        },
        "outputId": "d7ce2680-9ed0-4923-d27f-eef734ca8dbb"
      },
      "cell_type": "code",
      "source": [
        "num_classes=10\n",
        "epoch=100\n",
        "\n",
        "print(\"Size of train, validation and test labels: \", y_train.shape, y_test.shape) "
      ],
      "execution_count": 4,
      "outputs": [
        {
          "output_type": "stream",
          "text": [
            "Size of train, validation and test labels:  (50000, 1) (10000, 1)\n"
          ],
          "name": "stdout"
        }
      ]
    },
    {
      "metadata": {
        "id": "wDm__SgKftSZ",
        "colab_type": "code",
        "colab": {}
      },
      "cell_type": "code",
      "source": [
        "X_train = X_train.astype('float32')\n",
        "X_test = X_test.astype('float32')\n",
        "X_train /= 255\n",
        "X_test /= 255"
      ],
      "execution_count": 0,
      "outputs": []
    },
    {
      "metadata": {
        "id": "po0RdbA5f-TC",
        "colab_type": "code",
        "colab": {
          "base_uri": "https://localhost:8080/",
          "height": 248
        },
        "outputId": "c81b3e4f-195a-4148-c62e-43f883d29f4c"
      },
      "cell_type": "code",
      "source": [
        "kfold = StratifiedKFold(n_splits=5, shuffle=True, random_state=0)\n",
        "scores = []\n",
        "input_dim=X_train.shape[1:]\n",
        "for train_index, val_index in kfold.split(X_train, y_train):\n",
        "  print(\"___________________________________________________________________________________________________________________\")\n",
        "  trainx=X_train[train_index]\n",
        "  trainy=y_train[train_index]\n",
        "  valx=X_train[val_index]\n",
        "  valy=y_train[val_index]\n",
        "  trainy = keras.utils.to_categorical(trainy, num_classes)\n",
        "  valy= keras.utils.to_categorical(valy, num_classes)\n",
        "  \n",
        "  model = Sequential()\n",
        "  model.add(Conv2D(64, (3, 3), padding='same', input_shape=input_dim, activation='relu'))\n",
        "  model.add(MaxPooling2D(pool_size=(2,2), padding='same'))\n",
        "  model.add(Conv2D(128, (3,3), padding='same', activation='relu'))\n",
        "  model.add(MaxPooling2D(pool_size=(2, 2), padding='same'))\n",
        "  model.add(Dropout(0.25))\n",
        "  model.add(Conv2D(128, (3, 3), padding='same', activation='relu'))\n",
        "  model.add(MaxPooling2D(pool_size=(2, 2)))\n",
        "  model.add(Dropout(0.25))\n",
        "  model.add(Flatten())\n",
        "  model.add(Dense(800, activation='relu'))\n",
        "  model.add(Dense(100, activation='relu'))\n",
        "  model.add(Dense(num_classes, activation='softmax'))\n",
        "\n",
        "  opt = optimizers.rmsprop(lr=0.0001, decay=1e-6)\n",
        "\n",
        "  model.compile(loss='categorical_crossentropy',\n",
        "              optimizer=opt,\n",
        "              metrics=['accuracy'])\n",
        "  \n",
        "  datagen = ImageDataGenerator(featurewise_center=False,samplewise_center=False,featurewise_std_normalization=False,samplewise_std_normalization=False, zca_whitening=False,\n",
        "        zca_epsilon=1e-06, rotation_range=10,width_shift_range=0.1, height_shift_range=0.2, shear_range=0., zoom_range=0.,channel_shift_range=0., fill_mode='nearest',\n",
        "        cval=0.,\n",
        "        horizontal_flip=True,\n",
        "        vertical_flip=False,\n",
        "        rescale=None,\n",
        "        preprocessing_function=None,\n",
        "        data_format=None,\n",
        "        validation_split=0)\n",
        "\n",
        "  datagen.fit(trainx)\n",
        "  \n",
        "  model.fit_generator(datagen.flow(trainx, trainy), steps_per_epoch=1000, epochs=100, validation_data=(valx, valy))\n",
        "  score = model.evaluate(valx, valy, verbose=0) \n",
        "  scores.append(score[1])\n"
      ],
      "execution_count": 0,
      "outputs": [
        {
          "output_type": "stream",
          "text": [
            "___________________________________________________________________________________________________________________\n",
            "WARNING:tensorflow:From /usr/local/lib/python3.6/dist-packages/tensorflow/python/framework/op_def_library.py:263: colocate_with (from tensorflow.python.framework.ops) is deprecated and will be removed in a future version.\n",
            "Instructions for updating:\n",
            "Colocations handled automatically by placer.\n",
            "WARNING:tensorflow:From /usr/local/lib/python3.6/dist-packages/keras/backend/tensorflow_backend.py:3445: calling dropout (from tensorflow.python.ops.nn_ops) with keep_prob is deprecated and will be removed in a future version.\n",
            "Instructions for updating:\n",
            "Please use `rate` instead of `keep_prob`. Rate should be set to `rate = 1 - keep_prob`.\n",
            "WARNING:tensorflow:From /usr/local/lib/python3.6/dist-packages/tensorflow/python/ops/math_ops.py:3066: to_int32 (from tensorflow.python.ops.math_ops) is deprecated and will be removed in a future version.\n",
            "Instructions for updating:\n",
            "Use tf.cast instead.\n",
            "Epoch 1/100\n",
            " 966/1000 [===========================>..] - ETA: 1s - loss: 1.9067 - acc: 0.2987"
          ],
          "name": "stdout"
        }
      ]
    },
    {
      "metadata": {
        "id": "PjkW--T4jVDs",
        "colab_type": "code",
        "colab": {}
      },
      "cell_type": "code",
      "source": [
        "Print(\"Overall validation accuracy:\", sum(scores)/5)\n",
        "\n",
        "score = model.evaluate(test_X, test_Y, verbose=0) \n",
        "print('Test score:', score[0]) \n",
        "print('Test accuracy:', score[1])\n"
      ],
      "execution_count": 0,
      "outputs": []
    }
  ]
}