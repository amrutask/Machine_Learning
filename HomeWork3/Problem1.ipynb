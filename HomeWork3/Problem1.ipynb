{
  "nbformat": 4,
  "nbformat_minor": 0,
  "metadata": {
    "colab": {
      "name": "Problem1.ipynb",
      "version": "0.3.2",
      "provenance": [],
      "collapsed_sections": [],
      "include_colab_link": true
    },
    "kernelspec": {
      "name": "python3",
      "display_name": "Python 3"
    },
    "accelerator": "GPU"
  },
  "cells": [
    {
      "cell_type": "markdown",
      "metadata": {
        "id": "view-in-github",
        "colab_type": "text"
      },
      "source": [
        "<a href=\"https://colab.research.google.com/github/amrutask/Machine_Learning/blob/master/HomeWork3/Problem1.ipynb\" target=\"_parent\"><img src=\"https://colab.research.google.com/assets/colab-badge.svg\" alt=\"Open In Colab\"/></a>"
      ]
    },
    {
      "metadata": {
        "id": "bYstexfv7_mm",
        "colab_type": "code",
        "colab": {
          "base_uri": "https://localhost:8080/",
          "height": 210
        },
        "outputId": "e1aacdf1-ee97-4f84-85e8-ba1fe5605a28"
      },
      "cell_type": "code",
      "source": [
        "!wget --no-check-certificate \\\n",
        "    https://storage.googleapis.com/mledu-datasets/cats_and_dogs_filtered.zip \\\n",
        "    -O /tmp/cats_and_dogs_filtered.zip"
      ],
      "execution_count": 2,
      "outputs": [
        {
          "output_type": "stream",
          "text": [
            "--2019-04-17 15:37:07--  https://storage.googleapis.com/mledu-datasets/cats_and_dogs_filtered.zip\n",
            "Resolving storage.googleapis.com (storage.googleapis.com)... 173.194.193.128, 2607:f8b0:4001:c14::80\n",
            "Connecting to storage.googleapis.com (storage.googleapis.com)|173.194.193.128|:443... connected.\n",
            "HTTP request sent, awaiting response... 200 OK\n",
            "Length: 68606236 (65M) [application/zip]\n",
            "Saving to: ‘/tmp/cats_and_dogs_filtered.zip’\n",
            "\n",
            "/tmp/cats_and_dogs_ 100%[===================>]  65.43M   205MB/s    in 0.3s    \n",
            "\n",
            "2019-04-17 15:37:07 (205 MB/s) - ‘/tmp/cats_and_dogs_filtered.zip’ saved [68606236/68606236]\n",
            "\n"
          ],
          "name": "stdout"
        }
      ]
    },
    {
      "metadata": {
        "id": "S0Ux9KYT8Zgq",
        "colab_type": "code",
        "colab": {}
      },
      "cell_type": "code",
      "source": [
        "import os\n",
        "import zipfile\n",
        "\n",
        "local_zip = '/tmp/cats_and_dogs_filtered.zip'\n",
        "zip_ref = zipfile.ZipFile(local_zip, 'r')\n",
        "zip_ref.extractall('/tmp')\n",
        "zip_ref.close()"
      ],
      "execution_count": 0,
      "outputs": []
    },
    {
      "metadata": {
        "id": "4N8pSqoS8eDq",
        "colab_type": "code",
        "colab": {}
      },
      "cell_type": "code",
      "source": [
        "base_dir = '/tmp/cats_and_dogs_filtered'\n",
        "train_dir = os.path.join(base_dir, 'train')\n",
        "validation_dir = os.path.join(base_dir, 'validation')\n",
        "\n",
        "# Directory with our training cat pictures\n",
        "train_cats_dir = os.path.join(train_dir, 'cats')\n",
        "\n",
        "# Directory with our training dog pictures\n",
        "train_dogs_dir = os.path.join(train_dir, 'dogs')\n",
        "\n",
        "# Directory with our validation cat pictures\n",
        "validation_cats_dir = os.path.join(validation_dir, 'cats')\n",
        "\n",
        "# Directory with our validation dog pictures\n",
        "validation_dogs_dir = os.path.join(validation_dir, 'dogs')"
      ],
      "execution_count": 0,
      "outputs": []
    },
    {
      "metadata": {
        "id": "SF_SvGQh8lFo",
        "colab_type": "code",
        "colab": {
          "base_uri": "https://localhost:8080/",
          "height": 142
        },
        "outputId": "a1472eb2-e22f-45a0-988e-48d4375ee31d"
      },
      "cell_type": "code",
      "source": [
        "from keras.applications import VGG19\n",
        "\n",
        "conv_base = VGG19(\n",
        "    weights='imagenet', \n",
        "    include_top=False, \n",
        "    input_shape=(150, 150, 3))"
      ],
      "execution_count": 5,
      "outputs": [
        {
          "output_type": "stream",
          "text": [
            "Using TensorFlow backend.\n"
          ],
          "name": "stderr"
        },
        {
          "output_type": "stream",
          "text": [
            "WARNING:tensorflow:From /usr/local/lib/python3.6/dist-packages/tensorflow/python/framework/op_def_library.py:263: colocate_with (from tensorflow.python.framework.ops) is deprecated and will be removed in a future version.\n",
            "Instructions for updating:\n",
            "Colocations handled automatically by placer.\n",
            "Downloading data from https://github.com/fchollet/deep-learning-models/releases/download/v0.1/vgg19_weights_tf_dim_ordering_tf_kernels_notop.h5\n",
            "80142336/80134624 [==============================] - 1s 0us/step\n"
          ],
          "name": "stdout"
        }
      ]
    },
    {
      "metadata": {
        "id": "o-NIW_h38x4l",
        "colab_type": "code",
        "colab": {}
      },
      "cell_type": "code",
      "source": [
        "conv_base.trainable = False"
      ],
      "execution_count": 0,
      "outputs": []
    },
    {
      "metadata": {
        "id": "o4I9lc4B84Be",
        "colab_type": "code",
        "colab": {}
      },
      "cell_type": "code",
      "source": [
        "from keras import layers\n",
        "from keras import models\n",
        "from keras import optimizers\n",
        "\n",
        "model = models.Sequential()\n",
        "model.add(conv_base)\n",
        "model.add(layers.Flatten())\n",
        "model.add(layers.Dense(256, activation='relu'))\n",
        "# no dropout\n",
        "model.add(layers.Dense(1, activation='sigmoid'))"
      ],
      "execution_count": 0,
      "outputs": []
    },
    {
      "metadata": {
        "id": "AD8cF2nH88Pu",
        "colab_type": "code",
        "colab": {
          "base_uri": "https://localhost:8080/",
          "height": 1108
        },
        "outputId": "bab36dc8-2eb1-4a49-ad47-218f50ab5854"
      },
      "cell_type": "code",
      "source": [
        "from keras.preprocessing.image import ImageDataGenerator\n",
        "from keras import optimizers\n",
        "\n",
        "# data augmentation\n",
        "\n",
        "train_datagen = ImageDataGenerator(\n",
        "    rescale=1./255, \n",
        "    rotation_range=40,\n",
        "    width_shift_range=0.2,\n",
        "    height_shift_range=0.2,\n",
        "    shear_range=0.2,\n",
        "    zoom_range=0.2,\n",
        "    horizontal_flip=True,\n",
        "    fill_mode='nearest'\n",
        ")\n",
        "\n",
        "train_generator = train_datagen.flow_from_directory(\n",
        "    train_dir,\n",
        "    target_size=(150, 150),\n",
        "    batch_size=20,\n",
        "    class_mode='binary')\n",
        "\n",
        "validation_datagen = ImageDataGenerator(rescale=1./255)\n",
        "\n",
        "validation_generator = validation_datagen.flow_from_directory(\n",
        "    validation_dir,\n",
        "    target_size=(150, 150),\n",
        "    batch_size=20,\n",
        "    class_mode='binary')\n",
        "\n",
        "# compile model\n",
        "\n",
        "model.compile(\n",
        "    loss='binary_crossentropy', \n",
        "    optimizer=optimizers.RMSprop(lr=1e-5), \n",
        "    metrics=['acc'])\n",
        "\n",
        "# train\n",
        "\n",
        "history = model.fit_generator(\n",
        "    train_generator,\n",
        "    steps_per_epoch=100,\n",
        "    epochs=30,\n",
        "    validation_data=validation_generator,\n",
        "    validation_steps=50\n",
        ")"
      ],
      "execution_count": 15,
      "outputs": [
        {
          "output_type": "stream",
          "text": [
            "Found 2000 images belonging to 2 classes.\n",
            "Found 1000 images belonging to 2 classes.\n",
            "Epoch 1/30\n",
            "100/100 [==============================] - 20s 198ms/step - loss: 0.6421 - acc: 0.6350 - val_loss: 0.5604 - val_acc: 0.7440\n",
            "Epoch 2/30\n",
            "100/100 [==============================] - 18s 176ms/step - loss: 0.5667 - acc: 0.7130 - val_loss: 0.5058 - val_acc: 0.7580\n",
            "Epoch 3/30\n",
            "100/100 [==============================] - 18s 177ms/step - loss: 0.5391 - acc: 0.7470 - val_loss: 0.4547 - val_acc: 0.7850\n",
            "Epoch 4/30\n",
            "100/100 [==============================] - 18s 178ms/step - loss: 0.4995 - acc: 0.7780 - val_loss: 0.4167 - val_acc: 0.8140\n",
            "Epoch 5/30\n",
            "100/100 [==============================] - 19s 189ms/step - loss: 0.4824 - acc: 0.7860 - val_loss: 0.3976 - val_acc: 0.8200\n",
            "Epoch 6/30\n",
            "100/100 [==============================] - 18s 176ms/step - loss: 0.4596 - acc: 0.7980 - val_loss: 0.3912 - val_acc: 0.8160\n",
            "Epoch 7/30\n",
            "100/100 [==============================] - 18s 177ms/step - loss: 0.4412 - acc: 0.7960 - val_loss: 0.3734 - val_acc: 0.8440\n",
            "Epoch 8/30\n",
            "100/100 [==============================] - 18s 176ms/step - loss: 0.4383 - acc: 0.8075 - val_loss: 0.3529 - val_acc: 0.8390\n",
            "Epoch 9/30\n",
            "100/100 [==============================] - 18s 179ms/step - loss: 0.4367 - acc: 0.7990 - val_loss: 0.3489 - val_acc: 0.8500\n",
            "Epoch 10/30\n",
            "100/100 [==============================] - 18s 184ms/step - loss: 0.4266 - acc: 0.8225 - val_loss: 0.3602 - val_acc: 0.8360\n",
            "Epoch 11/30\n",
            "100/100 [==============================] - 18s 177ms/step - loss: 0.4029 - acc: 0.8210 - val_loss: 0.3355 - val_acc: 0.8540\n",
            "Epoch 12/30\n",
            "100/100 [==============================] - 18s 177ms/step - loss: 0.4149 - acc: 0.8130 - val_loss: 0.3203 - val_acc: 0.8590\n",
            "Epoch 13/30\n",
            "100/100 [==============================] - 18s 177ms/step - loss: 0.3979 - acc: 0.8255 - val_loss: 0.3140 - val_acc: 0.8590\n",
            "Epoch 14/30\n",
            "100/100 [==============================] - 19s 190ms/step - loss: 0.3898 - acc: 0.8295 - val_loss: 0.3105 - val_acc: 0.8700\n",
            "Epoch 15/30\n",
            "100/100 [==============================] - 18s 182ms/step - loss: 0.3848 - acc: 0.8305 - val_loss: 0.3199 - val_acc: 0.8590\n",
            "Epoch 16/30\n",
            "100/100 [==============================] - 18s 182ms/step - loss: 0.3880 - acc: 0.8275 - val_loss: 0.3053 - val_acc: 0.8680\n",
            "Epoch 17/30\n",
            "100/100 [==============================] - 18s 176ms/step - loss: 0.3717 - acc: 0.8370 - val_loss: 0.2987 - val_acc: 0.8770\n",
            "Epoch 18/30\n",
            "100/100 [==============================] - 19s 188ms/step - loss: 0.3596 - acc: 0.8425 - val_loss: 0.3059 - val_acc: 0.8700\n",
            "Epoch 19/30\n",
            "100/100 [==============================] - 19s 187ms/step - loss: 0.3610 - acc: 0.8480 - val_loss: 0.3005 - val_acc: 0.8720\n",
            "Epoch 20/30\n",
            "100/100 [==============================] - 19s 194ms/step - loss: 0.3817 - acc: 0.8280 - val_loss: 0.2961 - val_acc: 0.8730\n",
            "Epoch 21/30\n",
            "100/100 [==============================] - 18s 177ms/step - loss: 0.3611 - acc: 0.8440 - val_loss: 0.2895 - val_acc: 0.8760\n",
            "Epoch 22/30\n",
            "100/100 [==============================] - 18s 179ms/step - loss: 0.3597 - acc: 0.8440 - val_loss: 0.2935 - val_acc: 0.8750\n",
            "Epoch 23/30\n",
            "100/100 [==============================] - 19s 188ms/step - loss: 0.3551 - acc: 0.8550 - val_loss: 0.2945 - val_acc: 0.8720\n",
            "Epoch 24/30\n",
            "100/100 [==============================] - 18s 177ms/step - loss: 0.3592 - acc: 0.8410 - val_loss: 0.2877 - val_acc: 0.8760\n",
            "Epoch 25/30\n",
            "100/100 [==============================] - 18s 177ms/step - loss: 0.3492 - acc: 0.8460 - val_loss: 0.2868 - val_acc: 0.8740\n",
            "Epoch 26/30\n",
            "100/100 [==============================] - 18s 177ms/step - loss: 0.3522 - acc: 0.8440 - val_loss: 0.2901 - val_acc: 0.8710\n",
            "Epoch 27/30\n",
            "100/100 [==============================] - 19s 186ms/step - loss: 0.3460 - acc: 0.8535 - val_loss: 0.2882 - val_acc: 0.8750\n",
            "Epoch 28/30\n",
            "100/100 [==============================] - 18s 178ms/step - loss: 0.3553 - acc: 0.8365 - val_loss: 0.2835 - val_acc: 0.8760\n",
            "Epoch 29/30\n",
            "100/100 [==============================] - 18s 177ms/step - loss: 0.3599 - acc: 0.8400 - val_loss: 0.2784 - val_acc: 0.8770\n",
            "Epoch 30/30\n",
            "100/100 [==============================] - 21s 205ms/step - loss: 0.3468 - acc: 0.8435 - val_loss: 0.2732 - val_acc: 0.8850\n"
          ],
          "name": "stdout"
        }
      ]
    },
    {
      "metadata": {
        "id": "DGnRGg779AKB",
        "colab_type": "code",
        "colab": {
          "base_uri": "https://localhost:8080/",
          "height": 545
        },
        "outputId": "555647aa-5fdd-4add-d834-99fff8e33f96"
      },
      "cell_type": "code",
      "source": [
        "%matplotlib inline\n",
        "\n",
        "import matplotlib.pyplot as plt\n",
        "\n",
        "acc = history.history['acc']\n",
        "val_acc = history.history['val_acc']\n",
        "\n",
        "loss = history.history['loss']\n",
        "val_loss = history.history['val_loss']\n",
        "\n",
        "epochs = range(1, len(acc) + 1)\n",
        "\n",
        "# training and validation accuracy\n",
        "\n",
        "plt.plot(epochs, acc, 'bo', label='training acc')\n",
        "plt.plot(epochs, val_acc, 'b', label='validation acc')\n",
        "plt.title('training and validation accuracy')\n",
        "plt.legend()\n",
        "\n",
        "plt.figure()\n",
        "\n",
        "# training and validation loss\n",
        "\n",
        "plt.plot(epochs, loss, 'bo', label='training loss')\n",
        "plt.plot(epochs, val_loss, 'b', label='validation loss')\n",
        "plt.title('training and validation loss')\n",
        "plt.legend()\n",
        "\n",
        "plt.show()"
      ],
      "execution_count": 16,
      "outputs": [
        {
          "output_type": "display_data",
          "data": {
            "image/png": "[encoded data removed]",
            "text/plain": [
              "<Figure size 432x288 with 1 Axes>"
            ]
          },
          "metadata": {
            "tags": []
          }
        },
        {
          "output_type": "display_data",
          "data": {
            "image/png": "[encoded data removed]",
            "text/plain": [
              "<Figure size 432x288 with 1 Axes>"
            ]
          },
          "metadata": {
            "tags": []
          }
        }
      ]
    },
    {
      "metadata": {
        "id": "kPtG8vRA_UU4",
        "colab_type": "code",
        "colab": {}
      },
      "cell_type": "code",
      "source": [
        "val_loss, val_acc = model.evaluate_generator(validation_generator, steps=50)"
      ],
      "execution_count": 0,
      "outputs": []
    },
    {
      "metadata": {
        "id": "ePxEfADf_VH-",
        "colab_type": "code",
        "colab": {
          "base_uri": "https://localhost:8080/",
          "height": 52
        },
        "outputId": "c9d7849d-98b2-4ce3-ef36-63926e2d559e"
      },
      "cell_type": "code",
      "source": [
        "print(\"Validation loss:\", val_loss)\n",
        "print(\"Validation accuracy:\", val_acc)"
      ],
      "execution_count": 12,
      "outputs": [
        {
          "output_type": "stream",
          "text": [
            "Validation loss: 0.25241120509803294\n",
            "Validation accuracy: 0.887000002861023\n"
          ],
          "name": "stdout"
        }
      ]
    }
  ]
}