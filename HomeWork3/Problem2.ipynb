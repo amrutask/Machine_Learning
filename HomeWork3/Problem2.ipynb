{
  "nbformat": 4,
  "nbformat_minor": 0,
  "metadata": {
    "colab": {
      "name": "Problem2.ipynb",
      "version": "0.3.2",
      "provenance": [],
      "collapsed_sections": [],
      "include_colab_link": true
    },
    "kernelspec": {
      "name": "python3",
      "display_name": "Python 3"
    },
    "accelerator": "GPU"
  },
  "cells": [
    {
      "cell_type": "markdown",
      "metadata": {
        "id": "view-in-github",
        "colab_type": "text"
      },
      "source": [
        "<a href=\"https://colab.research.google.com/github/amrutask/Machine_Learning/blob/master/HomeWork3/Problem2.ipynb\" target=\"_parent\"><img src=\"https://colab.research.google.com/assets/colab-badge.svg\" alt=\"Open In Colab\"/></a>"
      ]
    },
    {
      "metadata": {
        "id": "G4w05v7PBfE9",
        "colab_type": "code",
        "colab": {
          "base_uri": "https://localhost:8080/",
          "height": 210
        },
        "outputId": "7aa7422e-2643-40a0-db49-06ce39fbfa3c"
      },
      "cell_type": "code",
      "source": [
        "!wget --no-check-certificate \\\n",
        "    https://storage.googleapis.com/mledu-datasets/cats_and_dogs_filtered.zip \\\n",
        "    -O /tmp/cats_and_dogs_filtered.zip"
      ],
      "execution_count": 1,
      "outputs": [
        {
          "output_type": "stream",
          "text": [
            "--2019-04-17 16:00:12--  https://storage.googleapis.com/mledu-datasets/cats_and_dogs_filtered.zip\n",
            "Resolving storage.googleapis.com (storage.googleapis.com)... 108.177.111.128, 2607:f8b0:4001:c09::80\n",
            "Connecting to storage.googleapis.com (storage.googleapis.com)|108.177.111.128|:443... connected.\n",
            "HTTP request sent, awaiting response... 200 OK\n",
            "Length: 68606236 (65M) [application/zip]\n",
            "Saving to: ‘/tmp/cats_and_dogs_filtered.zip’\n",
            "\n",
            "/tmp/cats_and_dogs_ 100%[===================>]  65.43M  78.9MB/s    in 0.8s    \n",
            "\n",
            "2019-04-17 16:00:13 (78.9 MB/s) - ‘/tmp/cats_and_dogs_filtered.zip’ saved [68606236/68606236]\n",
            "\n"
          ],
          "name": "stdout"
        }
      ]
    },
    {
      "metadata": {
        "id": "Y98Mo3PBBlaM",
        "colab_type": "code",
        "colab": {}
      },
      "cell_type": "code",
      "source": [
        "import os\n",
        "import zipfile\n",
        "\n",
        "local_zip = '/tmp/cats_and_dogs_filtered.zip'\n",
        "zip_ref = zipfile.ZipFile(local_zip, 'r')\n",
        "zip_ref.extractall('/tmp')\n",
        "zip_ref.close()"
      ],
      "execution_count": 0,
      "outputs": []
    },
    {
      "metadata": {
        "id": "ZSc5Z49vBpdB",
        "colab_type": "code",
        "colab": {}
      },
      "cell_type": "code",
      "source": [
        "base_dir = '/tmp/cats_and_dogs_filtered'\n",
        "train_dir = os.path.join(base_dir, 'train')\n",
        "validation_dir = os.path.join(base_dir, 'validation')\n",
        "\n",
        "# Directory with our training cat pictures\n",
        "train_cats_dir = os.path.join(train_dir, 'cats')\n",
        "\n",
        "# Directory with our training dog pictures\n",
        "train_dogs_dir = os.path.join(train_dir, 'dogs')\n",
        "\n",
        "# Directory with our validation cat pictures\n",
        "validation_cats_dir = os.path.join(validation_dir, 'cats')\n",
        "\n",
        "# Directory with our validation dog pictures\n",
        "validation_dogs_dir = os.path.join(validation_dir, 'dogs')"
      ],
      "execution_count": 0,
      "outputs": []
    },
    {
      "metadata": {
        "id": "YjjUUzQTBsBU",
        "colab_type": "code",
        "colab": {}
      },
      "cell_type": "code",
      "source": [
        "from keras.applications import VGG19\n",
        "\n",
        "conv_base = VGG19(\n",
        "    weights='imagenet', \n",
        "    include_top=False, \n",
        "    input_shape=(150, 150, 3))"
      ],
      "execution_count": 0,
      "outputs": []
    },
    {
      "metadata": {
        "id": "1fyUdVHwB3k0",
        "colab_type": "code",
        "colab": {}
      },
      "cell_type": "code",
      "source": [
        "conv_base.trainable = True\n",
        "\n",
        "set_trainable = False\n",
        "for layer in conv_base.layers:\n",
        "  if layer.name == 'block5_conv1':\n",
        "    set_trainable = True\n",
        "  if set_trainable:\n",
        "    layer.trainable = True\n",
        "  else:\n",
        "    layer.trainable = False"
      ],
      "execution_count": 0,
      "outputs": []
    },
    {
      "metadata": {
        "id": "esujmDA-B5IU",
        "colab_type": "code",
        "colab": {}
      },
      "cell_type": "code",
      "source": [
        "from keras import layers\n",
        "from keras import models\n",
        "from keras import optimizers\n",
        "\n",
        "model = models.Sequential()\n",
        "model.add(conv_base)\n",
        "model.add(layers.Flatten())\n",
        "model.add(layers.Dense(256, activation='relu'))\n",
        "#model.add(layers.Dropout(0.1))\n",
        "model.add(layers.Dense(1, activation='sigmoid'))"
      ],
      "execution_count": 0,
      "outputs": []
    },
    {
      "metadata": {
        "id": "ykX63vaNCD_I",
        "colab_type": "code",
        "colab": {
          "base_uri": "https://localhost:8080/",
          "height": 52
        },
        "outputId": "e0c47364-c744-4f53-802e-8f112c06ed2c"
      },
      "cell_type": "code",
      "source": [
        "from keras.preprocessing.image import ImageDataGenerator\n",
        "from keras import optimizers\n",
        "\n",
        "# data augmentation\n",
        "\n",
        "train_datagen = ImageDataGenerator(\n",
        "    rescale=1./255, \n",
        "    rotation_range=40,\n",
        "    width_shift_range=0.2,\n",
        "    height_shift_range=0.2,\n",
        "    shear_range=0.2,\n",
        "    zoom_range=0.2,\n",
        "    horizontal_flip=True,\n",
        "    fill_mode='nearest'\n",
        ")\n",
        "\n",
        "train_generator = train_datagen.flow_from_directory(\n",
        "    train_dir,\n",
        "    target_size=(150, 150),\n",
        "    batch_size=20,\n",
        "    class_mode='binary')\n",
        "\n",
        "validation_datagen = ImageDataGenerator(rescale=1./255)\n",
        "\n",
        "validation_generator = validation_datagen.flow_from_directory(\n",
        "    validation_dir,\n",
        "    target_size=(150, 150),\n",
        "    batch_size=20,\n",
        "    class_mode='binary')\n"
      ],
      "execution_count": 13,
      "outputs": [
        {
          "output_type": "stream",
          "text": [
            "Found 2000 images belonging to 2 classes.\n",
            "Found 1000 images belonging to 2 classes.\n"
          ],
          "name": "stdout"
        }
      ]
    },
    {
      "metadata": {
        "id": "zYD2MEXJCKHV",
        "colab_type": "code",
        "colab": {
          "base_uri": "https://localhost:8080/",
          "height": 3537
        },
        "outputId": "b9421b5a-5377-4338-f7da-f4639227ec6d"
      },
      "cell_type": "code",
      "source": [
        "# compile model\n",
        "\n",
        "model.compile(\n",
        "    loss='binary_crossentropy',\n",
        "    #\n",
        "    # choose a smaller learning rate\n",
        "    #\n",
        "    optimizer=optimizers.RMSprop(lr=1e-5), \n",
        "    metrics=['acc'])\n",
        "\n",
        "# train\n",
        "\n",
        "history = model.fit_generator(\n",
        "    train_generator,\n",
        "    steps_per_epoch=100,\n",
        "    epochs=100,\n",
        "    validation_data=validation_generator,\n",
        "    validation_steps=50)"
      ],
      "execution_count": 14,
      "outputs": [
        {
          "output_type": "stream",
          "text": [
            "Epoch 1/100\n",
            "100/100 [==============================] - 20s 203ms/step - loss: 0.5376 - acc: 0.7315 - val_loss: 0.3314 - val_acc: 0.8690\n",
            "Epoch 2/100\n",
            "100/100 [==============================] - 19s 185ms/step - loss: 0.3620 - acc: 0.8375 - val_loss: 0.2529 - val_acc: 0.8910\n",
            "Epoch 3/100\n",
            "100/100 [==============================] - 20s 195ms/step - loss: 0.3131 - acc: 0.8710 - val_loss: 0.2677 - val_acc: 0.8900\n",
            "Epoch 4/100\n",
            "100/100 [==============================] - 18s 183ms/step - loss: 0.2779 - acc: 0.8780 - val_loss: 0.2620 - val_acc: 0.8950\n",
            "Epoch 5/100\n",
            "100/100 [==============================] - 18s 184ms/step - loss: 0.2501 - acc: 0.8925 - val_loss: 0.2010 - val_acc: 0.9110\n",
            "Epoch 6/100\n",
            "100/100 [==============================] - 18s 185ms/step - loss: 0.2584 - acc: 0.8870 - val_loss: 0.3577 - val_acc: 0.8570\n",
            "Epoch 7/100\n",
            "100/100 [==============================] - 20s 197ms/step - loss: 0.2360 - acc: 0.9015 - val_loss: 0.1980 - val_acc: 0.9230\n",
            "Epoch 8/100\n",
            "100/100 [==============================] - 19s 185ms/step - loss: 0.1996 - acc: 0.9175 - val_loss: 0.1799 - val_acc: 0.9320\n",
            "Epoch 9/100\n",
            "100/100 [==============================] - 18s 184ms/step - loss: 0.2105 - acc: 0.9045 - val_loss: 0.2564 - val_acc: 0.8970\n",
            "Epoch 10/100\n",
            "100/100 [==============================] - 18s 184ms/step - loss: 0.1984 - acc: 0.9170 - val_loss: 0.1712 - val_acc: 0.9330\n",
            "Epoch 11/100\n",
            "100/100 [==============================] - 19s 192ms/step - loss: 0.1850 - acc: 0.9290 - val_loss: 0.1819 - val_acc: 0.9250\n",
            "Epoch 12/100\n",
            "100/100 [==============================] - 19s 192ms/step - loss: 0.1813 - acc: 0.9205 - val_loss: 0.2490 - val_acc: 0.9100\n",
            "Epoch 13/100\n",
            "100/100 [==============================] - 19s 191ms/step - loss: 0.1667 - acc: 0.9365 - val_loss: 0.1757 - val_acc: 0.9400\n",
            "Epoch 14/100\n",
            "100/100 [==============================] - 18s 185ms/step - loss: 0.1748 - acc: 0.9300 - val_loss: 0.1768 - val_acc: 0.9310\n",
            "Epoch 15/100\n",
            "100/100 [==============================] - 18s 184ms/step - loss: 0.1537 - acc: 0.9385 - val_loss: 0.1741 - val_acc: 0.9380\n",
            "Epoch 16/100\n",
            "100/100 [==============================] - 19s 194ms/step - loss: 0.1491 - acc: 0.9410 - val_loss: 0.2149 - val_acc: 0.9270\n",
            "Epoch 17/100\n",
            "100/100 [==============================] - 18s 185ms/step - loss: 0.1395 - acc: 0.9345 - val_loss: 0.1691 - val_acc: 0.9430\n",
            "Epoch 18/100\n",
            "100/100 [==============================] - 18s 185ms/step - loss: 0.1364 - acc: 0.9395 - val_loss: 0.2316 - val_acc: 0.9270\n",
            "Epoch 19/100\n",
            "100/100 [==============================] - 18s 184ms/step - loss: 0.1432 - acc: 0.9460 - val_loss: 0.2472 - val_acc: 0.9300\n",
            "Epoch 20/100\n",
            "100/100 [==============================] - 20s 197ms/step - loss: 0.1244 - acc: 0.9520 - val_loss: 0.1625 - val_acc: 0.9480\n",
            "Epoch 21/100\n",
            "100/100 [==============================] - 19s 185ms/step - loss: 0.1192 - acc: 0.9505 - val_loss: 0.1871 - val_acc: 0.9440\n",
            "Epoch 22/100\n",
            "100/100 [==============================] - 18s 185ms/step - loss: 0.1127 - acc: 0.9530 - val_loss: 0.1806 - val_acc: 0.9530\n",
            "Epoch 23/100\n",
            "100/100 [==============================] - 18s 184ms/step - loss: 0.1097 - acc: 0.9555 - val_loss: 0.1668 - val_acc: 0.9510\n",
            "Epoch 24/100\n",
            "100/100 [==============================] - 19s 193ms/step - loss: 0.1119 - acc: 0.9540 - val_loss: 0.1750 - val_acc: 0.9490\n",
            "Epoch 25/100\n",
            "100/100 [==============================] - 19s 185ms/step - loss: 0.0963 - acc: 0.9630 - val_loss: 0.2188 - val_acc: 0.9450\n",
            "Epoch 26/100\n",
            "100/100 [==============================] - 18s 185ms/step - loss: 0.1010 - acc: 0.9650 - val_loss: 0.1920 - val_acc: 0.9510\n",
            "Epoch 27/100\n",
            "100/100 [==============================] - 18s 185ms/step - loss: 0.0972 - acc: 0.9585 - val_loss: 0.1886 - val_acc: 0.9530\n",
            "Epoch 28/100\n",
            "100/100 [==============================] - 20s 201ms/step - loss: 0.1091 - acc: 0.9560 - val_loss: 0.1641 - val_acc: 0.9430\n",
            "Epoch 29/100\n",
            "100/100 [==============================] - 20s 196ms/step - loss: 0.0822 - acc: 0.9690 - val_loss: 0.1855 - val_acc: 0.9420\n",
            "Epoch 30/100\n",
            "100/100 [==============================] - 19s 186ms/step - loss: 0.0909 - acc: 0.9640 - val_loss: 0.3272 - val_acc: 0.9250\n",
            "Epoch 31/100\n",
            "100/100 [==============================] - 18s 184ms/step - loss: 0.0735 - acc: 0.9735 - val_loss: 0.2020 - val_acc: 0.9490\n",
            "Epoch 32/100\n",
            "100/100 [==============================] - 18s 184ms/step - loss: 0.0898 - acc: 0.9640 - val_loss: 0.1880 - val_acc: 0.9490\n",
            "Epoch 33/100\n",
            "100/100 [==============================] - 20s 196ms/step - loss: 0.0927 - acc: 0.9660 - val_loss: 0.2436 - val_acc: 0.9350\n",
            "Epoch 34/100\n",
            "100/100 [==============================] - 18s 184ms/step - loss: 0.0718 - acc: 0.9770 - val_loss: 0.1770 - val_acc: 0.9430\n",
            "Epoch 35/100\n",
            "100/100 [==============================] - 18s 184ms/step - loss: 0.0781 - acc: 0.9725 - val_loss: 0.1727 - val_acc: 0.9480\n",
            "Epoch 36/100\n",
            "100/100 [==============================] - 18s 184ms/step - loss: 0.0697 - acc: 0.9735 - val_loss: 0.3539 - val_acc: 0.9100\n",
            "Epoch 37/100\n",
            "100/100 [==============================] - 20s 196ms/step - loss: 0.0710 - acc: 0.9710 - val_loss: 0.1895 - val_acc: 0.9520\n",
            "Epoch 38/100\n",
            "100/100 [==============================] - 18s 184ms/step - loss: 0.0682 - acc: 0.9700 - val_loss: 0.2631 - val_acc: 0.9430\n",
            "Epoch 39/100\n",
            "100/100 [==============================] - 18s 184ms/step - loss: 0.0666 - acc: 0.9760 - val_loss: 0.2928 - val_acc: 0.9320\n",
            "Epoch 40/100\n",
            "100/100 [==============================] - 18s 185ms/step - loss: 0.0635 - acc: 0.9765 - val_loss: 0.1999 - val_acc: 0.9510\n",
            "Epoch 41/100\n",
            "100/100 [==============================] - 19s 192ms/step - loss: 0.0660 - acc: 0.9795 - val_loss: 0.3395 - val_acc: 0.9250\n",
            "Epoch 42/100\n",
            "100/100 [==============================] - 19s 187ms/step - loss: 0.0578 - acc: 0.9780 - val_loss: 0.2018 - val_acc: 0.9510\n",
            "Epoch 43/100\n",
            "100/100 [==============================] - 18s 184ms/step - loss: 0.0615 - acc: 0.9775 - val_loss: 0.2714 - val_acc: 0.9400\n",
            "Epoch 44/100\n",
            "100/100 [==============================] - 19s 187ms/step - loss: 0.0565 - acc: 0.9775 - val_loss: 0.2398 - val_acc: 0.9480\n",
            "Epoch 45/100\n",
            "100/100 [==============================] - 19s 193ms/step - loss: 0.0665 - acc: 0.9735 - val_loss: 0.4027 - val_acc: 0.9110\n",
            "Epoch 46/100\n",
            "100/100 [==============================] - 19s 194ms/step - loss: 0.0520 - acc: 0.9760 - val_loss: 0.3828 - val_acc: 0.9180\n",
            "Epoch 47/100\n",
            "100/100 [==============================] - 18s 185ms/step - loss: 0.0611 - acc: 0.9780 - val_loss: 0.2377 - val_acc: 0.9490\n",
            "Epoch 48/100\n",
            "100/100 [==============================] - 18s 184ms/step - loss: 0.0477 - acc: 0.9835 - val_loss: 0.2207 - val_acc: 0.9560\n",
            "Epoch 49/100\n",
            "100/100 [==============================] - 18s 184ms/step - loss: 0.0520 - acc: 0.9840 - val_loss: 0.2549 - val_acc: 0.9490\n",
            "Epoch 50/100\n",
            "100/100 [==============================] - 20s 197ms/step - loss: 0.0625 - acc: 0.9765 - val_loss: 0.2832 - val_acc: 0.9370\n",
            "Epoch 51/100\n",
            "100/100 [==============================] - 18s 184ms/step - loss: 0.0565 - acc: 0.9815 - val_loss: 0.2967 - val_acc: 0.9350\n",
            "Epoch 52/100\n",
            "100/100 [==============================] - 18s 184ms/step - loss: 0.0481 - acc: 0.9825 - val_loss: 0.2724 - val_acc: 0.9370\n",
            "Epoch 53/100\n",
            "100/100 [==============================] - 18s 184ms/step - loss: 0.0450 - acc: 0.9830 - val_loss: 0.2475 - val_acc: 0.9430\n",
            "Epoch 54/100\n",
            "100/100 [==============================] - 19s 193ms/step - loss: 0.0520 - acc: 0.9800 - val_loss: 0.2319 - val_acc: 0.9540\n",
            "Epoch 55/100\n",
            "100/100 [==============================] - 19s 185ms/step - loss: 0.0427 - acc: 0.9855 - val_loss: 0.2215 - val_acc: 0.9480\n",
            "Epoch 56/100\n",
            "100/100 [==============================] - 18s 185ms/step - loss: 0.0382 - acc: 0.9845 - val_loss: 0.2406 - val_acc: 0.9460\n",
            "Epoch 57/100\n",
            "100/100 [==============================] - 18s 184ms/step - loss: 0.0342 - acc: 0.9860 - val_loss: 0.2536 - val_acc: 0.9460\n",
            "Epoch 58/100\n",
            "100/100 [==============================] - 19s 186ms/step - loss: 0.0473 - acc: 0.9825 - val_loss: 0.2295 - val_acc: 0.9510\n",
            "Epoch 59/100\n",
            "100/100 [==============================] - 19s 192ms/step - loss: 0.0426 - acc: 0.9835 - val_loss: 0.2514 - val_acc: 0.9470\n",
            "Epoch 60/100\n",
            "100/100 [==============================] - 18s 184ms/step - loss: 0.0344 - acc: 0.9890 - val_loss: 0.2479 - val_acc: 0.9460\n",
            "Epoch 61/100\n",
            "100/100 [==============================] - 20s 199ms/step - loss: 0.0405 - acc: 0.9850 - val_loss: 0.2703 - val_acc: 0.9350\n",
            "Epoch 62/100\n",
            "100/100 [==============================] - 19s 191ms/step - loss: 0.0381 - acc: 0.9850 - val_loss: 0.2651 - val_acc: 0.9530\n",
            "Epoch 63/100\n",
            "100/100 [==============================] - 20s 196ms/step - loss: 0.0346 - acc: 0.9850 - val_loss: 0.2598 - val_acc: 0.9450\n",
            "Epoch 64/100\n",
            "100/100 [==============================] - 18s 184ms/step - loss: 0.0277 - acc: 0.9895 - val_loss: 0.5826 - val_acc: 0.9050\n",
            "Epoch 65/100\n",
            "100/100 [==============================] - 18s 184ms/step - loss: 0.0540 - acc: 0.9840 - val_loss: 0.2627 - val_acc: 0.9420\n",
            "Epoch 66/100\n",
            "100/100 [==============================] - 18s 184ms/step - loss: 0.0474 - acc: 0.9830 - val_loss: 0.3382 - val_acc: 0.9380\n",
            "Epoch 67/100\n",
            "100/100 [==============================] - 20s 197ms/step - loss: 0.0372 - acc: 0.9870 - val_loss: 0.3732 - val_acc: 0.9270\n",
            "Epoch 68/100\n",
            "100/100 [==============================] - 18s 184ms/step - loss: 0.0291 - acc: 0.9885 - val_loss: 0.4173 - val_acc: 0.9210\n",
            "Epoch 69/100\n",
            "100/100 [==============================] - 18s 184ms/step - loss: 0.0439 - acc: 0.9845 - val_loss: 0.4110 - val_acc: 0.9250\n",
            "Epoch 70/100\n",
            "100/100 [==============================] - 18s 184ms/step - loss: 0.0336 - acc: 0.9875 - val_loss: 0.3023 - val_acc: 0.9410\n",
            "Epoch 71/100\n",
            "100/100 [==============================] - 19s 191ms/step - loss: 0.0313 - acc: 0.9890 - val_loss: 0.2545 - val_acc: 0.9450\n",
            "Epoch 72/100\n",
            "100/100 [==============================] - 19s 187ms/step - loss: 0.0327 - acc: 0.9875 - val_loss: 0.3328 - val_acc: 0.9380\n",
            "Epoch 73/100\n",
            "100/100 [==============================] - 18s 185ms/step - loss: 0.0233 - acc: 0.9895 - val_loss: 0.2487 - val_acc: 0.9490\n",
            "Epoch 74/100\n",
            "100/100 [==============================] - 18s 184ms/step - loss: 0.0283 - acc: 0.9920 - val_loss: 0.4556 - val_acc: 0.9210\n",
            "Epoch 75/100\n",
            "100/100 [==============================] - 18s 185ms/step - loss: 0.0265 - acc: 0.9905 - val_loss: 0.2445 - val_acc: 0.9550\n",
            "Epoch 76/100\n",
            "100/100 [==============================] - 19s 194ms/step - loss: 0.0285 - acc: 0.9890 - val_loss: 0.3420 - val_acc: 0.9390\n",
            "Epoch 77/100\n",
            "100/100 [==============================] - 19s 185ms/step - loss: 0.0333 - acc: 0.9880 - val_loss: 0.2524 - val_acc: 0.9500\n",
            "Epoch 78/100\n",
            "100/100 [==============================] - 20s 201ms/step - loss: 0.0209 - acc: 0.9925 - val_loss: 0.2781 - val_acc: 0.9460\n",
            "Epoch 79/100\n",
            "100/100 [==============================] - 19s 185ms/step - loss: 0.0299 - acc: 0.9885 - val_loss: 0.2618 - val_acc: 0.9470\n",
            "Epoch 80/100\n",
            "100/100 [==============================] - 20s 198ms/step - loss: 0.0415 - acc: 0.9890 - val_loss: 0.2514 - val_acc: 0.9390\n",
            "Epoch 81/100\n",
            "100/100 [==============================] - 18s 184ms/step - loss: 0.0255 - acc: 0.9925 - val_loss: 0.3450 - val_acc: 0.9370\n",
            "Epoch 82/100\n",
            "100/100 [==============================] - 18s 184ms/step - loss: 0.0290 - acc: 0.9900 - val_loss: 0.2824 - val_acc: 0.9440\n",
            "Epoch 83/100\n",
            "100/100 [==============================] - 18s 184ms/step - loss: 0.0314 - acc: 0.9905 - val_loss: 0.2642 - val_acc: 0.9430\n",
            "Epoch 84/100\n",
            "100/100 [==============================] - 20s 196ms/step - loss: 0.0192 - acc: 0.9935 - val_loss: 0.3752 - val_acc: 0.9340\n",
            "Epoch 85/100\n",
            "100/100 [==============================] - 18s 185ms/step - loss: 0.0207 - acc: 0.9910 - val_loss: 0.3205 - val_acc: 0.9480\n",
            "Epoch 86/100\n",
            "100/100 [==============================] - 19s 185ms/step - loss: 0.0306 - acc: 0.9900 - val_loss: 0.4541 - val_acc: 0.9250\n",
            "Epoch 87/100\n",
            "100/100 [==============================] - 19s 185ms/step - loss: 0.0234 - acc: 0.9900 - val_loss: 0.3024 - val_acc: 0.9430\n",
            "Epoch 88/100\n",
            "100/100 [==============================] - 19s 189ms/step - loss: 0.0217 - acc: 0.9940 - val_loss: 0.2804 - val_acc: 0.9470\n",
            "Epoch 89/100\n",
            "100/100 [==============================] - 19s 189ms/step - loss: 0.0212 - acc: 0.9925 - val_loss: 0.2882 - val_acc: 0.9460\n",
            "Epoch 90/100\n",
            "100/100 [==============================] - 18s 184ms/step - loss: 0.0235 - acc: 0.9920 - val_loss: 0.4062 - val_acc: 0.9320\n",
            "Epoch 91/100\n",
            "100/100 [==============================] - 18s 185ms/step - loss: 0.0226 - acc: 0.9930 - val_loss: 0.3943 - val_acc: 0.9310\n",
            "Epoch 92/100\n",
            "100/100 [==============================] - 18s 184ms/step - loss: 0.0337 - acc: 0.9880 - val_loss: 0.2577 - val_acc: 0.9510\n",
            "Epoch 93/100\n",
            "100/100 [==============================] - 20s 196ms/step - loss: 0.0233 - acc: 0.9905 - val_loss: 0.2879 - val_acc: 0.9480\n",
            "Epoch 94/100\n",
            "100/100 [==============================] - 20s 201ms/step - loss: 0.0172 - acc: 0.9950 - val_loss: 0.6279 - val_acc: 0.9100\n",
            "Epoch 95/100\n",
            "100/100 [==============================] - 18s 184ms/step - loss: 0.0270 - acc: 0.9915 - val_loss: 0.4587 - val_acc: 0.9320\n",
            "Epoch 96/100\n",
            "100/100 [==============================] - 18s 185ms/step - loss: 0.0194 - acc: 0.9940 - val_loss: 0.3110 - val_acc: 0.9520\n",
            "Epoch 97/100\n",
            "100/100 [==============================] - 20s 197ms/step - loss: 0.0177 - acc: 0.9940 - val_loss: 0.3384 - val_acc: 0.9460\n",
            "Epoch 98/100\n",
            "100/100 [==============================] - 18s 184ms/step - loss: 0.0292 - acc: 0.9900 - val_loss: 0.3053 - val_acc: 0.9480\n",
            "Epoch 99/100\n",
            "100/100 [==============================] - 18s 184ms/step - loss: 0.0162 - acc: 0.9945 - val_loss: 0.3927 - val_acc: 0.9390\n",
            "Epoch 100/100\n",
            "100/100 [==============================] - 18s 184ms/step - loss: 0.0231 - acc: 0.9920 - val_loss: 0.3541 - val_acc: 0.9460\n"
          ],
          "name": "stdout"
        }
      ]
    },
    {
      "metadata": {
        "id": "ILRx2CyUCTTK",
        "colab_type": "code",
        "colab": {
          "base_uri": "https://localhost:8080/",
          "height": 545
        },
        "outputId": "a79b3adc-622e-4e60-d3b8-4a73d0159aca"
      },
      "cell_type": "code",
      "source": [
        "%matplotlib inline\n",
        "\n",
        "import matplotlib.pyplot as plt\n",
        "\n",
        "acc = history.history['acc']\n",
        "val_acc = history.history['val_acc']\n",
        "\n",
        "loss = history.history['loss']\n",
        "val_loss = history.history['val_loss']\n",
        "\n",
        "epochs = range(1, len(acc) + 1)\n",
        "\n",
        "# training and validation accuracy\n",
        "\n",
        "plt.plot(epochs, acc, 'ro', label='training acc')\n",
        "plt.plot(epochs, val_acc, 'r', label='validation acc')\n",
        "plt.title('training and validation accuracy')\n",
        "plt.legend()\n",
        "\n",
        "plt.figure()\n",
        "\n",
        "# training and validation loss\n",
        "\n",
        "plt.plot(epochs, loss, 'ro', label='training loss')\n",
        "plt.plot(epochs, val_loss, 'r', label='validation loss')\n",
        "plt.title('training and validation loss')\n",
        "plt.legend()\n",
        "\n",
        "plt.show()\n"
      ],
      "execution_count": 19,
      "outputs": [
        {
          "output_type": "display_data",
          "data": {
            "image/png": "[encoded data removed]",
            "text/plain": [
              "<Figure size 432x288 with 1 Axes>"
            ]
          },
          "metadata": {
            "tags": []
          }
        },
        {
          "output_type": "display_data",
          "data": {
            "image/png": "[encoded data removed]",
            "text/plain": [
              "<Figure size 432x288 with 1 Axes>"
            ]
          },
          "metadata": {
            "tags": []
          }
        }
      ]
    },
    {
      "metadata": {
        "id": "ypNz-ZZJM7G5",
        "colab_type": "code",
        "colab": {}
      },
      "cell_type": "code",
      "source": [
        "val_loss, val_acc = model.evaluate_generator(validation_generator, steps=50)"
      ],
      "execution_count": 0,
      "outputs": []
    },
    {
      "metadata": {
        "id": "lhd2o8NzM-3x",
        "colab_type": "code",
        "colab": {
          "base_uri": "https://localhost:8080/",
          "height": 52
        },
        "outputId": "7d4204c2-63eb-43f5-95ab-d42bfb9da7cf"
      },
      "cell_type": "code",
      "source": [
        "print(\"Validation loss:\", val_loss)\n",
        "print(\"Validation accuracy:\", val_acc)"
      ],
      "execution_count": 21,
      "outputs": [
        {
          "output_type": "stream",
          "text": [
            "Validation loss: 0.4147285087923035\n",
            "Validation accuracy: 0.9359999930858612\n"
          ],
          "name": "stdout"
        }
      ]
    }
  ]
}