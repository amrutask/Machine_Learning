{
  "nbformat": 4,
  "nbformat_minor": 0,
  "metadata": {
    "colab": {
      "name": "CNN_arc1",
      "version": "0.3.2",
      "provenance": [],
      "collapsed_sections": [],
      "include_colab_link": true
    },
    "kernelspec": {
      "name": "python3",
      "display_name": "Python 3"
    },
    "accelerator": "GPU"
  },
  "cells": [
    {
      "cell_type": "markdown",
      "metadata": {
        "id": "view-in-github",
        "colab_type": "text"
      },
      "source": [
        "<a href=\"https://colab.research.google.com/github/amrutask/Machine_Learning/blob/master/HomeWork2/CNN_arc1.ipynb\" target=\"_parent\"><img src=\"https://colab.research.google.com/assets/colab-badge.svg\" alt=\"Open In Colab\"/></a>"
      ]
    },
    {
      "metadata": {
        "id": "VJs7Ao7zA4YH",
        "colab_type": "code",
        "outputId": "432d2579-4791-4d1d-dfff-2031e04e0f10",
        "colab": {
          "base_uri": "https://localhost:8080/",
          "height": 34
        }
      },
      "cell_type": "code",
      "source": [
        "import keras\n",
        "from keras.models import Sequential\n",
        "from keras.layers import Dense, Dropout, Activation, Flatten\n",
        "from keras.layers import Conv2D, MaxPooling2D\n",
        "from keras.preprocessing.image import ImageDataGenerator\n",
        "from keras import optimizers\n",
        "\n",
        "from keras.datasets import cifar10\n",
        "from sklearn.model_selection import train_test_split\n",
        "import matplotlib.pyplot as plt"
      ],
      "execution_count": 1,
      "outputs": [
        {
          "output_type": "stream",
          "text": [
            "Using TensorFlow backend.\n"
          ],
          "name": "stderr"
        }
      ]
    },
    {
      "metadata": {
        "id": "kMSY7jVRBA6s",
        "colab_type": "code",
        "outputId": "a3e81137-bdf3-44f7-ecc9-902c4d0d3c03",
        "colab": {
          "base_uri": "https://localhost:8080/",
          "height": 105
        }
      },
      "cell_type": "code",
      "source": [
        "(X_train, y_train), (X_test, y_test) = cifar10.load_data()\n",
        "print(\"X_train Size :\",X_train.shape)\n",
        "print(\"X_test Size : \",X_test.shape)\n",
        "print(y_train.shape)"
      ],
      "execution_count": 2,
      "outputs": [
        {
          "output_type": "stream",
          "text": [
            "Downloading data from https://www.cs.toronto.edu/~kriz/cifar-10-python.tar.gz\n",
            "170500096/170498071 [==============================] - 36s 0us/step\n",
            "X_train Size : (50000, 32, 32, 3)\n",
            "X_test Size :  (10000, 32, 32, 3)\n",
            "(50000, 1)\n"
          ],
          "name": "stdout"
        }
      ]
    },
    {
      "metadata": {
        "id": "5fS64CvhBDnx",
        "colab_type": "code",
        "outputId": "878cbad9-46c1-4af7-a299-062084bdbe06",
        "colab": {
          "base_uri": "https://localhost:8080/",
          "height": 52
        }
      },
      "cell_type": "code",
      "source": [
        "train_X, val_X, train_Y, val_Y = train_test_split(X_train, y_train, test_size=0.2, random_state=0)\n",
        "print(\"Size of training data :\",train_X.shape)\n",
        "print(\"Size of validation data : \",val_X.shape)\n"
      ],
      "execution_count": 3,
      "outputs": [
        {
          "output_type": "stream",
          "text": [
            "Size of training data : (40000, 32, 32, 3)\n",
            "Size of validation data :  (10000, 32, 32, 3)\n"
          ],
          "name": "stdout"
        }
      ]
    },
    {
      "metadata": {
        "id": "drEGkdCRBJHX",
        "colab_type": "code",
        "outputId": "77480a2d-9ebc-44c8-d1fb-442b566885c5",
        "colab": {
          "base_uri": "https://localhost:8080/",
          "height": 34
        }
      },
      "cell_type": "code",
      "source": [
        "num_classes=10\n",
        "epoch=100\n",
        "\n",
        "train_Y = keras.utils.to_categorical(train_Y, num_classes)\n",
        "val_Y = keras.utils.to_categorical(val_Y, num_classes)\n",
        "test_Y= keras.utils.to_categorical(y_test, num_classes)\n",
        "\n",
        "print(\"Size of train, validation and test labels: \", train_Y.shape, val_Y.shape, test_Y.shape) "
      ],
      "execution_count": 4,
      "outputs": [
        {
          "output_type": "stream",
          "text": [
            "Size of train, validation and test labels:  (40000, 10) (10000, 10) (10000, 10)\n"
          ],
          "name": "stdout"
        }
      ]
    },
    {
      "metadata": {
        "id": "vxtkGNUNBOpV",
        "colab_type": "code",
        "outputId": "fc31c642-70c3-4655-fe9d-e2945aa1a6cf",
        "colab": {
          "base_uri": "https://localhost:8080/",
          "height": 688
        }
      },
      "cell_type": "code",
      "source": [
        "model = Sequential()\n",
        "\n",
        "model.add(Conv2D(32, (3, 3), padding='same', input_shape=train_X.shape[1:], activation='relu'))\n",
        "model.add(MaxPooling2D(pool_size=(2,2), padding='valid'))\n",
        "model.add(Conv2D(64, (3,3), padding='same', activation='relu'))\n",
        "model.add(MaxPooling2D(pool_size=(2, 2), padding='valid'))\n",
        "model.add(Dropout(0.25))\n",
        "model.add(Conv2D(112, (3, 3), padding='valid', activation='relu'))\n",
        "model.add(MaxPooling2D(pool_size=(2, 2)))\n",
        "model.add(Dropout(0.25))\n",
        "model.add(Flatten())\n",
        "model.add(Dense(500, activation='relu'))\n",
        "model.add(Dense(120, activation='relu'))\n",
        "model.add(Dense(num_classes, activation='softmax'))\n",
        "model.summary()\n",
        "\n",
        "opt = optimizers.rmsprop(lr=0.0001, decay=1e-6)\n",
        "\n",
        "model.compile(loss='categorical_crossentropy',\n",
        "              optimizer=opt,\n",
        "              metrics=['accuracy'])"
      ],
      "execution_count": 5,
      "outputs": [
        {
          "output_type": "stream",
          "text": [
            "WARNING:tensorflow:From /usr/local/lib/python3.6/dist-packages/tensorflow/python/framework/op_def_library.py:263: colocate_with (from tensorflow.python.framework.ops) is deprecated and will be removed in a future version.\n",
            "Instructions for updating:\n",
            "Colocations handled automatically by placer.\n",
            "WARNING:tensorflow:From /usr/local/lib/python3.6/dist-packages/keras/backend/tensorflow_backend.py:3445: calling dropout (from tensorflow.python.ops.nn_ops) with keep_prob is deprecated and will be removed in a future version.\n",
            "Instructions for updating:\n",
            "Please use `rate` instead of `keep_prob`. Rate should be set to `rate = 1 - keep_prob`.\n",
            "_________________________________________________________________\n",
            "Layer (type)                 Output Shape              Param #   \n",
            "=================================================================\n",
            "conv2d_1 (Conv2D)            (None, 32, 32, 32)        896       \n",
            "_________________________________________________________________\n",
            "max_pooling2d_1 (MaxPooling2 (None, 16, 16, 32)        0         \n",
            "_________________________________________________________________\n",
            "conv2d_2 (Conv2D)            (None, 16, 16, 64)        18496     \n",
            "_________________________________________________________________\n",
            "max_pooling2d_2 (MaxPooling2 (None, 8, 8, 64)          0         \n",
            "_________________________________________________________________\n",
            "dropout_1 (Dropout)          (None, 8, 8, 64)          0         \n",
            "_________________________________________________________________\n",
            "conv2d_3 (Conv2D)            (None, 6, 6, 112)         64624     \n",
            "_________________________________________________________________\n",
            "max_pooling2d_3 (MaxPooling2 (None, 3, 3, 112)         0         \n",
            "_________________________________________________________________\n",
            "dropout_2 (Dropout)          (None, 3, 3, 112)         0         \n",
            "_________________________________________________________________\n",
            "flatten_1 (Flatten)          (None, 1008)              0         \n",
            "_________________________________________________________________\n",
            "dense_1 (Dense)              (None, 500)               504500    \n",
            "_________________________________________________________________\n",
            "dense_2 (Dense)              (None, 120)               60120     \n",
            "_________________________________________________________________\n",
            "dense_3 (Dense)              (None, 10)                1210      \n",
            "=================================================================\n",
            "Total params: 649,846\n",
            "Trainable params: 649,846\n",
            "Non-trainable params: 0\n",
            "_________________________________________________________________\n"
          ],
          "name": "stdout"
        }
      ]
    },
    {
      "metadata": {
        "id": "rQ0o4HS_BPwB",
        "colab_type": "code",
        "colab": {}
      },
      "cell_type": "code",
      "source": [
        "train_X = train_X.astype('float32')\n",
        "val_X = val_X.astype('float32')\n",
        "X_test = X_test.astype('float32')\n",
        "train_X /= 255\n",
        "X_test /= 255\n",
        "val_X /= 255"
      ],
      "execution_count": 0,
      "outputs": []
    },
    {
      "metadata": {
        "id": "z1m8e_paKZLQ",
        "colab_type": "code",
        "outputId": "803157fc-9881-4688-c941-384d8611c702",
        "colab": {
          "base_uri": "https://localhost:8080/",
          "height": 3627
        }
      },
      "cell_type": "code",
      "source": [
        "datagen = ImageDataGenerator(featurewise_center=False,samplewise_center=False,featurewise_std_normalization=False,samplewise_std_normalization=False, zca_whitening=False,\n",
        "        zca_epsilon=1e-06, rotation_range=0,width_shift_range=0.1, height_shift_range=0.1, shear_range=0., zoom_range=0.,channel_shift_range=0., fill_mode='nearest',\n",
        "        cval=0.,\n",
        "        horizontal_flip=True,\n",
        "        vertical_flip=False,\n",
        "        rescale=None,\n",
        "        preprocessing_function=None,\n",
        "        data_format=None,\n",
        "        validation_split=0.2)\n",
        "\n",
        "datagen.fit(train_X)\n",
        "model.fit_generator(datagen.flow(train_X, train_Y), steps_per_epoch=1000, epochs=epoch, validation_data=(val_X, val_Y))"
      ],
      "execution_count": 7,
      "outputs": [
        {
          "output_type": "stream",
          "text": [
            "WARNING:tensorflow:From /usr/local/lib/python3.6/dist-packages/tensorflow/python/ops/math_ops.py:3066: to_int32 (from tensorflow.python.ops.math_ops) is deprecated and will be removed in a future version.\n",
            "Instructions for updating:\n",
            "Use tf.cast instead.\n",
            "Epoch 1/100\n",
            "1000/1000 [==============================] - 27s 27ms/step - loss: 1.9488 - acc: 0.2869 - val_loss: 1.7486 - val_acc: 0.3722\n",
            "Epoch 2/100\n",
            "1000/1000 [==============================] - 23s 23ms/step - loss: 1.6779 - acc: 0.3878 - val_loss: 1.6316 - val_acc: 0.3978\n",
            "Epoch 3/100\n",
            "1000/1000 [==============================] - 23s 23ms/step - loss: 1.5628 - acc: 0.4309 - val_loss: 1.5658 - val_acc: 0.4304\n",
            "Epoch 4/100\n",
            "1000/1000 [==============================] - 23s 23ms/step - loss: 1.4902 - acc: 0.4562 - val_loss: 1.3779 - val_acc: 0.5030\n",
            "Epoch 5/100\n",
            "1000/1000 [==============================] - 22s 22ms/step - loss: 1.4283 - acc: 0.4860 - val_loss: 1.3229 - val_acc: 0.5240\n",
            "Epoch 6/100\n",
            "1000/1000 [==============================] - 23s 23ms/step - loss: 1.3808 - acc: 0.5012 - val_loss: 1.2626 - val_acc: 0.5445\n",
            "Epoch 7/100\n",
            "1000/1000 [==============================] - 23s 23ms/step - loss: 1.3453 - acc: 0.5177 - val_loss: 1.2641 - val_acc: 0.5413\n",
            "Epoch 8/100\n",
            "1000/1000 [==============================] - 23s 23ms/step - loss: 1.2961 - acc: 0.5362 - val_loss: 1.2017 - val_acc: 0.5668\n",
            "Epoch 9/100\n",
            "1000/1000 [==============================] - 22s 22ms/step - loss: 1.2530 - acc: 0.5519 - val_loss: 1.1130 - val_acc: 0.6038\n",
            "Epoch 10/100\n",
            "1000/1000 [==============================] - 23s 23ms/step - loss: 1.2374 - acc: 0.5594 - val_loss: 1.1487 - val_acc: 0.5885\n",
            "Epoch 11/100\n",
            "1000/1000 [==============================] - 22s 22ms/step - loss: 1.2065 - acc: 0.5693 - val_loss: 1.0909 - val_acc: 0.6119\n",
            "Epoch 12/100\n",
            "1000/1000 [==============================] - 23s 23ms/step - loss: 1.1820 - acc: 0.5806 - val_loss: 1.1162 - val_acc: 0.6097\n",
            "Epoch 13/100\n",
            "1000/1000 [==============================] - 23s 23ms/step - loss: 1.1471 - acc: 0.5895 - val_loss: 1.0116 - val_acc: 0.6428\n",
            "Epoch 14/100\n",
            "1000/1000 [==============================] - 23s 23ms/step - loss: 1.1299 - acc: 0.5999 - val_loss: 1.0841 - val_acc: 0.6204\n",
            "Epoch 15/100\n",
            "1000/1000 [==============================] - 22s 22ms/step - loss: 1.1179 - acc: 0.6048 - val_loss: 1.0414 - val_acc: 0.6334\n",
            "Epoch 16/100\n",
            "1000/1000 [==============================] - 23s 23ms/step - loss: 1.0910 - acc: 0.6133 - val_loss: 0.9924 - val_acc: 0.6465\n",
            "Epoch 17/100\n",
            "1000/1000 [==============================] - 23s 23ms/step - loss: 1.0832 - acc: 0.6153 - val_loss: 0.9459 - val_acc: 0.6681\n",
            "Epoch 18/100\n",
            "1000/1000 [==============================] - 23s 23ms/step - loss: 1.0551 - acc: 0.6257 - val_loss: 0.9575 - val_acc: 0.6644\n",
            "Epoch 19/100\n",
            "1000/1000 [==============================] - 23s 23ms/step - loss: 1.0351 - acc: 0.6325 - val_loss: 0.9442 - val_acc: 0.6723\n",
            "Epoch 20/100\n",
            "1000/1000 [==============================] - 23s 23ms/step - loss: 1.0279 - acc: 0.6363 - val_loss: 1.0169 - val_acc: 0.6458\n",
            "Epoch 21/100\n",
            "1000/1000 [==============================] - 23s 23ms/step - loss: 1.0084 - acc: 0.6446 - val_loss: 0.9372 - val_acc: 0.6744\n",
            "Epoch 22/100\n",
            "1000/1000 [==============================] - 23s 23ms/step - loss: 0.9977 - acc: 0.6470 - val_loss: 0.8756 - val_acc: 0.6954\n",
            "Epoch 23/100\n",
            "1000/1000 [==============================] - 22s 22ms/step - loss: 0.9890 - acc: 0.6535 - val_loss: 0.8824 - val_acc: 0.6929\n",
            "Epoch 24/100\n",
            "1000/1000 [==============================] - 23s 23ms/step - loss: 0.9747 - acc: 0.6560 - val_loss: 0.8725 - val_acc: 0.6998\n",
            "Epoch 25/100\n",
            "1000/1000 [==============================] - 23s 23ms/step - loss: 0.9590 - acc: 0.6598 - val_loss: 0.8600 - val_acc: 0.7026\n",
            "Epoch 26/100\n",
            "1000/1000 [==============================] - 22s 22ms/step - loss: 0.9492 - acc: 0.6654 - val_loss: 0.8210 - val_acc: 0.7147\n",
            "Epoch 27/100\n",
            "1000/1000 [==============================] - 22s 22ms/step - loss: 0.9360 - acc: 0.6711 - val_loss: 0.8400 - val_acc: 0.7143\n",
            "Epoch 28/100\n",
            "1000/1000 [==============================] - 22s 22ms/step - loss: 0.9277 - acc: 0.6733 - val_loss: 0.8335 - val_acc: 0.7148\n",
            "Epoch 29/100\n",
            "1000/1000 [==============================] - 23s 23ms/step - loss: 0.9064 - acc: 0.6806 - val_loss: 0.8925 - val_acc: 0.6946\n",
            "Epoch 30/100\n",
            "1000/1000 [==============================] - 23s 23ms/step - loss: 0.9079 - acc: 0.6833 - val_loss: 0.8072 - val_acc: 0.7164\n",
            "Epoch 31/100\n",
            "1000/1000 [==============================] - 22s 22ms/step - loss: 0.8922 - acc: 0.6847 - val_loss: 0.8084 - val_acc: 0.7204\n",
            "Epoch 32/100\n",
            "1000/1000 [==============================] - 22s 22ms/step - loss: 0.8779 - acc: 0.6892 - val_loss: 0.7927 - val_acc: 0.7249\n",
            "Epoch 33/100\n",
            "1000/1000 [==============================] - 23s 23ms/step - loss: 0.8762 - acc: 0.6893 - val_loss: 0.8378 - val_acc: 0.7106\n",
            "Epoch 34/100\n",
            "1000/1000 [==============================] - 23s 23ms/step - loss: 0.8650 - acc: 0.6964 - val_loss: 0.7846 - val_acc: 0.7283\n",
            "Epoch 35/100\n",
            "1000/1000 [==============================] - 23s 23ms/step - loss: 0.8600 - acc: 0.7014 - val_loss: 0.7585 - val_acc: 0.7414\n",
            "Epoch 36/100\n",
            "1000/1000 [==============================] - 23s 23ms/step - loss: 0.8504 - acc: 0.7033 - val_loss: 0.7278 - val_acc: 0.7494\n",
            "Epoch 37/100\n",
            "1000/1000 [==============================] - 23s 23ms/step - loss: 0.8388 - acc: 0.7046 - val_loss: 0.7124 - val_acc: 0.7549\n",
            "Epoch 38/100\n",
            "1000/1000 [==============================] - 23s 23ms/step - loss: 0.8305 - acc: 0.7095 - val_loss: 0.7391 - val_acc: 0.7463\n",
            "Epoch 39/100\n",
            "1000/1000 [==============================] - 23s 23ms/step - loss: 0.8263 - acc: 0.7100 - val_loss: 0.7209 - val_acc: 0.7514\n",
            "Epoch 40/100\n",
            "1000/1000 [==============================] - 23s 23ms/step - loss: 0.8253 - acc: 0.7110 - val_loss: 0.7802 - val_acc: 0.7329\n",
            "Epoch 41/100\n",
            "1000/1000 [==============================] - 23s 23ms/step - loss: 0.8110 - acc: 0.7157 - val_loss: 0.7085 - val_acc: 0.7525\n",
            "Epoch 42/100\n",
            "1000/1000 [==============================] - 23s 23ms/step - loss: 0.8026 - acc: 0.7162 - val_loss: 0.7011 - val_acc: 0.7581\n",
            "Epoch 43/100\n",
            "1000/1000 [==============================] - 23s 23ms/step - loss: 0.7902 - acc: 0.7238 - val_loss: 0.7057 - val_acc: 0.7551\n",
            "Epoch 44/100\n",
            "1000/1000 [==============================] - 23s 23ms/step - loss: 0.8007 - acc: 0.7190 - val_loss: 0.6851 - val_acc: 0.7640\n",
            "Epoch 45/100\n",
            "1000/1000 [==============================] - 23s 23ms/step - loss: 0.7881 - acc: 0.7243 - val_loss: 0.6809 - val_acc: 0.7664\n",
            "Epoch 46/100\n",
            "1000/1000 [==============================] - 23s 23ms/step - loss: 0.7784 - acc: 0.7260 - val_loss: 0.7487 - val_acc: 0.7424\n",
            "Epoch 47/100\n",
            "1000/1000 [==============================] - 23s 23ms/step - loss: 0.7690 - acc: 0.7342 - val_loss: 0.6807 - val_acc: 0.7656\n",
            "Epoch 48/100\n",
            "1000/1000 [==============================] - 23s 23ms/step - loss: 0.7693 - acc: 0.7340 - val_loss: 0.6846 - val_acc: 0.7641\n",
            "Epoch 49/100\n",
            "1000/1000 [==============================] - 23s 23ms/step - loss: 0.7597 - acc: 0.7337 - val_loss: 0.6781 - val_acc: 0.7653\n",
            "Epoch 50/100\n",
            "1000/1000 [==============================] - 23s 23ms/step - loss: 0.7534 - acc: 0.7358 - val_loss: 0.7207 - val_acc: 0.7515\n",
            "Epoch 51/100\n",
            "1000/1000 [==============================] - 25s 25ms/step - loss: 0.7501 - acc: 0.7361 - val_loss: 0.6828 - val_acc: 0.7648\n",
            "Epoch 52/100\n",
            "1000/1000 [==============================] - 25s 25ms/step - loss: 0.7394 - acc: 0.7395 - val_loss: 0.7165 - val_acc: 0.7589\n",
            "Epoch 53/100\n",
            "1000/1000 [==============================] - 23s 23ms/step - loss: 0.7526 - acc: 0.7370 - val_loss: 0.6640 - val_acc: 0.7704\n",
            "Epoch 54/100\n",
            "1000/1000 [==============================] - 23s 23ms/step - loss: 0.7398 - acc: 0.7420 - val_loss: 0.6853 - val_acc: 0.7625\n",
            "Epoch 55/100\n",
            "1000/1000 [==============================] - 25s 25ms/step - loss: 0.7300 - acc: 0.7453 - val_loss: 0.6473 - val_acc: 0.7741\n",
            "Epoch 56/100\n",
            "1000/1000 [==============================] - 48s 48ms/step - loss: 0.7304 - acc: 0.7434 - val_loss: 0.6466 - val_acc: 0.7769\n",
            "Epoch 57/100\n",
            "1000/1000 [==============================] - 48s 48ms/step - loss: 0.7315 - acc: 0.7430 - val_loss: 0.6908 - val_acc: 0.7621\n",
            "Epoch 58/100\n",
            "1000/1000 [==============================] - 49s 49ms/step - loss: 0.7163 - acc: 0.7510 - val_loss: 0.6562 - val_acc: 0.7768\n",
            "Epoch 59/100\n",
            "1000/1000 [==============================] - 49s 49ms/step - loss: 0.7211 - acc: 0.7459 - val_loss: 0.6493 - val_acc: 0.7751\n",
            "Epoch 60/100\n",
            "1000/1000 [==============================] - 47s 47ms/step - loss: 0.7146 - acc: 0.7497 - val_loss: 0.6505 - val_acc: 0.7767\n",
            "Epoch 61/100\n",
            "1000/1000 [==============================] - 48s 48ms/step - loss: 0.7096 - acc: 0.7494 - val_loss: 0.6496 - val_acc: 0.7766\n",
            "Epoch 62/100\n",
            "1000/1000 [==============================] - 48s 48ms/step - loss: 0.7018 - acc: 0.7553 - val_loss: 0.6585 - val_acc: 0.7741\n",
            "Epoch 63/100\n",
            "1000/1000 [==============================] - 48s 48ms/step - loss: 0.7016 - acc: 0.7537 - val_loss: 0.6633 - val_acc: 0.7719\n",
            "Epoch 64/100\n",
            "1000/1000 [==============================] - 49s 49ms/step - loss: 0.7012 - acc: 0.7541 - val_loss: 0.6143 - val_acc: 0.7927\n",
            "Epoch 65/100\n",
            "1000/1000 [==============================] - 48s 48ms/step - loss: 0.6894 - acc: 0.7582 - val_loss: 0.6249 - val_acc: 0.7870\n",
            "Epoch 66/100\n",
            "1000/1000 [==============================] - 48s 48ms/step - loss: 0.6884 - acc: 0.7594 - val_loss: 0.6334 - val_acc: 0.7825\n",
            "Epoch 67/100\n",
            "1000/1000 [==============================] - 47s 47ms/step - loss: 0.6813 - acc: 0.7618 - val_loss: 0.6428 - val_acc: 0.7829\n",
            "Epoch 68/100\n",
            "1000/1000 [==============================] - 48s 48ms/step - loss: 0.6828 - acc: 0.7616 - val_loss: 0.6320 - val_acc: 0.7841\n",
            "Epoch 69/100\n",
            "1000/1000 [==============================] - 49s 49ms/step - loss: 0.6743 - acc: 0.7660 - val_loss: 0.6477 - val_acc: 0.7810\n",
            "Epoch 70/100\n",
            "1000/1000 [==============================] - 49s 49ms/step - loss: 0.6829 - acc: 0.7631 - val_loss: 0.6198 - val_acc: 0.7867\n",
            "Epoch 71/100\n",
            "1000/1000 [==============================] - 49s 49ms/step - loss: 0.6645 - acc: 0.7674 - val_loss: 0.6145 - val_acc: 0.7921\n",
            "Epoch 72/100\n",
            "1000/1000 [==============================] - 49s 49ms/step - loss: 0.6657 - acc: 0.7675 - val_loss: 0.6120 - val_acc: 0.7878\n",
            "Epoch 73/100\n",
            "1000/1000 [==============================] - 49s 49ms/step - loss: 0.6693 - acc: 0.7658 - val_loss: 0.6104 - val_acc: 0.7890\n",
            "Epoch 74/100\n",
            "1000/1000 [==============================] - 49s 49ms/step - loss: 0.6576 - acc: 0.7714 - val_loss: 0.6272 - val_acc: 0.7873\n",
            "Epoch 75/100\n",
            "1000/1000 [==============================] - 48s 48ms/step - loss: 0.6547 - acc: 0.7726 - val_loss: 0.6037 - val_acc: 0.7956\n",
            "Epoch 76/100\n",
            "1000/1000 [==============================] - 48s 48ms/step - loss: 0.6549 - acc: 0.7694 - val_loss: 0.5914 - val_acc: 0.7983\n",
            "Epoch 77/100\n",
            "1000/1000 [==============================] - 48s 48ms/step - loss: 0.6520 - acc: 0.7741 - val_loss: 0.6125 - val_acc: 0.7931\n",
            "Epoch 78/100\n",
            "1000/1000 [==============================] - 49s 49ms/step - loss: 0.6432 - acc: 0.7760 - val_loss: 0.5939 - val_acc: 0.7981\n",
            "Epoch 79/100\n",
            "1000/1000 [==============================] - 48s 48ms/step - loss: 0.6395 - acc: 0.7747 - val_loss: 0.6482 - val_acc: 0.7828\n",
            "Epoch 80/100\n",
            "1000/1000 [==============================] - 49s 49ms/step - loss: 0.6480 - acc: 0.7727 - val_loss: 0.6198 - val_acc: 0.7902\n",
            "Epoch 81/100\n",
            "1000/1000 [==============================] - 51s 51ms/step - loss: 0.6393 - acc: 0.7787 - val_loss: 0.5842 - val_acc: 0.8034\n",
            "Epoch 82/100\n",
            "1000/1000 [==============================] - 49s 49ms/step - loss: 0.6289 - acc: 0.7805 - val_loss: 0.6090 - val_acc: 0.7912\n",
            "Epoch 83/100\n",
            "1000/1000 [==============================] - 49s 49ms/step - loss: 0.6360 - acc: 0.7770 - val_loss: 0.6444 - val_acc: 0.7837\n",
            "Epoch 84/100\n",
            "1000/1000 [==============================] - 48s 48ms/step - loss: 0.6275 - acc: 0.7807 - val_loss: 0.5993 - val_acc: 0.7959\n",
            "Epoch 85/100\n",
            "1000/1000 [==============================] - 48s 48ms/step - loss: 0.6306 - acc: 0.7813 - val_loss: 0.5812 - val_acc: 0.8026\n",
            "Epoch 86/100\n",
            "1000/1000 [==============================] - 48s 48ms/step - loss: 0.6241 - acc: 0.7824 - val_loss: 0.5936 - val_acc: 0.8005\n",
            "Epoch 87/100\n",
            "1000/1000 [==============================] - 49s 49ms/step - loss: 0.6206 - acc: 0.7846 - val_loss: 0.5715 - val_acc: 0.8075\n",
            "Epoch 88/100\n",
            "1000/1000 [==============================] - 50s 50ms/step - loss: 0.6267 - acc: 0.7815 - val_loss: 0.5681 - val_acc: 0.8071\n",
            "Epoch 89/100\n",
            "1000/1000 [==============================] - 49s 49ms/step - loss: 0.6209 - acc: 0.7826 - val_loss: 0.5960 - val_acc: 0.7958\n",
            "Epoch 90/100\n",
            "1000/1000 [==============================] - 49s 49ms/step - loss: 0.6172 - acc: 0.7849 - val_loss: 0.5921 - val_acc: 0.7983\n",
            "Epoch 91/100\n",
            "1000/1000 [==============================] - 47s 47ms/step - loss: 0.6191 - acc: 0.7856 - val_loss: 0.5859 - val_acc: 0.7992\n",
            "Epoch 92/100\n",
            "1000/1000 [==============================] - 48s 48ms/step - loss: 0.6072 - acc: 0.7878 - val_loss: 0.5982 - val_acc: 0.7977\n",
            "Epoch 93/100\n",
            "1000/1000 [==============================] - 47s 47ms/step - loss: 0.6100 - acc: 0.7865 - val_loss: 0.5584 - val_acc: 0.8126\n",
            "Epoch 94/100\n",
            "1000/1000 [==============================] - 47s 47ms/step - loss: 0.6073 - acc: 0.7892 - val_loss: 0.5799 - val_acc: 0.8055\n",
            "Epoch 95/100\n",
            "1000/1000 [==============================] - 46s 46ms/step - loss: 0.6108 - acc: 0.7886 - val_loss: 0.5905 - val_acc: 0.7950\n",
            "Epoch 96/100\n",
            "1000/1000 [==============================] - 48s 48ms/step - loss: 0.6060 - acc: 0.7900 - val_loss: 0.6559 - val_acc: 0.7838\n",
            "Epoch 97/100\n",
            "1000/1000 [==============================] - 46s 46ms/step - loss: 0.6061 - acc: 0.7890 - val_loss: 0.5945 - val_acc: 0.7989\n",
            "Epoch 98/100\n",
            "1000/1000 [==============================] - 47s 47ms/step - loss: 0.5984 - acc: 0.7927 - val_loss: 0.6008 - val_acc: 0.7976\n",
            "Epoch 99/100\n",
            "1000/1000 [==============================] - 46s 46ms/step - loss: 0.6002 - acc: 0.7906 - val_loss: 0.5657 - val_acc: 0.8102\n",
            "Epoch 100/100\n",
            "1000/1000 [==============================] - 47s 47ms/step - loss: 0.5964 - acc: 0.7924 - val_loss: 0.5820 - val_acc: 0.8027\n"
          ],
          "name": "stdout"
        },
        {
          "output_type": "execute_result",
          "data": {
            "text/plain": [
              "<keras.callbacks.History at 0x7f8f888583c8>"
            ]
          },
          "metadata": {
            "tags": []
          },
          "execution_count": 7
        }
      ]
    },
    {
      "metadata": {
        "id": "Nyuf56UxCxI7",
        "colab_type": "code",
        "outputId": "56015054-5bb5-410c-ed6c-7445dc5e43ed",
        "colab": {
          "base_uri": "https://localhost:8080/",
          "height": 52
        }
      },
      "cell_type": "code",
      "source": [
        "score = model.evaluate(val_X, val_Y, verbose=0) \n",
        "print('Validation score:', score[0]) \n",
        "print('Validation accuracy:', score[1])\n"
      ],
      "execution_count": 8,
      "outputs": [
        {
          "output_type": "stream",
          "text": [
            "Validation score: 0.5820202906131744\n",
            "Validation accuracy: 0.8027\n"
          ],
          "name": "stdout"
        }
      ]
    }
  ]
}