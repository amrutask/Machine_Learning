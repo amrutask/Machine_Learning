{
  "nbformat": 4,
  "nbformat_minor": 0,
  "metadata": {
    "colab": {
      "name": "CNN_arc2",
      "version": "0.3.2",
      "provenance": [],
      "collapsed_sections": [],
      "include_colab_link": true
    },
    "kernelspec": {
      "name": "python3",
      "display_name": "Python 3"
    },
    "accelerator": "GPU"
  },
  "cells": [
    {
      "cell_type": "markdown",
      "metadata": {
        "id": "view-in-github",
        "colab_type": "text"
      },
      "source": [
        "<a href=\"https://colab.research.google.com/github/amrutask/Machine_Learning/blob/master/HomeWork2/CNN_arc2.ipynb\" target=\"_parent\"><img src=\"https://colab.research.google.com/assets/colab-badge.svg\" alt=\"Open In Colab\"/></a>"
      ]
    },
    {
      "metadata": {
        "id": "5SSym70Xh624",
        "colab_type": "code",
        "colab": {}
      },
      "cell_type": "code",
      "source": [
        "import keras\n",
        "from keras.models import Sequential\n",
        "from keras.layers import Dense, Dropout, Activation, Flatten\n",
        "from keras.layers import Conv2D, MaxPooling2D, AveragePooling2D\n",
        "from keras.preprocessing.image import ImageDataGenerator\n",
        "from keras import optimizers\n",
        "\n",
        "from keras.datasets import cifar10\n",
        "from sklearn.model_selection import train_test_split\n",
        "import matplotlib.pyplot as plt"
      ],
      "execution_count": 0,
      "outputs": []
    },
    {
      "metadata": {
        "id": "YlNk1amKiFoK",
        "colab_type": "code",
        "outputId": "218a0161-21f8-4c76-e6f3-abc4fc763169",
        "colab": {
          "base_uri": "https://localhost:8080/",
          "height": 70
        }
      },
      "cell_type": "code",
      "source": [
        "(X_train, y_train), (X_test, y_test) = cifar10.load_data()\n",
        "print(\"X_train Size :\",X_train.shape)\n",
        "print(\"X_test Size : \",X_test.shape)\n",
        "print(y_train.shape)"
      ],
      "execution_count": 12,
      "outputs": [
        {
          "output_type": "stream",
          "text": [
            "X_train Size : (50000, 32, 32, 3)\n",
            "X_test Size :  (10000, 32, 32, 3)\n",
            "(50000, 1)\n"
          ],
          "name": "stdout"
        }
      ]
    },
    {
      "metadata": {
        "id": "VGPVLRp-iIrw",
        "colab_type": "code",
        "outputId": "cde2d9d2-9005-481f-e535-83d6f1841849",
        "colab": {
          "base_uri": "https://localhost:8080/",
          "height": 52
        }
      },
      "cell_type": "code",
      "source": [
        "train_X, val_X, train_Y, val_Y = train_test_split(X_train, y_train, test_size=0.2, random_state=0)\n",
        "print(\"Size of training data :\",train_X.shape)\n",
        "print(\"Size of validation data : \",val_X.shape)\n"
      ],
      "execution_count": 13,
      "outputs": [
        {
          "output_type": "stream",
          "text": [
            "Size of training data : (40000, 32, 32, 3)\n",
            "Size of validation data :  (10000, 32, 32, 3)\n"
          ],
          "name": "stdout"
        }
      ]
    },
    {
      "metadata": {
        "id": "NPqlmgIAiMuv",
        "colab_type": "code",
        "outputId": "9788a47f-ecbe-43ec-87b0-6ee9c5f4af29",
        "colab": {
          "base_uri": "https://localhost:8080/",
          "height": 34
        }
      },
      "cell_type": "code",
      "source": [
        "num_classes=10\n",
        "epoch=100\n",
        "\n",
        "train_Y = keras.utils.to_categorical(train_Y, num_classes)\n",
        "val_Y = keras.utils.to_categorical(val_Y, num_classes)\n",
        "test_Y= keras.utils.to_categorical(y_test, num_classes)\n",
        "\n",
        "print(\"Size of train, validation and test labels: \", train_Y.shape, val_Y.shape, test_Y.shape) "
      ],
      "execution_count": 14,
      "outputs": [
        {
          "output_type": "stream",
          "text": [
            "Size of train, validation and test labels:  (40000, 10) (10000, 10) (10000, 10)\n"
          ],
          "name": "stdout"
        }
      ]
    },
    {
      "metadata": {
        "id": "Acve9jsWiPkp",
        "colab_type": "code",
        "outputId": "fb6682bf-23cf-42a6-9b44-39221b281b36",
        "colab": {
          "base_uri": "https://localhost:8080/",
          "height": 527
        }
      },
      "cell_type": "code",
      "source": [
        "model = Sequential()\n",
        "\n",
        "model.add(Conv2D(32, (5, 5), padding='same', input_shape=train_X.shape[1:], activation='relu'))\n",
        "model.add(Conv2D(64, (3,3), padding='same', activation='relu'))\n",
        "model.add(AveragePooling2D(pool_size=(2,2), padding='same'))\n",
        "model.add(Dropout(0.25))\n",
        "model.add(Conv2D(112, (3, 3), padding='same', activation='relu'))\n",
        "model.add(AveragePooling2D(pool_size=(2, 2)))\n",
        "model.add(Flatten())\n",
        "model.add(Dense(2100, activation='relu'))\n",
        "model.add(Dense(700, activation='relu'))\n",
        "model.add(Dense(120, activation='relu'))\n",
        "model.add(Dense(num_classes, activation='softmax'))\n",
        "model.summary()\n",
        "\n",
        "opt= optimizers.SGD(lr=0.01, decay=1e-6, momentum=0.9, nesterov=True)\n",
        "\n",
        "model.compile(loss='categorical_crossentropy',\n",
        "              optimizer=opt,\n",
        "              metrics=['accuracy'])"
      ],
      "execution_count": 17,
      "outputs": [
        {
          "output_type": "stream",
          "text": [
            "_________________________________________________________________\n",
            "Layer (type)                 Output Shape              Param #   \n",
            "=================================================================\n",
            "conv2d_16 (Conv2D)           (None, 32, 32, 32)        2432      \n",
            "_________________________________________________________________\n",
            "conv2d_17 (Conv2D)           (None, 32, 32, 64)        18496     \n",
            "_________________________________________________________________\n",
            "average_pooling2d_11 (Averag (None, 16, 16, 64)        0         \n",
            "_________________________________________________________________\n",
            "dropout_6 (Dropout)          (None, 16, 16, 64)        0         \n",
            "_________________________________________________________________\n",
            "conv2d_18 (Conv2D)           (None, 16, 16, 112)       64624     \n",
            "_________________________________________________________________\n",
            "average_pooling2d_12 (Averag (None, 8, 8, 112)         0         \n",
            "_________________________________________________________________\n",
            "flatten_6 (Flatten)          (None, 7168)              0         \n",
            "_________________________________________________________________\n",
            "dense_21 (Dense)             (None, 2100)              15054900  \n",
            "_________________________________________________________________\n",
            "dense_22 (Dense)             (None, 700)               1470700   \n",
            "_________________________________________________________________\n",
            "dense_23 (Dense)             (None, 120)               84120     \n",
            "_________________________________________________________________\n",
            "dense_24 (Dense)             (None, 10)                1210      \n",
            "=================================================================\n",
            "Total params: 16,696,482\n",
            "Trainable params: 16,696,482\n",
            "Non-trainable params: 0\n",
            "_________________________________________________________________\n"
          ],
          "name": "stdout"
        }
      ]
    },
    {
      "metadata": {
        "id": "noV8pRptiS-y",
        "colab_type": "code",
        "colab": {}
      },
      "cell_type": "code",
      "source": [
        "train_X = train_X.astype('float32')\n",
        "val_X = val_X.astype('float32')\n",
        "X_test = X_test.astype('float32')\n",
        "train_X /= 255\n",
        "X_test /= 255\n",
        "val_X /= 255"
      ],
      "execution_count": 0,
      "outputs": []
    },
    {
      "metadata": {
        "id": "7-cPDvA1iV4u",
        "colab_type": "code",
        "outputId": "4a706936-7b44-4e3b-98f9-57c660198eac",
        "colab": {
          "base_uri": "https://localhost:8080/",
          "height": 3554
        }
      },
      "cell_type": "code",
      "source": [
        "datagen = ImageDataGenerator(featurewise_center=False,samplewise_center=False,featurewise_std_normalization=False,samplewise_std_normalization=False, zca_whitening=False,\n",
        "        zca_epsilon=1e-06, rotation_range=20,width_shift_range=0.2, height_shift_range=0.1, shear_range=0., zoom_range=0.2,channel_shift_range=0., fill_mode='nearest',\n",
        "        cval=0.,\n",
        "        horizontal_flip=True,\n",
        "        vertical_flip=True,\n",
        "        rescale=None,\n",
        "        preprocessing_function=None,\n",
        "        data_format=None,\n",
        "        validation_split=0)\n",
        "\n",
        "datagen.fit(train_X)\n",
        "model.fit_generator(datagen.flow(train_X, train_Y), steps_per_epoch=1000, epochs=epoch, validation_data=(val_X, val_Y))"
      ],
      "execution_count": 19,
      "outputs": [
        {
          "output_type": "stream",
          "text": [
            "Epoch 1/100\n",
            "1000/1000 [==============================] - 89s 89ms/step - loss: 1.9752 - acc: 0.2729 - val_loss: 1.7372 - val_acc: 0.3647\n",
            "Epoch 2/100\n",
            "1000/1000 [==============================] - 84s 84ms/step - loss: 1.7343 - acc: 0.3674 - val_loss: 1.5824 - val_acc: 0.4195\n",
            "Epoch 3/100\n",
            "1000/1000 [==============================] - 84s 84ms/step - loss: 1.6224 - acc: 0.4126 - val_loss: 1.5456 - val_acc: 0.4435\n",
            "Epoch 4/100\n",
            "1000/1000 [==============================] - 85s 85ms/step - loss: 1.5422 - acc: 0.4400 - val_loss: 1.3677 - val_acc: 0.4991\n",
            "Epoch 5/100\n",
            "1000/1000 [==============================] - 84s 84ms/step - loss: 1.4977 - acc: 0.4578 - val_loss: 1.3595 - val_acc: 0.5149\n",
            "Epoch 6/100\n",
            "1000/1000 [==============================] - 85s 85ms/step - loss: 1.4429 - acc: 0.4767 - val_loss: 1.3091 - val_acc: 0.5251\n",
            "Epoch 7/100\n",
            "1000/1000 [==============================] - 88s 88ms/step - loss: 1.3951 - acc: 0.4930 - val_loss: 1.2460 - val_acc: 0.5463\n",
            "Epoch 8/100\n",
            "1000/1000 [==============================] - 86s 86ms/step - loss: 1.3534 - acc: 0.5140 - val_loss: 1.1958 - val_acc: 0.5652\n",
            "Epoch 9/100\n",
            "1000/1000 [==============================] - 85s 85ms/step - loss: 1.3112 - acc: 0.5263 - val_loss: 1.1596 - val_acc: 0.5872\n",
            "Epoch 10/100\n",
            "1000/1000 [==============================] - 84s 84ms/step - loss: 1.2781 - acc: 0.5406 - val_loss: 1.1099 - val_acc: 0.6047\n",
            "Epoch 11/100\n",
            "1000/1000 [==============================] - 82s 82ms/step - loss: 1.2307 - acc: 0.5573 - val_loss: 1.0745 - val_acc: 0.6198\n",
            "Epoch 12/100\n",
            "1000/1000 [==============================] - 84s 84ms/step - loss: 1.2076 - acc: 0.5667 - val_loss: 1.0684 - val_acc: 0.6212\n",
            "Epoch 13/100\n",
            "1000/1000 [==============================] - 88s 88ms/step - loss: 1.1650 - acc: 0.5838 - val_loss: 1.0246 - val_acc: 0.6322\n",
            "Epoch 14/100\n",
            "1000/1000 [==============================] - 85s 85ms/step - loss: 1.1377 - acc: 0.5944 - val_loss: 1.0611 - val_acc: 0.6233\n",
            "Epoch 15/100\n",
            "1000/1000 [==============================] - 87s 87ms/step - loss: 1.1185 - acc: 0.5953 - val_loss: 0.9385 - val_acc: 0.6705\n",
            "Epoch 16/100\n",
            "1000/1000 [==============================] - 86s 86ms/step - loss: 1.0829 - acc: 0.6143 - val_loss: 1.0388 - val_acc: 0.6332\n",
            "Epoch 17/100\n",
            "1000/1000 [==============================] - 86s 86ms/step - loss: 1.0640 - acc: 0.6213 - val_loss: 0.9592 - val_acc: 0.6573\n",
            "Epoch 18/100\n",
            "1000/1000 [==============================] - 84s 84ms/step - loss: 1.0440 - acc: 0.6291 - val_loss: 0.9002 - val_acc: 0.6799\n",
            "Epoch 19/100\n",
            "1000/1000 [==============================] - 85s 85ms/step - loss: 1.0303 - acc: 0.6321 - val_loss: 0.9590 - val_acc: 0.6633\n",
            "Epoch 20/100\n",
            "1000/1000 [==============================] - 87s 87ms/step - loss: 1.0040 - acc: 0.6443 - val_loss: 0.9162 - val_acc: 0.6791\n",
            "Epoch 21/100\n",
            "1000/1000 [==============================] - 85s 85ms/step - loss: 0.9917 - acc: 0.6449 - val_loss: 0.9173 - val_acc: 0.6805\n",
            "Epoch 22/100\n",
            "1000/1000 [==============================] - 87s 87ms/step - loss: 0.9679 - acc: 0.6527 - val_loss: 0.8598 - val_acc: 0.7043\n",
            "Epoch 23/100\n",
            "1000/1000 [==============================] - 84s 84ms/step - loss: 0.9604 - acc: 0.6567 - val_loss: 0.8822 - val_acc: 0.6948\n",
            "Epoch 24/100\n",
            "1000/1000 [==============================] - 87s 87ms/step - loss: 0.9358 - acc: 0.6665 - val_loss: 0.8743 - val_acc: 0.6943\n",
            "Epoch 25/100\n",
            "1000/1000 [==============================] - 89s 89ms/step - loss: 0.9199 - acc: 0.6756 - val_loss: 0.8542 - val_acc: 0.7067\n",
            "Epoch 26/100\n",
            "1000/1000 [==============================] - 90s 90ms/step - loss: 0.9064 - acc: 0.6789 - val_loss: 0.8318 - val_acc: 0.7093\n",
            "Epoch 27/100\n",
            "1000/1000 [==============================] - 88s 88ms/step - loss: 0.8956 - acc: 0.6822 - val_loss: 0.8485 - val_acc: 0.7026\n",
            "Epoch 28/100\n",
            "1000/1000 [==============================] - 87s 87ms/step - loss: 0.8918 - acc: 0.6853 - val_loss: 0.8519 - val_acc: 0.7020\n",
            "Epoch 29/100\n",
            "1000/1000 [==============================] - 86s 86ms/step - loss: 0.8760 - acc: 0.6882 - val_loss: 0.8180 - val_acc: 0.7110\n",
            "Epoch 30/100\n",
            "1000/1000 [==============================] - 87s 87ms/step - loss: 0.8667 - acc: 0.6901 - val_loss: 0.7814 - val_acc: 0.7316\n",
            "Epoch 31/100\n",
            "1000/1000 [==============================] - 84s 84ms/step - loss: 0.8500 - acc: 0.6982 - val_loss: 0.7363 - val_acc: 0.7422\n",
            "Epoch 32/100\n",
            "1000/1000 [==============================] - 85s 85ms/step - loss: 0.8408 - acc: 0.7020 - val_loss: 0.8268 - val_acc: 0.7157\n",
            "Epoch 33/100\n",
            "1000/1000 [==============================] - 85s 85ms/step - loss: 0.8269 - acc: 0.7057 - val_loss: 0.8290 - val_acc: 0.7184\n",
            "Epoch 34/100\n",
            "1000/1000 [==============================] - 86s 86ms/step - loss: 0.8266 - acc: 0.7071 - val_loss: 0.8248 - val_acc: 0.7154\n",
            "Epoch 35/100\n",
            "1000/1000 [==============================] - 85s 85ms/step - loss: 0.8194 - acc: 0.7090 - val_loss: 0.7947 - val_acc: 0.7275\n",
            "Epoch 36/100\n",
            "1000/1000 [==============================] - 88s 88ms/step - loss: 0.8003 - acc: 0.7152 - val_loss: 0.7998 - val_acc: 0.7272\n",
            "Epoch 37/100\n",
            "1000/1000 [==============================] - 86s 86ms/step - loss: 0.7926 - acc: 0.7193 - val_loss: 0.7608 - val_acc: 0.7465\n",
            "Epoch 38/100\n",
            "1000/1000 [==============================] - 89s 89ms/step - loss: 0.7870 - acc: 0.7208 - val_loss: 0.7682 - val_acc: 0.7339\n",
            "Epoch 39/100\n",
            "1000/1000 [==============================] - 60s 60ms/step - loss: 0.7714 - acc: 0.7255 - val_loss: 0.8040 - val_acc: 0.7292\n",
            "Epoch 40/100\n",
            "1000/1000 [==============================] - 55s 55ms/step - loss: 0.7741 - acc: 0.7224 - val_loss: 0.7780 - val_acc: 0.7421\n",
            "Epoch 41/100\n",
            "1000/1000 [==============================] - 54s 54ms/step - loss: 0.7671 - acc: 0.7296 - val_loss: 0.8038 - val_acc: 0.7225\n",
            "Epoch 42/100\n",
            "1000/1000 [==============================] - 54s 54ms/step - loss: 0.7595 - acc: 0.7313 - val_loss: 0.7582 - val_acc: 0.7390\n",
            "Epoch 43/100\n",
            "1000/1000 [==============================] - 54s 54ms/step - loss: 0.7533 - acc: 0.7325 - val_loss: 0.7549 - val_acc: 0.7397\n",
            "Epoch 44/100\n",
            "1000/1000 [==============================] - 56s 56ms/step - loss: 0.7380 - acc: 0.7379 - val_loss: 0.7283 - val_acc: 0.7530\n",
            "Epoch 45/100\n",
            "1000/1000 [==============================] - 54s 54ms/step - loss: 0.7304 - acc: 0.7375 - val_loss: 0.8329 - val_acc: 0.7251\n",
            "Epoch 46/100\n",
            "1000/1000 [==============================] - 54s 54ms/step - loss: 0.7233 - acc: 0.7451 - val_loss: 0.8685 - val_acc: 0.7251\n",
            "Epoch 47/100\n",
            "1000/1000 [==============================] - 55s 55ms/step - loss: 0.7186 - acc: 0.7486 - val_loss: 0.7597 - val_acc: 0.7450\n",
            "Epoch 48/100\n",
            "1000/1000 [==============================] - 56s 56ms/step - loss: 0.7186 - acc: 0.7440 - val_loss: 0.7919 - val_acc: 0.7401\n",
            "Epoch 49/100\n",
            "1000/1000 [==============================] - 54s 54ms/step - loss: 0.6976 - acc: 0.7509 - val_loss: 0.7762 - val_acc: 0.7454\n",
            "Epoch 50/100\n",
            "1000/1000 [==============================] - 55s 55ms/step - loss: 0.6957 - acc: 0.7535 - val_loss: 0.7869 - val_acc: 0.7404\n",
            "Epoch 51/100\n",
            "1000/1000 [==============================] - 53s 53ms/step - loss: 0.7012 - acc: 0.7496 - val_loss: 0.7449 - val_acc: 0.7530\n",
            "Epoch 52/100\n",
            "1000/1000 [==============================] - 54s 54ms/step - loss: 0.6818 - acc: 0.7575 - val_loss: 0.7393 - val_acc: 0.7531\n",
            "Epoch 53/100\n",
            "1000/1000 [==============================] - 54s 54ms/step - loss: 0.6767 - acc: 0.7590 - val_loss: 0.7560 - val_acc: 0.7483\n",
            "Epoch 54/100\n",
            "1000/1000 [==============================] - 56s 56ms/step - loss: 0.6750 - acc: 0.7608 - val_loss: 0.7433 - val_acc: 0.7510\n",
            "Epoch 55/100\n",
            "1000/1000 [==============================] - 54s 54ms/step - loss: 0.6726 - acc: 0.7615 - val_loss: 0.7787 - val_acc: 0.7462\n",
            "Epoch 56/100\n",
            "1000/1000 [==============================] - 54s 54ms/step - loss: 0.6663 - acc: 0.7633 - val_loss: 0.7477 - val_acc: 0.7555\n",
            "Epoch 57/100\n",
            "1000/1000 [==============================] - 55s 55ms/step - loss: 0.6569 - acc: 0.7687 - val_loss: 0.7225 - val_acc: 0.7622\n",
            "Epoch 58/100\n",
            "1000/1000 [==============================] - 54s 54ms/step - loss: 0.6510 - acc: 0.7719 - val_loss: 0.7134 - val_acc: 0.7626\n",
            "Epoch 59/100\n",
            "1000/1000 [==============================] - 54s 54ms/step - loss: 0.6592 - acc: 0.7665 - val_loss: 0.7323 - val_acc: 0.7607\n",
            "Epoch 60/100\n",
            "1000/1000 [==============================] - 55s 55ms/step - loss: 0.6428 - acc: 0.7746 - val_loss: 0.8463 - val_acc: 0.7331\n",
            "Epoch 61/100\n",
            "1000/1000 [==============================] - 56s 56ms/step - loss: 0.6401 - acc: 0.7738 - val_loss: 0.7158 - val_acc: 0.7603\n",
            "Epoch 62/100\n",
            "1000/1000 [==============================] - 54s 54ms/step - loss: 0.6323 - acc: 0.7758 - val_loss: 0.7201 - val_acc: 0.7653\n",
            "Epoch 63/100\n",
            "1000/1000 [==============================] - 55s 55ms/step - loss: 0.6260 - acc: 0.7792 - val_loss: 0.7559 - val_acc: 0.7617\n",
            "Epoch 64/100\n",
            "1000/1000 [==============================] - 55s 55ms/step - loss: 0.6328 - acc: 0.7764 - val_loss: 0.7206 - val_acc: 0.7662\n",
            "Epoch 65/100\n",
            "1000/1000 [==============================] - 56s 56ms/step - loss: 0.6249 - acc: 0.7783 - val_loss: 0.7071 - val_acc: 0.7719\n",
            "Epoch 66/100\n",
            "1000/1000 [==============================] - 55s 55ms/step - loss: 0.6080 - acc: 0.7828 - val_loss: 0.7623 - val_acc: 0.7623\n",
            "Epoch 67/100\n",
            "1000/1000 [==============================] - 56s 56ms/step - loss: 0.6202 - acc: 0.7772 - val_loss: 0.7420 - val_acc: 0.7694\n",
            "Epoch 68/100\n",
            "1000/1000 [==============================] - 56s 56ms/step - loss: 0.6061 - acc: 0.7846 - val_loss: 0.7414 - val_acc: 0.7698\n",
            "Epoch 69/100\n",
            "1000/1000 [==============================] - 54s 54ms/step - loss: 0.6059 - acc: 0.7863 - val_loss: 0.6877 - val_acc: 0.7706\n",
            "Epoch 70/100\n",
            "1000/1000 [==============================] - 54s 54ms/step - loss: 0.6039 - acc: 0.7871 - val_loss: 0.7615 - val_acc: 0.7623\n",
            "Epoch 71/100\n",
            "1000/1000 [==============================] - 54s 54ms/step - loss: 0.5939 - acc: 0.7876 - val_loss: 0.6680 - val_acc: 0.7856\n",
            "Epoch 72/100\n",
            "1000/1000 [==============================] - 55s 55ms/step - loss: 0.5885 - acc: 0.7932 - val_loss: 0.7070 - val_acc: 0.7792\n",
            "Epoch 73/100\n",
            "1000/1000 [==============================] - 54s 54ms/step - loss: 0.5882 - acc: 0.7930 - val_loss: 0.6988 - val_acc: 0.7791\n",
            "Epoch 74/100\n",
            "1000/1000 [==============================] - 55s 55ms/step - loss: 0.5862 - acc: 0.7920 - val_loss: 0.7094 - val_acc: 0.7790\n",
            "Epoch 75/100\n",
            "1000/1000 [==============================] - 55s 55ms/step - loss: 0.5829 - acc: 0.7938 - val_loss: 0.7116 - val_acc: 0.7788\n",
            "Epoch 76/100\n",
            "1000/1000 [==============================] - 55s 55ms/step - loss: 0.5809 - acc: 0.7973 - val_loss: 0.7144 - val_acc: 0.7663\n",
            "Epoch 77/100\n",
            "1000/1000 [==============================] - 56s 56ms/step - loss: 0.5642 - acc: 0.8001 - val_loss: 0.7686 - val_acc: 0.7618\n",
            "Epoch 78/100\n",
            "1000/1000 [==============================] - 55s 55ms/step - loss: 0.5676 - acc: 0.7992 - val_loss: 0.7158 - val_acc: 0.7711\n",
            "Epoch 79/100\n",
            "1000/1000 [==============================] - 56s 56ms/step - loss: 0.5616 - acc: 0.8013 - val_loss: 0.7589 - val_acc: 0.7631\n",
            "Epoch 80/100\n",
            "1000/1000 [==============================] - 55s 55ms/step - loss: 0.5608 - acc: 0.8001 - val_loss: 0.7241 - val_acc: 0.7723\n",
            "Epoch 81/100\n",
            "1000/1000 [==============================] - 32s 32ms/step - loss: 0.5521 - acc: 0.8033 - val_loss: 0.7241 - val_acc: 0.7775\n",
            "Epoch 82/100\n",
            "1000/1000 [==============================] - 31s 31ms/step - loss: 0.5580 - acc: 0.8000 - val_loss: 0.7643 - val_acc: 0.7641\n",
            "Epoch 83/100\n",
            "1000/1000 [==============================] - 31s 31ms/step - loss: 0.5492 - acc: 0.8079 - val_loss: 0.7190 - val_acc: 0.7809\n",
            "Epoch 84/100\n",
            "1000/1000 [==============================] - 31s 31ms/step - loss: 0.5497 - acc: 0.8040 - val_loss: 0.7522 - val_acc: 0.7648\n",
            "Epoch 85/100\n",
            "1000/1000 [==============================] - 31s 31ms/step - loss: 0.5419 - acc: 0.8097 - val_loss: 0.7006 - val_acc: 0.7838\n",
            "Epoch 86/100\n",
            "1000/1000 [==============================] - 31s 31ms/step - loss: 0.5408 - acc: 0.8088 - val_loss: 0.6742 - val_acc: 0.7852\n",
            "Epoch 87/100\n",
            "1000/1000 [==============================] - 31s 31ms/step - loss: 0.5291 - acc: 0.8134 - val_loss: 0.7697 - val_acc: 0.7707\n",
            "Epoch 88/100\n",
            "1000/1000 [==============================] - 31s 31ms/step - loss: 0.5355 - acc: 0.8104 - val_loss: 0.7141 - val_acc: 0.7769\n",
            "Epoch 89/100\n",
            "1000/1000 [==============================] - 31s 31ms/step - loss: 0.5320 - acc: 0.8084 - val_loss: 0.7092 - val_acc: 0.7782\n",
            "Epoch 90/100\n",
            "1000/1000 [==============================] - 31s 31ms/step - loss: 0.5277 - acc: 0.8125 - val_loss: 0.7950 - val_acc: 0.7629\n",
            "Epoch 91/100\n",
            "1000/1000 [==============================] - 31s 31ms/step - loss: 0.5208 - acc: 0.8174 - val_loss: 0.6961 - val_acc: 0.7810\n",
            "Epoch 92/100\n",
            "1000/1000 [==============================] - 31s 31ms/step - loss: 0.5219 - acc: 0.8162 - val_loss: 0.7446 - val_acc: 0.7714\n",
            "Epoch 93/100\n",
            "1000/1000 [==============================] - 31s 31ms/step - loss: 0.5130 - acc: 0.8195 - val_loss: 0.7293 - val_acc: 0.7795\n",
            "Epoch 94/100\n",
            "1000/1000 [==============================] - 31s 31ms/step - loss: 0.5171 - acc: 0.8181 - val_loss: 0.7368 - val_acc: 0.7834\n",
            "Epoch 95/100\n",
            "1000/1000 [==============================] - 31s 31ms/step - loss: 0.5103 - acc: 0.8182 - val_loss: 0.7445 - val_acc: 0.7692\n",
            "Epoch 96/100\n",
            "1000/1000 [==============================] - 31s 31ms/step - loss: 0.5100 - acc: 0.8192 - val_loss: 0.6752 - val_acc: 0.7890\n",
            "Epoch 97/100\n",
            "1000/1000 [==============================] - 31s 31ms/step - loss: 0.5023 - acc: 0.8224 - val_loss: 0.7515 - val_acc: 0.7688\n",
            "Epoch 98/100\n",
            "1000/1000 [==============================] - 31s 31ms/step - loss: 0.5116 - acc: 0.8207 - val_loss: 0.6817 - val_acc: 0.7861\n",
            "Epoch 99/100\n",
            "1000/1000 [==============================] - 31s 31ms/step - loss: 0.5059 - acc: 0.8234 - val_loss: 0.7202 - val_acc: 0.7756\n",
            "Epoch 100/100\n",
            "1000/1000 [==============================] - 31s 31ms/step - loss: 0.5068 - acc: 0.8196 - val_loss: 0.7129 - val_acc: 0.7818\n"
          ],
          "name": "stdout"
        },
        {
          "output_type": "execute_result",
          "data": {
            "text/plain": [
              "<keras.callbacks.History at 0x7fd677821358>"
            ]
          },
          "metadata": {
            "tags": []
          },
          "execution_count": 19
        }
      ]
    },
    {
      "metadata": {
        "id": "FO6_z-9YeiOH",
        "colab_type": "code",
        "colab": {
          "base_uri": "https://localhost:8080/",
          "height": 52
        },
        "outputId": "b537fa51-f325-49ce-adfa-0e58c1f72db6"
      },
      "cell_type": "code",
      "source": [
        "score = model.evaluate(val_X, val_Y, verbose=0) \n",
        "print('Validation score:', score[0]) \n",
        "print('Validation accuracy:', score[1])"
      ],
      "execution_count": 20,
      "outputs": [
        {
          "output_type": "stream",
          "text": [
            "Validation score: 0.7129088118553162\n",
            "Validation accuracy: 0.7818\n"
          ],
          "name": "stdout"
        }
      ]
    }
  ]
}