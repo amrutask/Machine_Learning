{
  "nbformat": 4,
  "nbformat_minor": 0,
  "metadata": {
    "colab": {
      "name": "CNN_arc1",
      "version": "0.3.2",
      "provenance": [],
      "collapsed_sections": [],
      "include_colab_link": true
    },
    "kernelspec": {
      "name": "python3",
      "display_name": "Python 3"
    },
    "accelerator": "GPU"
  },
  "cells": [
    {
      "cell_type": "markdown",
      "metadata": {
        "id": "view-in-github",
        "colab_type": "text"
      },
      "source": [
        "<a href=\"https://colab.research.google.com/github/amrutask/Machine_Learning/blob/master/HomeWork2/CNN_arc1.ipynb\" target=\"_parent\"><img src=\"https://colab.research.google.com/assets/colab-badge.svg\" alt=\"Open In Colab\"/></a>"
      ]
    },
    {
      "metadata": {
        "id": "VJs7Ao7zA4YH",
        "colab_type": "code",
        "colab": {}
      },
      "cell_type": "code",
      "source": [
        "import keras\n",
        "from keras.models import Sequential\n",
        "from keras.layers import Dense, Dropout, Activation, Flatten\n",
        "from keras.layers import Conv2D, MaxPooling2D\n",
        "from keras.preprocessing.image import ImageDataGenerator\n",
        "from keras import optimizers\n",
        "\n",
        "from keras.datasets import cifar10\n",
        "from sklearn.model_selection import train_test_split\n",
        "import matplotlib.pyplot as plt"
      ],
      "execution_count": 0,
      "outputs": []
    },
    {
      "metadata": {
        "id": "kMSY7jVRBA6s",
        "colab_type": "code",
        "outputId": "dc7e4a73-e339-4fef-b08d-9f7f9cbeb47f",
        "colab": {
          "base_uri": "https://localhost:8080/",
          "height": 70
        }
      },
      "cell_type": "code",
      "source": [
        "(X_train, y_train), (X_test, y_test) = cifar10.load_data()\n",
        "print(\"X_train Size :\",X_train.shape)\n",
        "print(\"X_test Size : \",X_test.shape)\n",
        "print(y_train.shape)"
      ],
      "execution_count": 11,
      "outputs": [
        {
          "output_type": "stream",
          "text": [
            "X_train Size : (50000, 32, 32, 3)\n",
            "X_test Size :  (10000, 32, 32, 3)\n",
            "(50000, 1)\n"
          ],
          "name": "stdout"
        }
      ]
    },
    {
      "metadata": {
        "id": "5fS64CvhBDnx",
        "colab_type": "code",
        "outputId": "0e52a663-3a55-4734-ecbe-901dc2c97c4a",
        "colab": {
          "base_uri": "https://localhost:8080/",
          "height": 52
        }
      },
      "cell_type": "code",
      "source": [
        "train_X, val_X, train_Y, val_Y = train_test_split(X_train, y_train, test_size=0.2, random_state=0)\n",
        "print(\"Size of training data :\",train_X.shape)\n",
        "print(\"Size of validation data : \",val_X.shape)\n"
      ],
      "execution_count": 12,
      "outputs": [
        {
          "output_type": "stream",
          "text": [
            "Size of training data : (40000, 32, 32, 3)\n",
            "Size of validation data :  (10000, 32, 32, 3)\n"
          ],
          "name": "stdout"
        }
      ]
    },
    {
      "metadata": {
        "id": "drEGkdCRBJHX",
        "colab_type": "code",
        "outputId": "583f92dd-d56a-44a0-fa84-3b59482d6ba6",
        "colab": {
          "base_uri": "https://localhost:8080/",
          "height": 34
        }
      },
      "cell_type": "code",
      "source": [
        "num_classes=10\n",
        "epoch=100\n",
        "\n",
        "train_Y = keras.utils.to_categorical(train_Y, num_classes)\n",
        "val_Y = keras.utils.to_categorical(val_Y, num_classes)\n",
        "test_Y= keras.utils.to_categorical(y_test, num_classes)\n",
        "\n",
        "print(\"Size of train, validation and test labels: \", train_Y.shape, val_Y.shape, test_Y.shape) "
      ],
      "execution_count": 13,
      "outputs": [
        {
          "output_type": "stream",
          "text": [
            "Size of train, validation and test labels:  (40000, 10) (10000, 10) (10000, 10)\n"
          ],
          "name": "stdout"
        }
      ]
    },
    {
      "metadata": {
        "id": "vxtkGNUNBOpV",
        "colab_type": "code",
        "outputId": "896fd15e-23e3-4d24-c0f5-f4fa6f1d8dd6",
        "colab": {
          "base_uri": "https://localhost:8080/",
          "height": 562
        }
      },
      "cell_type": "code",
      "source": [
        "model = Sequential()\n",
        "\n",
        "model.add(Conv2D(32, (3, 3), padding='same', input_shape=train_X.shape[1:], activation='relu'))\n",
        "model.add(MaxPooling2D(pool_size=(2,2), padding='valid'))\n",
        "model.add(Conv2D(64, (3,3), padding='same', activation='relu'))\n",
        "model.add(MaxPooling2D(pool_size=(2, 2), padding='valid'))\n",
        "model.add(Dropout(0.25))\n",
        "model.add(Conv2D(112, (3, 3), padding='valid', activation='relu'))\n",
        "model.add(MaxPooling2D(pool_size=(2, 2)))\n",
        "model.add(Dropout(0.25))\n",
        "model.add(Flatten())\n",
        "model.add(Dense(500, activation='relu'))\n",
        "model.add(Dense(120, activation='relu'))\n",
        "model.add(Dense(num_classes, activation='softmax'))\n",
        "model.summary()\n",
        "\n",
        "opt = optimizers.rmsprop(lr=0.0001, decay=1e-6)\n",
        "\n",
        "model.compile(loss='categorical_crossentropy',\n",
        "              optimizer=opt,\n",
        "              metrics=['accuracy'])"
      ],
      "execution_count": 14,
      "outputs": [
        {
          "output_type": "stream",
          "text": [
            "_________________________________________________________________\n",
            "Layer (type)                 Output Shape              Param #   \n",
            "=================================================================\n",
            "conv2d_11 (Conv2D)           (None, 32, 32, 32)        896       \n",
            "_________________________________________________________________\n",
            "max_pooling2d_10 (MaxPooling (None, 16, 16, 32)        0         \n",
            "_________________________________________________________________\n",
            "conv2d_12 (Conv2D)           (None, 16, 16, 64)        18496     \n",
            "_________________________________________________________________\n",
            "max_pooling2d_11 (MaxPooling (None, 8, 8, 64)          0         \n",
            "_________________________________________________________________\n",
            "dropout_7 (Dropout)          (None, 8, 8, 64)          0         \n",
            "_________________________________________________________________\n",
            "conv2d_13 (Conv2D)           (None, 6, 6, 112)         64624     \n",
            "_________________________________________________________________\n",
            "max_pooling2d_12 (MaxPooling (None, 3, 3, 112)         0         \n",
            "_________________________________________________________________\n",
            "dropout_8 (Dropout)          (None, 3, 3, 112)         0         \n",
            "_________________________________________________________________\n",
            "flatten_3 (Flatten)          (None, 1008)              0         \n",
            "_________________________________________________________________\n",
            "dense_7 (Dense)              (None, 500)               504500    \n",
            "_________________________________________________________________\n",
            "dense_8 (Dense)              (None, 120)               60120     \n",
            "_________________________________________________________________\n",
            "dense_9 (Dense)              (None, 10)                1210      \n",
            "=================================================================\n",
            "Total params: 649,846\n",
            "Trainable params: 649,846\n",
            "Non-trainable params: 0\n",
            "_________________________________________________________________\n"
          ],
          "name": "stdout"
        }
      ]
    },
    {
      "metadata": {
        "id": "rQ0o4HS_BPwB",
        "colab_type": "code",
        "colab": {}
      },
      "cell_type": "code",
      "source": [
        "train_X = train_X.astype('float32')\n",
        "val_X = val_X.astype('float32')\n",
        "X_test = X_test.astype('float32')\n",
        "train_X /= 255\n",
        "X_test /= 255\n",
        "val_X /= 255"
      ],
      "execution_count": 0,
      "outputs": []
    },
    {
      "metadata": {
        "id": "z1m8e_paKZLQ",
        "colab_type": "code",
        "outputId": "a617d3f8-387d-4852-d18b-d543f3f8a55b",
        "colab": {
          "base_uri": "https://localhost:8080/",
          "height": 3554
        }
      },
      "cell_type": "code",
      "source": [
        "datagen = ImageDataGenerator(featurewise_center=False,samplewise_center=False,featurewise_std_normalization=False,samplewise_std_normalization=False, zca_whitening=False,\n",
        "        zca_epsilon=1e-06, rotation_range=0,width_shift_range=0.1, height_shift_range=0.1, shear_range=0., zoom_range=0.,channel_shift_range=0., fill_mode='nearest',\n",
        "        cval=0.,\n",
        "        horizontal_flip=True,\n",
        "        vertical_flip=False,\n",
        "        rescale=None,\n",
        "        preprocessing_function=None,\n",
        "        data_format=None,\n",
        "        validation_split=0.2)\n",
        "\n",
        "datagen.fit(train_X)\n",
        "model.fit_generator(datagen.flow(train_X, train_Y), steps_per_epoch=1000, epochs=epoch, validation_data=(val_X, val_Y))"
      ],
      "execution_count": 16,
      "outputs": [
        {
          "output_type": "stream",
          "text": [
            "Epoch 1/100\n",
            "1000/1000 [==============================] - 26s 26ms/step - loss: 1.9464 - acc: 0.2847 - val_loss: 1.6646 - val_acc: 0.3977\n",
            "Epoch 2/100\n",
            "1000/1000 [==============================] - 25s 25ms/step - loss: 1.6733 - acc: 0.3909 - val_loss: 1.6410 - val_acc: 0.4061\n",
            "Epoch 3/100\n",
            "1000/1000 [==============================] - 25s 25ms/step - loss: 1.5561 - acc: 0.4347 - val_loss: 1.5468 - val_acc: 0.4451\n",
            "Epoch 4/100\n",
            "1000/1000 [==============================] - 25s 25ms/step - loss: 1.4850 - acc: 0.4616 - val_loss: 1.4312 - val_acc: 0.4774\n",
            "Epoch 5/100\n",
            "1000/1000 [==============================] - 26s 26ms/step - loss: 1.4238 - acc: 0.4840 - val_loss: 1.3163 - val_acc: 0.5210\n",
            "Epoch 6/100\n",
            "1000/1000 [==============================] - 25s 25ms/step - loss: 1.3735 - acc: 0.5092 - val_loss: 1.4260 - val_acc: 0.4905\n",
            "Epoch 7/100\n",
            "1000/1000 [==============================] - 25s 25ms/step - loss: 1.3376 - acc: 0.5210 - val_loss: 1.2354 - val_acc: 0.5511\n",
            "Epoch 8/100\n",
            "1000/1000 [==============================] - 25s 25ms/step - loss: 1.2954 - acc: 0.5362 - val_loss: 1.1765 - val_acc: 0.5779\n",
            "Epoch 9/100\n",
            "1000/1000 [==============================] - 26s 26ms/step - loss: 1.2693 - acc: 0.5455 - val_loss: 1.1728 - val_acc: 0.5769\n",
            "Epoch 10/100\n",
            "1000/1000 [==============================] - 25s 25ms/step - loss: 1.2248 - acc: 0.5624 - val_loss: 1.1080 - val_acc: 0.5987\n",
            "Epoch 11/100\n",
            "1000/1000 [==============================] - 25s 25ms/step - loss: 1.1969 - acc: 0.5729 - val_loss: 1.1404 - val_acc: 0.5935\n",
            "Epoch 12/100\n",
            "1000/1000 [==============================] - 25s 25ms/step - loss: 1.1726 - acc: 0.5859 - val_loss: 1.0839 - val_acc: 0.6191\n",
            "Epoch 13/100\n",
            "1000/1000 [==============================] - 25s 25ms/step - loss: 1.1533 - acc: 0.5897 - val_loss: 1.0474 - val_acc: 0.6288\n",
            "Epoch 14/100\n",
            "1000/1000 [==============================] - 25s 25ms/step - loss: 1.1269 - acc: 0.5992 - val_loss: 1.0507 - val_acc: 0.6334\n",
            "Epoch 15/100\n",
            "1000/1000 [==============================] - 25s 25ms/step - loss: 1.1040 - acc: 0.6099 - val_loss: 1.0370 - val_acc: 0.6321\n",
            "Epoch 16/100\n",
            "1000/1000 [==============================] - 25s 25ms/step - loss: 1.0853 - acc: 0.6132 - val_loss: 0.9668 - val_acc: 0.6618\n",
            "Epoch 17/100\n",
            "1000/1000 [==============================] - 26s 26ms/step - loss: 1.0615 - acc: 0.6248 - val_loss: 0.9758 - val_acc: 0.6571\n",
            "Epoch 18/100\n",
            "1000/1000 [==============================] - 25s 25ms/step - loss: 1.0513 - acc: 0.6261 - val_loss: 0.9441 - val_acc: 0.6687\n",
            "Epoch 19/100\n",
            "1000/1000 [==============================] - 25s 25ms/step - loss: 1.0349 - acc: 0.6352 - val_loss: 0.9680 - val_acc: 0.6595\n",
            "Epoch 20/100\n",
            "1000/1000 [==============================] - 25s 25ms/step - loss: 1.0111 - acc: 0.6439 - val_loss: 0.8972 - val_acc: 0.6804\n",
            "Epoch 21/100\n",
            "1000/1000 [==============================] - 25s 25ms/step - loss: 0.9976 - acc: 0.6482 - val_loss: 0.8739 - val_acc: 0.6937\n",
            "Epoch 22/100\n",
            "1000/1000 [==============================] - 24s 24ms/step - loss: 0.9865 - acc: 0.6516 - val_loss: 0.9000 - val_acc: 0.6861\n",
            "Epoch 23/100\n",
            "1000/1000 [==============================] - 25s 25ms/step - loss: 0.9771 - acc: 0.6560 - val_loss: 0.9680 - val_acc: 0.6608\n",
            "Epoch 24/100\n",
            "1000/1000 [==============================] - 25s 25ms/step - loss: 0.9550 - acc: 0.6609 - val_loss: 0.8690 - val_acc: 0.6980\n",
            "Epoch 25/100\n",
            "1000/1000 [==============================] - 25s 25ms/step - loss: 0.9473 - acc: 0.6652 - val_loss: 0.8448 - val_acc: 0.7054\n",
            "Epoch 26/100\n",
            "1000/1000 [==============================] - 25s 25ms/step - loss: 0.9388 - acc: 0.6686 - val_loss: 0.8394 - val_acc: 0.7062\n",
            "Epoch 27/100\n",
            "1000/1000 [==============================] - 25s 25ms/step - loss: 0.9259 - acc: 0.6705 - val_loss: 0.8177 - val_acc: 0.7132\n",
            "Epoch 28/100\n",
            "1000/1000 [==============================] - 25s 25ms/step - loss: 0.9177 - acc: 0.6767 - val_loss: 0.8228 - val_acc: 0.7133\n",
            "Epoch 29/100\n",
            "1000/1000 [==============================] - 25s 25ms/step - loss: 0.9089 - acc: 0.6789 - val_loss: 0.7901 - val_acc: 0.7260\n",
            "Epoch 30/100\n",
            "1000/1000 [==============================] - 26s 26ms/step - loss: 0.8931 - acc: 0.6823 - val_loss: 0.7894 - val_acc: 0.7222\n",
            "Epoch 31/100\n",
            "1000/1000 [==============================] - 25s 25ms/step - loss: 0.8832 - acc: 0.6883 - val_loss: 0.7544 - val_acc: 0.7368\n",
            "Epoch 32/100\n",
            "1000/1000 [==============================] - 25s 25ms/step - loss: 0.8797 - acc: 0.6919 - val_loss: 0.8634 - val_acc: 0.7042\n",
            "Epoch 33/100\n",
            "1000/1000 [==============================] - 25s 25ms/step - loss: 0.8632 - acc: 0.6967 - val_loss: 0.7935 - val_acc: 0.7230\n",
            "Epoch 34/100\n",
            "1000/1000 [==============================] - 25s 25ms/step - loss: 0.8535 - acc: 0.6998 - val_loss: 0.7924 - val_acc: 0.7222\n",
            "Epoch 35/100\n",
            "1000/1000 [==============================] - 25s 25ms/step - loss: 0.8542 - acc: 0.7000 - val_loss: 0.7776 - val_acc: 0.7301\n",
            "Epoch 36/100\n",
            "1000/1000 [==============================] - 25s 25ms/step - loss: 0.8376 - acc: 0.7039 - val_loss: 0.7751 - val_acc: 0.7280\n",
            "Epoch 37/100\n",
            "1000/1000 [==============================] - 25s 25ms/step - loss: 0.8381 - acc: 0.7050 - val_loss: 0.7377 - val_acc: 0.7424\n",
            "Epoch 38/100\n",
            "1000/1000 [==============================] - 25s 25ms/step - loss: 0.8281 - acc: 0.7077 - val_loss: 0.7488 - val_acc: 0.7374\n",
            "Epoch 39/100\n",
            "1000/1000 [==============================] - 24s 24ms/step - loss: 0.8177 - acc: 0.7115 - val_loss: 0.7534 - val_acc: 0.7359\n",
            "Epoch 40/100\n",
            "1000/1000 [==============================] - 25s 25ms/step - loss: 0.8086 - acc: 0.7172 - val_loss: 0.7950 - val_acc: 0.7228\n",
            "Epoch 41/100\n",
            "1000/1000 [==============================] - 24s 24ms/step - loss: 0.8083 - acc: 0.7161 - val_loss: 0.7235 - val_acc: 0.7478\n",
            "Epoch 42/100\n",
            "1000/1000 [==============================] - 24s 24ms/step - loss: 0.7914 - acc: 0.7202 - val_loss: 0.6946 - val_acc: 0.7565\n",
            "Epoch 43/100\n",
            "1000/1000 [==============================] - 24s 24ms/step - loss: 0.7945 - acc: 0.7203 - val_loss: 0.7150 - val_acc: 0.7494\n",
            "Epoch 44/100\n",
            "1000/1000 [==============================] - 24s 24ms/step - loss: 0.7858 - acc: 0.7199 - val_loss: 0.7397 - val_acc: 0.7451\n",
            "Epoch 45/100\n",
            "1000/1000 [==============================] - 25s 25ms/step - loss: 0.7779 - acc: 0.7265 - val_loss: 0.7064 - val_acc: 0.7558\n",
            "Epoch 46/100\n",
            "1000/1000 [==============================] - 25s 25ms/step - loss: 0.7689 - acc: 0.7311 - val_loss: 0.7268 - val_acc: 0.7479\n",
            "Epoch 47/100\n",
            "1000/1000 [==============================] - 25s 25ms/step - loss: 0.7675 - acc: 0.7272 - val_loss: 0.6748 - val_acc: 0.7666\n",
            "Epoch 48/100\n",
            "1000/1000 [==============================] - 25s 25ms/step - loss: 0.7590 - acc: 0.7323 - val_loss: 0.7156 - val_acc: 0.7548\n",
            "Epoch 49/100\n",
            "1000/1000 [==============================] - 25s 25ms/step - loss: 0.7596 - acc: 0.7352 - val_loss: 0.7296 - val_acc: 0.7501\n",
            "Epoch 50/100\n",
            "1000/1000 [==============================] - 25s 25ms/step - loss: 0.7532 - acc: 0.7355 - val_loss: 0.7060 - val_acc: 0.7596\n",
            "Epoch 51/100\n",
            "1000/1000 [==============================] - 25s 25ms/step - loss: 0.7452 - acc: 0.7387 - val_loss: 0.6841 - val_acc: 0.7621\n",
            "Epoch 52/100\n",
            "1000/1000 [==============================] - 25s 25ms/step - loss: 0.7400 - acc: 0.7399 - val_loss: 0.6415 - val_acc: 0.7795\n",
            "Epoch 53/100\n",
            "1000/1000 [==============================] - 25s 25ms/step - loss: 0.7351 - acc: 0.7414 - val_loss: 0.6940 - val_acc: 0.7607\n",
            "Epoch 54/100\n",
            "1000/1000 [==============================] - 25s 25ms/step - loss: 0.7374 - acc: 0.7423 - val_loss: 0.6960 - val_acc: 0.7606\n",
            "Epoch 55/100\n",
            "1000/1000 [==============================] - 26s 26ms/step - loss: 0.7298 - acc: 0.7434 - val_loss: 0.6504 - val_acc: 0.7755\n",
            "Epoch 56/100\n",
            "1000/1000 [==============================] - 25s 25ms/step - loss: 0.7248 - acc: 0.7448 - val_loss: 0.6649 - val_acc: 0.7665\n",
            "Epoch 57/100\n",
            "1000/1000 [==============================] - 26s 26ms/step - loss: 0.7211 - acc: 0.7486 - val_loss: 0.7142 - val_acc: 0.7562\n",
            "Epoch 58/100\n",
            "1000/1000 [==============================] - 24s 24ms/step - loss: 0.7207 - acc: 0.7481 - val_loss: 0.6673 - val_acc: 0.7716\n",
            "Epoch 59/100\n",
            "1000/1000 [==============================] - 25s 25ms/step - loss: 0.7085 - acc: 0.7498 - val_loss: 0.6734 - val_acc: 0.7679\n",
            "Epoch 60/100\n",
            "1000/1000 [==============================] - 24s 24ms/step - loss: 0.7040 - acc: 0.7543 - val_loss: 0.6416 - val_acc: 0.7779\n",
            "Epoch 61/100\n",
            "1000/1000 [==============================] - 24s 24ms/step - loss: 0.7038 - acc: 0.7538 - val_loss: 0.6601 - val_acc: 0.7727\n",
            "Epoch 62/100\n",
            "1000/1000 [==============================] - 25s 25ms/step - loss: 0.7030 - acc: 0.7529 - val_loss: 0.6885 - val_acc: 0.7649\n",
            "Epoch 63/100\n",
            "1000/1000 [==============================] - 24s 24ms/step - loss: 0.6830 - acc: 0.7617 - val_loss: 0.6503 - val_acc: 0.7755\n",
            "Epoch 64/100\n",
            "1000/1000 [==============================] - 23s 23ms/step - loss: 0.6986 - acc: 0.7559 - val_loss: 0.6404 - val_acc: 0.7767\n",
            "Epoch 65/100\n",
            "1000/1000 [==============================] - 23s 23ms/step - loss: 0.6930 - acc: 0.7575 - val_loss: 0.6334 - val_acc: 0.7838\n",
            "Epoch 66/100\n",
            "1000/1000 [==============================] - 23s 23ms/step - loss: 0.6835 - acc: 0.7625 - val_loss: 0.6569 - val_acc: 0.7748\n",
            "Epoch 67/100\n",
            "1000/1000 [==============================] - 25s 25ms/step - loss: 0.6810 - acc: 0.7604 - val_loss: 0.6121 - val_acc: 0.7863\n",
            "Epoch 68/100\n",
            "1000/1000 [==============================] - 24s 24ms/step - loss: 0.6787 - acc: 0.7637 - val_loss: 0.6236 - val_acc: 0.7861\n",
            "Epoch 69/100\n",
            "1000/1000 [==============================] - 25s 25ms/step - loss: 0.6819 - acc: 0.7636 - val_loss: 0.6240 - val_acc: 0.7849\n",
            "Epoch 70/100\n",
            "1000/1000 [==============================] - 26s 26ms/step - loss: 0.6713 - acc: 0.7651 - val_loss: 0.6159 - val_acc: 0.7891\n",
            "Epoch 71/100\n",
            "1000/1000 [==============================] - 25s 25ms/step - loss: 0.6725 - acc: 0.7661 - val_loss: 0.6348 - val_acc: 0.7843\n",
            "Epoch 72/100\n",
            "1000/1000 [==============================] - 26s 26ms/step - loss: 0.6699 - acc: 0.7663 - val_loss: 0.6506 - val_acc: 0.7778\n",
            "Epoch 73/100\n",
            "1000/1000 [==============================] - 26s 26ms/step - loss: 0.6561 - acc: 0.7688 - val_loss: 0.6347 - val_acc: 0.7814\n",
            "Epoch 74/100\n",
            "1000/1000 [==============================] - 26s 26ms/step - loss: 0.6579 - acc: 0.7699 - val_loss: 0.6243 - val_acc: 0.7877\n",
            "Epoch 75/100\n",
            "1000/1000 [==============================] - 26s 26ms/step - loss: 0.6661 - acc: 0.7656 - val_loss: 0.6349 - val_acc: 0.7815\n",
            "Epoch 76/100\n",
            "1000/1000 [==============================] - 25s 25ms/step - loss: 0.6513 - acc: 0.7741 - val_loss: 0.5986 - val_acc: 0.7961\n",
            "Epoch 77/100\n",
            "1000/1000 [==============================] - 25s 25ms/step - loss: 0.6493 - acc: 0.7732 - val_loss: 0.5960 - val_acc: 0.7957\n",
            "Epoch 78/100\n",
            "1000/1000 [==============================] - 25s 25ms/step - loss: 0.6515 - acc: 0.7716 - val_loss: 0.5987 - val_acc: 0.7938\n",
            "Epoch 79/100\n",
            "1000/1000 [==============================] - 26s 26ms/step - loss: 0.6431 - acc: 0.7759 - val_loss: 0.5998 - val_acc: 0.7989\n",
            "Epoch 80/100\n",
            "1000/1000 [==============================] - 26s 26ms/step - loss: 0.6490 - acc: 0.7749 - val_loss: 0.6174 - val_acc: 0.7883\n",
            "Epoch 81/100\n",
            "1000/1000 [==============================] - 26s 26ms/step - loss: 0.6353 - acc: 0.7771 - val_loss: 0.5897 - val_acc: 0.7977\n",
            "Epoch 82/100\n",
            "1000/1000 [==============================] - 26s 26ms/step - loss: 0.6373 - acc: 0.7777 - val_loss: 0.6125 - val_acc: 0.7889\n",
            "Epoch 83/100\n",
            "1000/1000 [==============================] - 25s 25ms/step - loss: 0.6385 - acc: 0.7801 - val_loss: 0.6014 - val_acc: 0.7967\n",
            "Epoch 84/100\n",
            "1000/1000 [==============================] - 25s 25ms/step - loss: 0.6284 - acc: 0.7811 - val_loss: 0.5766 - val_acc: 0.8026\n",
            "Epoch 85/100\n",
            "1000/1000 [==============================] - 25s 25ms/step - loss: 0.6246 - acc: 0.7832 - val_loss: 0.6170 - val_acc: 0.7941\n",
            "Epoch 86/100\n",
            "1000/1000 [==============================] - 25s 25ms/step - loss: 0.6187 - acc: 0.7840 - val_loss: 0.6432 - val_acc: 0.7805\n",
            "Epoch 87/100\n",
            "1000/1000 [==============================] - 25s 25ms/step - loss: 0.6238 - acc: 0.7833 - val_loss: 0.6052 - val_acc: 0.7936\n",
            "Epoch 88/100\n",
            "1000/1000 [==============================] - 25s 25ms/step - loss: 0.6233 - acc: 0.7823 - val_loss: 0.5964 - val_acc: 0.7918\n",
            "Epoch 89/100\n",
            "1000/1000 [==============================] - 25s 25ms/step - loss: 0.6165 - acc: 0.7877 - val_loss: 0.6014 - val_acc: 0.7963\n",
            "Epoch 90/100\n",
            "1000/1000 [==============================] - 25s 25ms/step - loss: 0.6182 - acc: 0.7837 - val_loss: 0.5753 - val_acc: 0.8020\n",
            "Epoch 91/100\n",
            "1000/1000 [==============================] - 25s 25ms/step - loss: 0.6102 - acc: 0.7859 - val_loss: 0.5797 - val_acc: 0.8025\n",
            "Epoch 92/100\n",
            "1000/1000 [==============================] - 25s 25ms/step - loss: 0.6119 - acc: 0.7878 - val_loss: 0.5931 - val_acc: 0.7979\n",
            "Epoch 93/100\n",
            "1000/1000 [==============================] - 25s 25ms/step - loss: 0.6100 - acc: 0.7861 - val_loss: 0.5918 - val_acc: 0.7989\n",
            "Epoch 94/100\n",
            "1000/1000 [==============================] - 25s 25ms/step - loss: 0.6050 - acc: 0.7898 - val_loss: 0.6598 - val_acc: 0.7763\n",
            "Epoch 95/100\n",
            "1000/1000 [==============================] - 25s 25ms/step - loss: 0.6141 - acc: 0.7854 - val_loss: 0.6226 - val_acc: 0.7873\n",
            "Epoch 96/100\n",
            "1000/1000 [==============================] - 25s 25ms/step - loss: 0.6028 - acc: 0.7894 - val_loss: 0.5922 - val_acc: 0.7980\n",
            "Epoch 97/100\n",
            "1000/1000 [==============================] - 25s 25ms/step - loss: 0.6058 - acc: 0.7896 - val_loss: 0.5920 - val_acc: 0.7975\n",
            "Epoch 98/100\n",
            "1000/1000 [==============================] - 25s 25ms/step - loss: 0.5977 - acc: 0.7893 - val_loss: 0.5581 - val_acc: 0.8082\n",
            "Epoch 99/100\n",
            "1000/1000 [==============================] - 25s 25ms/step - loss: 0.5903 - acc: 0.7955 - val_loss: 0.5811 - val_acc: 0.8004\n",
            "Epoch 100/100\n",
            "1000/1000 [==============================] - 25s 25ms/step - loss: 0.5921 - acc: 0.7950 - val_loss: 0.5676 - val_acc: 0.8082\n"
          ],
          "name": "stdout"
        },
        {
          "output_type": "execute_result",
          "data": {
            "text/plain": [
              "<keras.callbacks.History at 0x7f075d4113c8>"
            ]
          },
          "metadata": {
            "tags": []
          },
          "execution_count": 16
        }
      ]
    },
    {
      "metadata": {
        "id": "Nyuf56UxCxI7",
        "colab_type": "code",
        "outputId": "48e2320c-30e9-4ea3-c831-29e52fe896bb",
        "colab": {
          "base_uri": "https://localhost:8080/",
          "height": 52
        }
      },
      "cell_type": "code",
      "source": [
        "score = model.evaluate(val_X, val_Y, verbose=0) \n",
        "print('Validation score:', score[0]) \n",
        "print('Validation accuracy:', score[1])\n"
      ],
      "execution_count": 17,
      "outputs": [
        {
          "output_type": "stream",
          "text": [
            "Test score: 0.5675828916072846\n",
            "Test accuracy: 0.8082\n"
          ],
          "name": "stdout"
        }
      ]
    }
  ]
}