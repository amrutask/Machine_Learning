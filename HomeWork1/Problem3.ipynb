{
  "nbformat": 4,
  "nbformat_minor": 0,
  "metadata": {
    "colab": {
      "name": "Problem3.ipynb",
      "version": "0.3.2",
      "provenance": [],
      "collapsed_sections": [],
      "include_colab_link": true
    },
    "kernelspec": {
      "name": "python3",
      "display_name": "Python 3"
    },
    "accelerator": "GPU"
  },
  "cells": [
    {
      "cell_type": "markdown",
      "metadata": {
        "id": "view-in-github",
        "colab_type": "text"
      },
      "source": [
        "<a href=\"https://colab.research.google.com/github/amrutask/Machine_Learning/blob/master/HomeWork1/Problem3.ipynb\" target=\"_parent\"><img src=\"https://colab.research.google.com/assets/colab-badge.svg\" alt=\"Open In Colab\"/></a>"
      ]
    },
    {
      "metadata": {
        "id": "RcPiziYlJnk0",
        "colab_type": "code",
        "outputId": "b582ffad-dbe1-4438-e349-55b057764703",
        "colab": {
          "base_uri": "https://localhost:8080/",
          "height": 34
        }
      },
      "cell_type": "code",
      "source": [
        "import numpy as np\n",
        "import matplotlib.pyplot as plt\n",
        "import h5py\n",
        "import scipy\n",
        "from PIL import Image\n",
        "from scipy import ndimage\n",
        "%matplotlib inline\n",
        "import keras\n",
        "from keras.datasets import mnist"
      ],
      "execution_count": 0,
      "outputs": [
        {
          "output_type": "stream",
          "text": [
            "Using TensorFlow backend.\n"
          ],
          "name": "stderr"
        }
      ]
    },
    {
      "metadata": {
        "id": "KcPjXAnZJ1LP",
        "colab_type": "code",
        "colab": {}
      },
      "cell_type": "code",
      "source": [
        "class softmax():\n",
        "  \n",
        "  def __init__(self, size, no_classes):\n",
        "    \n",
        "    self.weights = np.zeros((size, no_classes))\n",
        "    self.bias = np.zeros((no_classes,1))\n",
        "    self.accuracy=0.0\n",
        "      \n",
        "  \n",
        "  def train_and_optimize(self, train_x, train_y, no_classes, learning_rate=0.5, num_iters=50, mini_batch_size=200):\n",
        "    \n",
        "    w = np.zeros((train_x.shape[0],no_classes))\n",
        "    b=np.zeros((no_classes,1))\n",
        "    m = train_x.shape[1]   #no of training smaples\n",
        "    print(\"No of training examples:\", m)\n",
        "    num_batches=int(m/mini_batch_size)\n",
        "    costs=[] \n",
        "    \n",
        "    #mini batch gradient descent\n",
        "    for i in range(num_iters):\n",
        "      \n",
        "      batch_cost=[]\n",
        "      shuffled_indices = np.random.permutation(m)       \n",
        "      train_x = train_x[:,shuffled_indices]\n",
        "      train_y = train_y[shuffled_indices, :]\n",
        "      \n",
        "      start=0\n",
        "      end=mini_batch_size-1\n",
        "      \n",
        "      for j in range(num_batches):\n",
        "        X=train_x[:, start:end]\n",
        "        Y=train_y[start:end, :]\n",
        "        Z=np.dot(w.transpose(),X)+ b\n",
        "        x_exp = np.exp(Z)\n",
        "        x_sum = np.sum(x_exp, axis=0, keepdims=True)\n",
        "\n",
        "        A = x_exp / x_sum  # compute activation\n",
        "        cost = (-1/mini_batch_size) *  np.sum(np.multiply(Y.transpose(), np.log(A)) + np.multiply((1-Y).transpose(), np.log(1-A)))\n",
        "        #print(cost)\n",
        "        temp=np.subtract(A,Y.transpose())\n",
        "        dw = (1/mini_batch_size) * X.dot(temp.transpose())\n",
        "        db = (1/mini_batch_size) * np.sum(temp)\n",
        "       \n",
        "        cost = np.squeeze(cost)\n",
        "  \n",
        "        w = w - learning_rate * dw\n",
        "        b = b - learning_rate * db\n",
        "        \n",
        "        batch_cost.append(cost)\n",
        "        start=start+mini_batch_size\n",
        "        end=end+mini_batch_size\n",
        "        \n",
        "      costs.append(sum(batch_cost) / len(batch_cost))\n",
        "    \n",
        "      if i%25==0 or i==num_iters-1:\n",
        "        print(\"Cost after {} iterations: {}\".format(i, sum(costs)/len(costs)))\n",
        "    \n",
        "    self.weights=w\n",
        "    self.bias=b\n",
        "    \n",
        " \n",
        "  def predict(self, test_x, Label):\n",
        "  \n",
        "    Z=(np.dot(self.weights.transpose(),test_x)+ self.bias)\n",
        "    x_exp = np.exp(Z)\n",
        "    x_sum = np.sum(x_exp, axis=0, keepdims=True)\n",
        "    A = x_exp / x_sum  # compute activation\n",
        "    m = test_x.shape[1]\n",
        "    \n",
        "    pred=np.argmax(A, axis=0)\n",
        "    self.accuracy=((np.sum(pred==Label))/m) * 100\n",
        "    \n",
        "    return(self.accuracy)\n",
        "  \n",
        "  \n",
        "  def calc_probability(self, image_features):\n",
        "    Z=(np.dot(self.weights.transpose(),image_features)+ self.bias)\n",
        "    x_exp = np.exp(Z)\n",
        "    x_sum = np.sum(x_exp, keepdims=True)\n",
        "    A = x_exp / x_sum  # compute activation\n",
        "    num=np.argmax(A)\n",
        "    \n",
        "    return(num)"
      ],
      "execution_count": 0,
      "outputs": []
    },
    {
      "metadata": {
        "id": "HKgLsP6MJ-h9",
        "colab_type": "code",
        "outputId": "67b3667a-cef5-4fa5-f56a-4b3bc1c6ccf4",
        "colab": {
          "base_uri": "https://localhost:8080/",
          "height": 228
        }
      },
      "cell_type": "code",
      "source": [
        "(x_train, y_train),(x_test, y_test) = mnist.load_data()\n",
        "\n",
        "train_x_flat = x_train.reshape(x_train.shape[0],-1).T\n",
        "test_x_flat = x_test.reshape(x_test.shape[0],-1).T\n",
        "\n",
        "train_x = train_x_flat / 255\n",
        "test_x = test_x_flat / 255\n",
        "print(\"Size of training data:\",train_x.shape)\n",
        "print(\"Size of test data:\",y_test.shape)\n",
        "\n",
        "#one hot encoding of the labels\n",
        "train_y= np.eye(10)[y_train]\n",
        "\n",
        "print(\"Size of training labels:\", train_y.shape)\n",
        "print(\"Size of test labels:\", test_y.shape)\n",
        "\n",
        "no_classes=10  #0 to 9 digits\n",
        "\n",
        "sfm=softmax(train_x.shape[0], no_classes)\n",
        "print(\"\\nTraining..............\")\n",
        "sfm.train_and_optimize(train_x, train_y, no_classes)\n",
        "acc=sfm.predict(test_x, y_test)\n",
        "print(\"\\nAccuracy: {}\".format(acc))\n",
        "\n",
        "  "
      ],
      "execution_count": 60,
      "outputs": [
        {
          "output_type": "stream",
          "text": [
            "Size of training data: (784, 60000)\n",
            "Size of test data: (10000,)\n",
            "Size of training labels: (60000, 10)\n",
            "Size of test labels: (10000, 10)\n",
            "\n",
            "Training..............\n",
            "No of training examples: 60000\n",
            "Cost after 0 iterations: 0.7245901791509004\n",
            "Cost after 25 iterations: 0.4726355832168215\n",
            "Cost after 49 iterations: 0.4515488233280183\n",
            "\n",
            "Accuracy: 92.31\n"
          ],
          "name": "stdout"
        }
      ]
    },
    {
      "metadata": {
        "id": "mwcN44XMKhGS",
        "colab_type": "code",
        "colab": {
          "base_uri": "https://localhost:8080/",
          "height": 318
        },
        "outputId": "47a621bd-2248-41ce-bf6b-441911ed7111"
      },
      "cell_type": "code",
      "source": [
        "No_to_predict = input(\"Enter any image from 0 to 60000 for prediction: \")\n",
        "\n",
        "plt.imshow(train_x[:,int(No_to_predict)].reshape((28,28)))\n",
        "\n",
        "num=sfm.calc_probability(train_x[:,int(No_to_predict)])\n",
        "\n",
        "  \n",
        "print(\"\\nPredicted number is:\",num)\n",
        "  "
      ],
      "execution_count": 64,
      "outputs": [
        {
          "output_type": "stream",
          "text": [
            "Enter any image from 0 to 60000 for prediction: 2468\n",
            "\n",
            "Predicted number is: 3\n"
          ],
          "name": "stdout"
        },
        {
          "output_type": "display_data",
          "data": {
            "image/png": "[encoded data removed]",
            "text/plain": [
              "<Figure size 432x288 with 1 Axes>"
            ]
          },
          "metadata": {
            "tags": []
          }
        }
      ]
    }
  ]
}