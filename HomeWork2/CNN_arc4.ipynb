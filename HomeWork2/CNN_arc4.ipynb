{
  "nbformat": 4,
  "nbformat_minor": 0,
  "metadata": {
    "colab": {
      "name": "CNN_arc4.ipynb",
      "version": "0.3.2",
      "provenance": [],
      "include_colab_link": true
    },
    "kernelspec": {
      "name": "python3",
      "display_name": "Python 3"
    },
    "accelerator": "GPU"
  },
  "cells": [
    {
      "cell_type": "markdown",
      "metadata": {
        "id": "view-in-github",
        "colab_type": "text"
      },
      "source": [
        "<a href=\"https://colab.research.google.com/github/amrutask/Machine_Learning/blob/master/HomeWork2/CNN_arc4.ipynb\" target=\"_parent\"><img src=\"https://colab.research.google.com/assets/colab-badge.svg\" alt=\"Open In Colab\"/></a>"
      ]
    },
    {
      "metadata": {
        "id": "5iQV91mZyNAV",
        "colab_type": "code",
        "colab": {}
      },
      "cell_type": "code",
      "source": [
        "import keras\n",
        "from keras.models import Sequential\n",
        "from keras.layers import Dense, Dropout, Activation, Flatten, BatchNormalization\n",
        "from keras.layers import Conv2D, MaxPooling2D\n",
        "from keras.preprocessing.image import ImageDataGenerator\n",
        "from keras import optimizers\n",
        "\n",
        "from keras.datasets import cifar10\n",
        "from sklearn.model_selection import train_test_split\n",
        "import matplotlib.pyplot as plt"
      ],
      "execution_count": 0,
      "outputs": []
    },
    {
      "metadata": {
        "id": "HMMTfLXKyZAk",
        "colab_type": "code",
        "colab": {
          "base_uri": "https://localhost:8080/",
          "height": 70
        },
        "outputId": "9e96e07a-5d5d-4a7a-91fb-76996ba576bc"
      },
      "cell_type": "code",
      "source": [
        "(X_train, y_train), (X_test, y_test) = cifar10.load_data()\n",
        "print(\"X_train Size :\",X_train.shape)\n",
        "print(\"X_test Size : \",X_test.shape)\n",
        "print(y_train.shape)"
      ],
      "execution_count": 42,
      "outputs": [
        {
          "output_type": "stream",
          "text": [
            "X_train Size : (50000, 32, 32, 3)\n",
            "X_test Size :  (10000, 32, 32, 3)\n",
            "(50000, 1)\n"
          ],
          "name": "stdout"
        }
      ]
    },
    {
      "metadata": {
        "id": "pcp9B047yb3H",
        "colab_type": "code",
        "colab": {
          "base_uri": "https://localhost:8080/",
          "height": 52
        },
        "outputId": "36fa1e89-276c-4f97-9e27-d95fef2302bd"
      },
      "cell_type": "code",
      "source": [
        "train_X, val_X, train_Y, val_Y = train_test_split(X_train, y_train, test_size=0.2, random_state=0)\n",
        "print(\"Size of training data :\",train_X.shape)\n",
        "print(\"Size of validation data : \",val_X.shape)\n"
      ],
      "execution_count": 43,
      "outputs": [
        {
          "output_type": "stream",
          "text": [
            "Size of training data : (40000, 32, 32, 3)\n",
            "Size of validation data :  (10000, 32, 32, 3)\n"
          ],
          "name": "stdout"
        }
      ]
    },
    {
      "metadata": {
        "id": "0Ua0gOPoyfJT",
        "colab_type": "code",
        "colab": {
          "base_uri": "https://localhost:8080/",
          "height": 34
        },
        "outputId": "fe745108-46b5-4ee1-e279-aaca4ea8682c"
      },
      "cell_type": "code",
      "source": [
        "num_classes=10\n",
        "epoch=100\n",
        "\n",
        "train_Y = keras.utils.to_categorical(train_Y, num_classes)\n",
        "val_Y = keras.utils.to_categorical(val_Y, num_classes)\n",
        "test_Y= keras.utils.to_categorical(y_test, num_classes)\n",
        "\n",
        "print(\"Size of train, validation and test labels: \", train_Y.shape, val_Y.shape, test_Y.shape) "
      ],
      "execution_count": 44,
      "outputs": [
        {
          "output_type": "stream",
          "text": [
            "Size of train, validation and test labels:  (40000, 10) (10000, 10) (10000, 10)\n"
          ],
          "name": "stdout"
        }
      ]
    },
    {
      "metadata": {
        "id": "CJwOp87OyiMx",
        "colab_type": "code",
        "colab": {
          "base_uri": "https://localhost:8080/",
          "height": 562
        },
        "outputId": "e50808db-c0ec-4fe2-dcc9-aceabbcabd6e"
      },
      "cell_type": "code",
      "source": [
        "model = Sequential()\n",
        "model.add(Conv2D(64, (3, 3), padding='same', input_shape=train_X.shape[1:], activation='relu'))\n",
        "model.add(MaxPooling2D(pool_size=(2,2), padding='same'))\n",
        "model.add(Conv2D(128, (3,3), padding='same', activation='relu'))\n",
        "model.add(MaxPooling2D(pool_size=(2, 2), padding='same'))\n",
        "model.add(Dropout(0.25))\n",
        "model.add(Conv2D(128, (3, 3), padding='same', activation='relu'))\n",
        "model.add(MaxPooling2D(pool_size=(2, 2)))\n",
        "model.add(Dropout(0.25))\n",
        "model.add(Flatten())\n",
        "model.add(Dense(800, activation='relu'))\n",
        "model.add(Dense(100, activation='relu'))\n",
        "model.add(Dense(num_classes, activation='softmax'))\n",
        "model.summary()\n",
        "\n",
        "opt = optimizers.rmsprop(lr=0.0001, decay=1e-6)\n",
        "\n",
        "model.compile(loss='categorical_crossentropy',\n",
        "              optimizer=opt,\n",
        "              metrics=['accuracy'])"
      ],
      "execution_count": 45,
      "outputs": [
        {
          "output_type": "stream",
          "text": [
            "_________________________________________________________________\n",
            "Layer (type)                 Output Shape              Param #   \n",
            "=================================================================\n",
            "conv2d_29 (Conv2D)           (None, 32, 32, 64)        1792      \n",
            "_________________________________________________________________\n",
            "max_pooling2d_27 (MaxPooling (None, 16, 16, 64)        0         \n",
            "_________________________________________________________________\n",
            "conv2d_30 (Conv2D)           (None, 16, 16, 128)       73856     \n",
            "_________________________________________________________________\n",
            "max_pooling2d_28 (MaxPooling (None, 8, 8, 128)         0         \n",
            "_________________________________________________________________\n",
            "dropout_20 (Dropout)         (None, 8, 8, 128)         0         \n",
            "_________________________________________________________________\n",
            "conv2d_31 (Conv2D)           (None, 8, 8, 128)         147584    \n",
            "_________________________________________________________________\n",
            "max_pooling2d_29 (MaxPooling (None, 4, 4, 128)         0         \n",
            "_________________________________________________________________\n",
            "dropout_21 (Dropout)         (None, 4, 4, 128)         0         \n",
            "_________________________________________________________________\n",
            "flatten_10 (Flatten)         (None, 2048)              0         \n",
            "_________________________________________________________________\n",
            "dense_27 (Dense)             (None, 800)               1639200   \n",
            "_________________________________________________________________\n",
            "dense_28 (Dense)             (None, 100)               80100     \n",
            "_________________________________________________________________\n",
            "dense_29 (Dense)             (None, 10)                1010      \n",
            "=================================================================\n",
            "Total params: 1,943,542\n",
            "Trainable params: 1,943,542\n",
            "Non-trainable params: 0\n",
            "_________________________________________________________________\n"
          ],
          "name": "stdout"
        }
      ]
    },
    {
      "metadata": {
        "id": "u42kSMzCyjQM",
        "colab_type": "code",
        "colab": {}
      },
      "cell_type": "code",
      "source": [
        "train_X = train_X.astype('float32')\n",
        "val_X = val_X.astype('float32')\n",
        "X_test = X_test.astype('float32')\n",
        "train_X /= 255\n",
        "X_test /= 255\n",
        "val_X /= 255"
      ],
      "execution_count": 0,
      "outputs": []
    },
    {
      "metadata": {
        "id": "xDsfoj1zypJw",
        "colab_type": "code",
        "colab": {
          "base_uri": "https://localhost:8080/",
          "height": 3554
        },
        "outputId": "aca7d65a-d8b6-4c7a-b9b7-71d7c0e375a9"
      },
      "cell_type": "code",
      "source": [
        "datagen = ImageDataGenerator(featurewise_center=False,samplewise_center=False,featurewise_std_normalization=False,samplewise_std_normalization=False, zca_whitening=False,\n",
        "        zca_epsilon=1e-06, rotation_range=10,width_shift_range=0.1, height_shift_range=0.2, shear_range=0., zoom_range=0.,channel_shift_range=0., fill_mode='nearest',\n",
        "        cval=0.,\n",
        "        horizontal_flip=True,\n",
        "        vertical_flip=False,\n",
        "        rescale=None,\n",
        "        preprocessing_function=None,\n",
        "        data_format=None,\n",
        "        validation_split=0)\n",
        "\n",
        "datagen.fit(train_X)\n",
        "model.fit_generator(datagen.flow(train_X, train_Y), steps_per_epoch=1000, epochs=epoch, validation_data=(val_X, val_Y))"
      ],
      "execution_count": 47,
      "outputs": [
        {
          "output_type": "stream",
          "text": [
            "Epoch 1/100\n",
            "1000/1000 [==============================] - 50s 50ms/step - loss: 1.9117 - acc: 0.2977 - val_loss: 1.6383 - val_acc: 0.4115\n",
            "Epoch 2/100\n",
            "1000/1000 [==============================] - 49s 49ms/step - loss: 1.6494 - acc: 0.3967 - val_loss: 1.5242 - val_acc: 0.4377\n",
            "Epoch 3/100\n",
            "1000/1000 [==============================] - 49s 49ms/step - loss: 1.5366 - acc: 0.4416 - val_loss: 1.3943 - val_acc: 0.5061\n",
            "Epoch 4/100\n",
            "1000/1000 [==============================] - 35s 35ms/step - loss: 1.4472 - acc: 0.4762 - val_loss: 1.3344 - val_acc: 0.5253\n",
            "Epoch 5/100\n",
            "1000/1000 [==============================] - 49s 49ms/step - loss: 1.3630 - acc: 0.5086 - val_loss: 1.1633 - val_acc: 0.5910\n",
            "Epoch 6/100\n",
            "1000/1000 [==============================] - 49s 49ms/step - loss: 1.3069 - acc: 0.5290 - val_loss: 1.2833 - val_acc: 0.5509\n",
            "Epoch 7/100\n",
            "1000/1000 [==============================] - 48s 48ms/step - loss: 1.2473 - acc: 0.5518 - val_loss: 1.1179 - val_acc: 0.6008\n",
            "Epoch 8/100\n",
            "1000/1000 [==============================] - 49s 49ms/step - loss: 1.2097 - acc: 0.5695 - val_loss: 1.0693 - val_acc: 0.6221\n",
            "Epoch 9/100\n",
            "1000/1000 [==============================] - 50s 50ms/step - loss: 1.1662 - acc: 0.5826 - val_loss: 0.9893 - val_acc: 0.6497\n",
            "Epoch 10/100\n",
            "1000/1000 [==============================] - 50s 50ms/step - loss: 1.1294 - acc: 0.5962 - val_loss: 1.0042 - val_acc: 0.6496\n",
            "Epoch 11/100\n",
            "1000/1000 [==============================] - 50s 50ms/step - loss: 1.0896 - acc: 0.6136 - val_loss: 0.9544 - val_acc: 0.6668\n",
            "Epoch 12/100\n",
            "1000/1000 [==============================] - 50s 50ms/step - loss: 1.0662 - acc: 0.6207 - val_loss: 0.9691 - val_acc: 0.6605\n",
            "Epoch 13/100\n",
            "1000/1000 [==============================] - 49s 49ms/step - loss: 1.0463 - acc: 0.6257 - val_loss: 0.9355 - val_acc: 0.6738\n",
            "Epoch 14/100\n",
            "1000/1000 [==============================] - 49s 49ms/step - loss: 1.0193 - acc: 0.6383 - val_loss: 0.9238 - val_acc: 0.6715\n",
            "Epoch 15/100\n",
            "1000/1000 [==============================] - 50s 50ms/step - loss: 0.9920 - acc: 0.6482 - val_loss: 0.8929 - val_acc: 0.6864\n",
            "Epoch 16/100\n",
            "1000/1000 [==============================] - 49s 49ms/step - loss: 0.9780 - acc: 0.6565 - val_loss: 0.8762 - val_acc: 0.6913\n",
            "Epoch 17/100\n",
            "1000/1000 [==============================] - 48s 48ms/step - loss: 0.9529 - acc: 0.6609 - val_loss: 0.9143 - val_acc: 0.6875\n",
            "Epoch 18/100\n",
            "1000/1000 [==============================] - 48s 48ms/step - loss: 0.9307 - acc: 0.6714 - val_loss: 0.8318 - val_acc: 0.7099\n",
            "Epoch 19/100\n",
            "1000/1000 [==============================] - 49s 49ms/step - loss: 0.9186 - acc: 0.6753 - val_loss: 0.8498 - val_acc: 0.7051\n",
            "Epoch 20/100\n",
            "1000/1000 [==============================] - 49s 49ms/step - loss: 0.9069 - acc: 0.6800 - val_loss: 0.7854 - val_acc: 0.7259\n",
            "Epoch 21/100\n",
            "1000/1000 [==============================] - 49s 49ms/step - loss: 0.8798 - acc: 0.6868 - val_loss: 0.8067 - val_acc: 0.7183\n",
            "Epoch 22/100\n",
            "1000/1000 [==============================] - 49s 49ms/step - loss: 0.8828 - acc: 0.6917 - val_loss: 0.8062 - val_acc: 0.7171\n",
            "Epoch 23/100\n",
            "1000/1000 [==============================] - 49s 49ms/step - loss: 0.8461 - acc: 0.7009 - val_loss: 0.7836 - val_acc: 0.7332\n",
            "Epoch 24/100\n",
            "1000/1000 [==============================] - 49s 49ms/step - loss: 0.8553 - acc: 0.7012 - val_loss: 0.7399 - val_acc: 0.7386\n",
            "Epoch 25/100\n",
            "1000/1000 [==============================] - 51s 51ms/step - loss: 0.8361 - acc: 0.7062 - val_loss: 0.7085 - val_acc: 0.7520\n",
            "Epoch 26/100\n",
            "1000/1000 [==============================] - 50s 50ms/step - loss: 0.8295 - acc: 0.7105 - val_loss: 0.7792 - val_acc: 0.7363\n",
            "Epoch 27/100\n",
            "1000/1000 [==============================] - 50s 50ms/step - loss: 0.8122 - acc: 0.7133 - val_loss: 0.7193 - val_acc: 0.7523\n",
            "Epoch 28/100\n",
            "1000/1000 [==============================] - 51s 51ms/step - loss: 0.8046 - acc: 0.7177 - val_loss: 0.7636 - val_acc: 0.7365\n",
            "Epoch 29/100\n",
            "1000/1000 [==============================] - 50s 50ms/step - loss: 0.7968 - acc: 0.7243 - val_loss: 0.7507 - val_acc: 0.7361\n",
            "Epoch 30/100\n",
            "1000/1000 [==============================] - 51s 51ms/step - loss: 0.7897 - acc: 0.7242 - val_loss: 0.7430 - val_acc: 0.7426\n",
            "Epoch 31/100\n",
            "1000/1000 [==============================] - 50s 50ms/step - loss: 0.7825 - acc: 0.7267 - val_loss: 0.7083 - val_acc: 0.7595\n",
            "Epoch 32/100\n",
            "1000/1000 [==============================] - 50s 50ms/step - loss: 0.7668 - acc: 0.7325 - val_loss: 0.7314 - val_acc: 0.7499\n",
            "Epoch 33/100\n",
            "1000/1000 [==============================] - 50s 50ms/step - loss: 0.7626 - acc: 0.7350 - val_loss: 0.7561 - val_acc: 0.7370\n",
            "Epoch 34/100\n",
            "1000/1000 [==============================] - 58s 58ms/step - loss: 0.7549 - acc: 0.7322 - val_loss: 0.7182 - val_acc: 0.7540\n",
            "Epoch 35/100\n",
            "1000/1000 [==============================] - 78s 78ms/step - loss: 0.7490 - acc: 0.7385 - val_loss: 0.6901 - val_acc: 0.7608\n",
            "Epoch 36/100\n",
            "1000/1000 [==============================] - 78s 78ms/step - loss: 0.7439 - acc: 0.7410 - val_loss: 0.6481 - val_acc: 0.7709\n",
            "Epoch 37/100\n",
            "1000/1000 [==============================] - 78s 78ms/step - loss: 0.7319 - acc: 0.7438 - val_loss: 0.6972 - val_acc: 0.7578\n",
            "Epoch 38/100\n",
            "1000/1000 [==============================] - 80s 80ms/step - loss: 0.7250 - acc: 0.7475 - val_loss: 0.6397 - val_acc: 0.7765\n",
            "Epoch 39/100\n",
            "1000/1000 [==============================] - 78s 78ms/step - loss: 0.7124 - acc: 0.7517 - val_loss: 0.6316 - val_acc: 0.7808\n",
            "Epoch 40/100\n",
            "1000/1000 [==============================] - 77s 77ms/step - loss: 0.7131 - acc: 0.7496 - val_loss: 0.6929 - val_acc: 0.7615\n",
            "Epoch 41/100\n",
            "1000/1000 [==============================] - 75s 75ms/step - loss: 0.6982 - acc: 0.7566 - val_loss: 0.6807 - val_acc: 0.7649\n",
            "Epoch 42/100\n",
            "1000/1000 [==============================] - 78s 78ms/step - loss: 0.6973 - acc: 0.7552 - val_loss: 0.6041 - val_acc: 0.7969\n",
            "Epoch 43/100\n",
            "1000/1000 [==============================] - 78s 78ms/step - loss: 0.6961 - acc: 0.7562 - val_loss: 0.6301 - val_acc: 0.7849\n",
            "Epoch 44/100\n",
            "1000/1000 [==============================] - 80s 80ms/step - loss: 0.6911 - acc: 0.7580 - val_loss: 0.6109 - val_acc: 0.7916\n",
            "Epoch 45/100\n",
            "1000/1000 [==============================] - 78s 78ms/step - loss: 0.6851 - acc: 0.7629 - val_loss: 0.6076 - val_acc: 0.7910\n",
            "Epoch 46/100\n",
            "1000/1000 [==============================] - 79s 79ms/step - loss: 0.6705 - acc: 0.7651 - val_loss: 0.5949 - val_acc: 0.7953\n",
            "Epoch 47/100\n",
            "1000/1000 [==============================] - 80s 80ms/step - loss: 0.6778 - acc: 0.7630 - val_loss: 0.6419 - val_acc: 0.7810\n",
            "Epoch 48/100\n",
            "1000/1000 [==============================] - 80s 80ms/step - loss: 0.6671 - acc: 0.7683 - val_loss: 0.5949 - val_acc: 0.7977\n",
            "Epoch 49/100\n",
            "1000/1000 [==============================] - 79s 79ms/step - loss: 0.6617 - acc: 0.7685 - val_loss: 0.6214 - val_acc: 0.7829\n",
            "Epoch 50/100\n",
            "1000/1000 [==============================] - 78s 78ms/step - loss: 0.6623 - acc: 0.7681 - val_loss: 0.6313 - val_acc: 0.7825\n",
            "Epoch 51/100\n",
            "1000/1000 [==============================] - 78s 78ms/step - loss: 0.6525 - acc: 0.7728 - val_loss: 0.6141 - val_acc: 0.7914\n",
            "Epoch 52/100\n",
            "1000/1000 [==============================] - 79s 79ms/step - loss: 0.6470 - acc: 0.7738 - val_loss: 0.5950 - val_acc: 0.7965\n",
            "Epoch 53/100\n",
            "1000/1000 [==============================] - 79s 79ms/step - loss: 0.6525 - acc: 0.7729 - val_loss: 0.6015 - val_acc: 0.7956\n",
            "Epoch 54/100\n",
            "1000/1000 [==============================] - 79s 79ms/step - loss: 0.6362 - acc: 0.7808 - val_loss: 0.5795 - val_acc: 0.8018\n",
            "Epoch 55/100\n",
            "1000/1000 [==============================] - 79s 79ms/step - loss: 0.6423 - acc: 0.7764 - val_loss: 0.6109 - val_acc: 0.7941\n",
            "Epoch 56/100\n",
            "1000/1000 [==============================] - 77s 77ms/step - loss: 0.6355 - acc: 0.7779 - val_loss: 0.5796 - val_acc: 0.8055\n",
            "Epoch 57/100\n",
            "1000/1000 [==============================] - 79s 79ms/step - loss: 0.6353 - acc: 0.7781 - val_loss: 0.5817 - val_acc: 0.8018\n",
            "Epoch 58/100\n",
            "1000/1000 [==============================] - 78s 78ms/step - loss: 0.6171 - acc: 0.7848 - val_loss: 0.5325 - val_acc: 0.8162\n",
            "Epoch 59/100\n",
            "1000/1000 [==============================] - 77s 77ms/step - loss: 0.6271 - acc: 0.7794 - val_loss: 0.6153 - val_acc: 0.7928\n",
            "Epoch 60/100\n",
            "1000/1000 [==============================] - 78s 78ms/step - loss: 0.6182 - acc: 0.7859 - val_loss: 0.5548 - val_acc: 0.8106\n",
            "Epoch 61/100\n",
            "1000/1000 [==============================] - 79s 79ms/step - loss: 0.6174 - acc: 0.7866 - val_loss: 0.5880 - val_acc: 0.7964\n",
            "Epoch 62/100\n",
            "1000/1000 [==============================] - 78s 78ms/step - loss: 0.6093 - acc: 0.7877 - val_loss: 0.5978 - val_acc: 0.7930\n",
            "Epoch 63/100\n",
            "1000/1000 [==============================] - 79s 79ms/step - loss: 0.6109 - acc: 0.7846 - val_loss: 0.5693 - val_acc: 0.8072\n",
            "Epoch 64/100\n",
            "1000/1000 [==============================] - 79s 79ms/step - loss: 0.5994 - acc: 0.7927 - val_loss: 0.5845 - val_acc: 0.8056\n",
            "Epoch 65/100\n",
            "1000/1000 [==============================] - 79s 79ms/step - loss: 0.6115 - acc: 0.7865 - val_loss: 0.5448 - val_acc: 0.8133\n",
            "Epoch 66/100\n",
            "1000/1000 [==============================] - 54s 54ms/step - loss: 0.5981 - acc: 0.7903 - val_loss: 0.5743 - val_acc: 0.8072\n",
            "Epoch 67/100\n",
            "1000/1000 [==============================] - 53s 53ms/step - loss: 0.5891 - acc: 0.7970 - val_loss: 0.5933 - val_acc: 0.7973\n",
            "Epoch 68/100\n",
            "1000/1000 [==============================] - 29s 29ms/step - loss: 0.6066 - acc: 0.7893 - val_loss: 0.5746 - val_acc: 0.8073\n",
            "Epoch 69/100\n",
            "1000/1000 [==============================] - 42s 42ms/step - loss: 0.5970 - acc: 0.7940 - val_loss: 0.5676 - val_acc: 0.8016\n",
            "Epoch 70/100\n",
            "1000/1000 [==============================] - 50s 50ms/step - loss: 0.5889 - acc: 0.7966 - val_loss: 0.5715 - val_acc: 0.8048\n",
            "Epoch 71/100\n",
            "1000/1000 [==============================] - 50s 50ms/step - loss: 0.5834 - acc: 0.7981 - val_loss: 0.5863 - val_acc: 0.8040\n",
            "Epoch 72/100\n",
            "1000/1000 [==============================] - 50s 50ms/step - loss: 0.5892 - acc: 0.7967 - val_loss: 0.5812 - val_acc: 0.8035\n",
            "Epoch 73/100\n",
            "1000/1000 [==============================] - 51s 51ms/step - loss: 0.5802 - acc: 0.7983 - val_loss: 0.5708 - val_acc: 0.8035\n",
            "Epoch 74/100\n",
            "1000/1000 [==============================] - 50s 50ms/step - loss: 0.5792 - acc: 0.7996 - val_loss: 0.5122 - val_acc: 0.8228\n",
            "Epoch 75/100\n",
            "1000/1000 [==============================] - 42s 42ms/step - loss: 0.5786 - acc: 0.7986 - val_loss: 0.5587 - val_acc: 0.8126\n",
            "Epoch 76/100\n",
            "1000/1000 [==============================] - 27s 27ms/step - loss: 0.5780 - acc: 0.7987 - val_loss: 0.5955 - val_acc: 0.7982\n",
            "Epoch 77/100\n",
            "1000/1000 [==============================] - 27s 27ms/step - loss: 0.5707 - acc: 0.8015 - val_loss: 0.5325 - val_acc: 0.8177\n",
            "Epoch 78/100\n",
            "1000/1000 [==============================] - 26s 26ms/step - loss: 0.5753 - acc: 0.8015 - val_loss: 0.5501 - val_acc: 0.8128\n",
            "Epoch 79/100\n",
            "1000/1000 [==============================] - 27s 27ms/step - loss: 0.5604 - acc: 0.8079 - val_loss: 0.5607 - val_acc: 0.8135\n",
            "Epoch 80/100\n",
            "1000/1000 [==============================] - 26s 26ms/step - loss: 0.5671 - acc: 0.8045 - val_loss: 0.5811 - val_acc: 0.8027\n",
            "Epoch 81/100\n",
            "1000/1000 [==============================] - 27s 27ms/step - loss: 0.5653 - acc: 0.8042 - val_loss: 0.5584 - val_acc: 0.8127\n",
            "Epoch 82/100\n",
            "1000/1000 [==============================] - 27s 27ms/step - loss: 0.5628 - acc: 0.8037 - val_loss: 0.5451 - val_acc: 0.8136\n",
            "Epoch 83/100\n",
            "1000/1000 [==============================] - 27s 27ms/step - loss: 0.5602 - acc: 0.8071 - val_loss: 0.5143 - val_acc: 0.8246\n",
            "Epoch 84/100\n",
            "1000/1000 [==============================] - 27s 27ms/step - loss: 0.5559 - acc: 0.8077 - val_loss: 0.5392 - val_acc: 0.8122\n",
            "Epoch 85/100\n",
            "1000/1000 [==============================] - 26s 26ms/step - loss: 0.5646 - acc: 0.8054 - val_loss: 0.5307 - val_acc: 0.8207\n",
            "Epoch 86/100\n",
            "1000/1000 [==============================] - 27s 27ms/step - loss: 0.5580 - acc: 0.8091 - val_loss: 0.5236 - val_acc: 0.8200\n",
            "Epoch 87/100\n",
            "1000/1000 [==============================] - 26s 26ms/step - loss: 0.5604 - acc: 0.8079 - val_loss: 0.5487 - val_acc: 0.8140\n",
            "Epoch 88/100\n",
            "1000/1000 [==============================] - 27s 27ms/step - loss: 0.5601 - acc: 0.8054 - val_loss: 0.5321 - val_acc: 0.8162\n",
            "Epoch 89/100\n",
            "1000/1000 [==============================] - 26s 26ms/step - loss: 0.5495 - acc: 0.8096 - val_loss: 0.5579 - val_acc: 0.8135\n",
            "Epoch 90/100\n",
            "1000/1000 [==============================] - 27s 27ms/step - loss: 0.5492 - acc: 0.8094 - val_loss: 0.5198 - val_acc: 0.8267\n",
            "Epoch 91/100\n",
            "1000/1000 [==============================] - 27s 27ms/step - loss: 0.5427 - acc: 0.8105 - val_loss: 0.5460 - val_acc: 0.8144\n",
            "Epoch 92/100\n",
            "1000/1000 [==============================] - 27s 27ms/step - loss: 0.5483 - acc: 0.8127 - val_loss: 0.5334 - val_acc: 0.8193\n",
            "Epoch 93/100\n",
            "1000/1000 [==============================] - 28s 28ms/step - loss: 0.5497 - acc: 0.8133 - val_loss: 0.5116 - val_acc: 0.8233\n",
            "Epoch 94/100\n",
            "1000/1000 [==============================] - 27s 27ms/step - loss: 0.5480 - acc: 0.8124 - val_loss: 0.5444 - val_acc: 0.8129\n",
            "Epoch 95/100\n",
            "1000/1000 [==============================] - 27s 27ms/step - loss: 0.5396 - acc: 0.8152 - val_loss: 0.5631 - val_acc: 0.8141\n",
            "Epoch 96/100\n",
            "1000/1000 [==============================] - 27s 27ms/step - loss: 0.5468 - acc: 0.8125 - val_loss: 0.5761 - val_acc: 0.8017\n",
            "Epoch 97/100\n",
            "1000/1000 [==============================] - 27s 27ms/step - loss: 0.5468 - acc: 0.8129 - val_loss: 0.5515 - val_acc: 0.8147\n",
            "Epoch 98/100\n",
            "1000/1000 [==============================] - 27s 27ms/step - loss: 0.5422 - acc: 0.8153 - val_loss: 0.5218 - val_acc: 0.8231\n",
            "Epoch 99/100\n",
            "1000/1000 [==============================] - 27s 27ms/step - loss: 0.5381 - acc: 0.8132 - val_loss: 0.5572 - val_acc: 0.8114\n",
            "Epoch 100/100\n",
            "1000/1000 [==============================] - 27s 27ms/step - loss: 0.5441 - acc: 0.8120 - val_loss: 0.5327 - val_acc: 0.8240\n"
          ],
          "name": "stdout"
        },
        {
          "output_type": "execute_result",
          "data": {
            "text/plain": [
              "<keras.callbacks.History at 0x7f09b11871d0>"
            ]
          },
          "metadata": {
            "tags": []
          },
          "execution_count": 47
        }
      ]
    },
    {
      "metadata": {
        "id": "TX6mMfQh_hTH",
        "colab_type": "code",
        "colab": {
          "base_uri": "https://localhost:8080/",
          "height": 52
        },
        "outputId": "6bb3b3e1-45c1-40f7-b72e-143901f2af5e"
      },
      "cell_type": "code",
      "source": [
        "score = model.evaluate(val_X, val_Y, verbose=0) \n",
        "print('Validation score:', score[0]) \n",
        "print('Validation accuracy:', score[1])"
      ],
      "execution_count": 48,
      "outputs": [
        {
          "output_type": "stream",
          "text": [
            "Validation score: 0.5327488030433655\n",
            "Validation accuracy: 0.824\n"
          ],
          "name": "stdout"
        }
      ]
    }
  ]
}