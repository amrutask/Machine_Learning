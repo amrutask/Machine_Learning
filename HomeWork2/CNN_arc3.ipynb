{
  "nbformat": 4,
  "nbformat_minor": 0,
  "metadata": {
    "colab": {
      "name": "CNN_arc3",
      "version": "0.3.2",
      "provenance": [],
      "collapsed_sections": [],
      "include_colab_link": true
    },
    "kernelspec": {
      "name": "python3",
      "display_name": "Python 3"
    },
    "accelerator": "GPU"
  },
  "cells": [
    {
      "cell_type": "markdown",
      "metadata": {
        "id": "view-in-github",
        "colab_type": "text"
      },
      "source": [
        "<a href=\"https://colab.research.google.com/github/amrutask/Machine_Learning/blob/master/HomeWork2/CNN_arc3.ipynb\" target=\"_parent\"><img src=\"https://colab.research.google.com/assets/colab-badge.svg\" alt=\"Open In Colab\"/></a>"
      ]
    },
    {
      "metadata": {
        "id": "-JSUalk_jyqc",
        "colab_type": "code",
        "colab": {}
      },
      "cell_type": "code",
      "source": [
        "import keras\n",
        "from keras.models import Sequential\n",
        "from keras.layers import Dense, Dropout, Activation, Flatten, BatchNormalization\n",
        "from keras.layers import Conv2D, MaxPooling2D\n",
        "from keras.preprocessing.image import ImageDataGenerator\n",
        "from keras import optimizers\n",
        "\n",
        "from keras.datasets import cifar10\n",
        "from sklearn.model_selection import train_test_split\n",
        "import matplotlib.pyplot as plt"
      ],
      "execution_count": 0,
      "outputs": []
    },
    {
      "metadata": {
        "id": "9j5FdB4zj5ac",
        "colab_type": "code",
        "outputId": "3b08cc47-3db9-4b1c-d6c5-2a8c1b09f7f2",
        "colab": {
          "base_uri": "https://localhost:8080/",
          "height": 70
        }
      },
      "cell_type": "code",
      "source": [
        "(X_train, y_train), (X_test, y_test) = cifar10.load_data()\n",
        "print(\"X_train Size :\",X_train.shape)\n",
        "print(\"X_test Size : \",X_test.shape)\n",
        "print(y_train.shape)"
      ],
      "execution_count": 13,
      "outputs": [
        {
          "output_type": "stream",
          "text": [
            "X_train Size : (50000, 32, 32, 3)\n",
            "X_test Size :  (10000, 32, 32, 3)\n",
            "(50000, 1)\n"
          ],
          "name": "stdout"
        }
      ]
    },
    {
      "metadata": {
        "id": "QUAC4wX6j7MN",
        "colab_type": "code",
        "outputId": "afca1e48-782d-4285-e63a-2bba1c9c90c7",
        "colab": {
          "base_uri": "https://localhost:8080/",
          "height": 52
        }
      },
      "cell_type": "code",
      "source": [
        "train_X, val_X, train_Y, val_Y = train_test_split(X_train, y_train, test_size=0.2, random_state=0)\n",
        "print(\"Size of training data :\",train_X.shape)\n",
        "print(\"Size of validation data : \",val_X.shape)"
      ],
      "execution_count": 14,
      "outputs": [
        {
          "output_type": "stream",
          "text": [
            "Size of training data : (40000, 32, 32, 3)\n",
            "Size of validation data :  (10000, 32, 32, 3)\n"
          ],
          "name": "stdout"
        }
      ]
    },
    {
      "metadata": {
        "id": "arZrNov4kByY",
        "colab_type": "code",
        "outputId": "79c6ea8a-7db3-4a33-850e-abee2ba1fdb8",
        "colab": {
          "base_uri": "https://localhost:8080/",
          "height": 34
        }
      },
      "cell_type": "code",
      "source": [
        "num_classes=10\n",
        "epoch=100\n",
        "\n",
        "train_Y = keras.utils.to_categorical(train_Y, num_classes)\n",
        "val_Y = keras.utils.to_categorical(val_Y, num_classes)\n",
        "test_Y= keras.utils.to_categorical(y_test, num_classes)\n",
        "\n",
        "print(\"Size of train, validation and test labels: \", train_Y.shape, val_Y.shape, test_Y.shape) "
      ],
      "execution_count": 15,
      "outputs": [
        {
          "output_type": "stream",
          "text": [
            "Size of train, validation and test labels:  (40000, 10) (10000, 10) (10000, 10)\n"
          ],
          "name": "stdout"
        }
      ]
    },
    {
      "metadata": {
        "id": "Ji3bVsSXkFgS",
        "colab_type": "code",
        "outputId": "e00f7710-837e-459f-defe-08cef9d7c312",
        "colab": {
          "base_uri": "https://localhost:8080/",
          "height": 774
        }
      },
      "cell_type": "code",
      "source": [
        "model = Sequential()\n",
        "\n",
        "model.add(Conv2D(32, (3, 3), strides=(1, 1), input_shape=train_X.shape[1:]))\n",
        "model.add(Activation('relu'))\n",
        "model.add(BatchNormalization())\n",
        "model.add(MaxPooling2D(pool_size=(2,2)))\n",
        "model.add(Dropout(0.25))\n",
        "\n",
        "model.add(Conv2D(112, (3,3), padding='same'))\n",
        "model.add(Activation('relu'))\n",
        "model.add(BatchNormalization())\n",
        "model.add(MaxPooling2D(pool_size=(2, 2)))\n",
        "model.add(Dropout(0.25))\n",
        "\n",
        "model.add(Conv2D(112, (3,3), padding='same'))\n",
        "model.add(Activation('relu'))\n",
        "model.add(BatchNormalization())\n",
        "model.add(MaxPooling2D(pool_size=(2, 2)))\n",
        "\n",
        "model.add(Flatten())\n",
        "model.add(Dense(700, activation='relu'))\n",
        "model.add(Dense(200, activation='relu'))\n",
        "model.add(Dense(num_classes, activation='softmax'))\n",
        "model.summary()\n",
        "\n",
        "opt = optimizers.rmsprop(lr=0.0001, decay=1e-6)\n",
        "\n",
        "model.compile(loss='categorical_crossentropy',\n",
        "              optimizer=opt,\n",
        "              metrics=['accuracy'])"
      ],
      "execution_count": 16,
      "outputs": [
        {
          "output_type": "stream",
          "text": [
            "_________________________________________________________________\n",
            "Layer (type)                 Output Shape              Param #   \n",
            "=================================================================\n",
            "conv2d_7 (Conv2D)            (None, 30, 30, 32)        896       \n",
            "_________________________________________________________________\n",
            "activation_7 (Activation)    (None, 30, 30, 32)        0         \n",
            "_________________________________________________________________\n",
            "batch_normalization_7 (Batch (None, 30, 30, 32)        128       \n",
            "_________________________________________________________________\n",
            "max_pooling2d_7 (MaxPooling2 (None, 15, 15, 32)        0         \n",
            "_________________________________________________________________\n",
            "dropout_5 (Dropout)          (None, 15, 15, 32)        0         \n",
            "_________________________________________________________________\n",
            "conv2d_8 (Conv2D)            (None, 15, 15, 112)       32368     \n",
            "_________________________________________________________________\n",
            "activation_8 (Activation)    (None, 15, 15, 112)       0         \n",
            "_________________________________________________________________\n",
            "batch_normalization_8 (Batch (None, 15, 15, 112)       448       \n",
            "_________________________________________________________________\n",
            "max_pooling2d_8 (MaxPooling2 (None, 7, 7, 112)         0         \n",
            "_________________________________________________________________\n",
            "dropout_6 (Dropout)          (None, 7, 7, 112)         0         \n",
            "_________________________________________________________________\n",
            "conv2d_9 (Conv2D)            (None, 7, 7, 112)         113008    \n",
            "_________________________________________________________________\n",
            "activation_9 (Activation)    (None, 7, 7, 112)         0         \n",
            "_________________________________________________________________\n",
            "batch_normalization_9 (Batch (None, 7, 7, 112)         448       \n",
            "_________________________________________________________________\n",
            "max_pooling2d_9 (MaxPooling2 (None, 3, 3, 112)         0         \n",
            "_________________________________________________________________\n",
            "flatten_3 (Flatten)          (None, 1008)              0         \n",
            "_________________________________________________________________\n",
            "dense_7 (Dense)              (None, 700)               706300    \n",
            "_________________________________________________________________\n",
            "dense_8 (Dense)              (None, 200)               140200    \n",
            "_________________________________________________________________\n",
            "dense_9 (Dense)              (None, 10)                2010      \n",
            "=================================================================\n",
            "Total params: 995,806\n",
            "Trainable params: 995,294\n",
            "Non-trainable params: 512\n",
            "_________________________________________________________________\n"
          ],
          "name": "stdout"
        }
      ]
    },
    {
      "metadata": {
        "id": "qDw7BN-NkHLN",
        "colab_type": "code",
        "colab": {}
      },
      "cell_type": "code",
      "source": [
        "train_X = train_X.astype('float32')\n",
        "val_X = val_X.astype('float32')\n",
        "X_test = X_test.astype('float32')\n",
        "train_X /= 255\n",
        "X_test /= 255\n",
        "val_X /= 255"
      ],
      "execution_count": 0,
      "outputs": []
    },
    {
      "metadata": {
        "id": "LGCRCYZrkM1F",
        "colab_type": "code",
        "outputId": "329ed98f-4e15-433b-e0ea-314a228fbd3c",
        "colab": {
          "base_uri": "https://localhost:8080/",
          "height": 3554
        }
      },
      "cell_type": "code",
      "source": [
        "datagen = ImageDataGenerator(featurewise_center=False,samplewise_center=False,featurewise_std_normalization=False,samplewise_std_normalization=False, zca_whitening=False,\n",
        "        zca_epsilon=1e-06, rotation_range=0,width_shift_range=0.1, height_shift_range=0.1, shear_range=0., zoom_range=0.,channel_shift_range=0., fill_mode='nearest',\n",
        "        cval=0.,\n",
        "        horizontal_flip=False,\n",
        "        vertical_flip=True,\n",
        "        rescale=None,\n",
        "        preprocessing_function=None,\n",
        "        data_format=None,\n",
        "        validation_split=0.1)\n",
        "\n",
        "datagen.fit(train_X)\n",
        "model.fit_generator(datagen.flow(train_X, train_Y), steps_per_epoch=1000, epochs=epoch, validation_data=(val_X, val_Y))"
      ],
      "execution_count": 18,
      "outputs": [
        {
          "output_type": "stream",
          "text": [
            "Epoch 1/100\n",
            "1000/1000 [==============================] - 57s 57ms/step - loss: 1.8168 - acc: 0.3420 - val_loss: 1.7633 - val_acc: 0.3776\n",
            "Epoch 2/100\n",
            "1000/1000 [==============================] - 53s 53ms/step - loss: 1.5446 - acc: 0.4375 - val_loss: 1.7628 - val_acc: 0.4139\n",
            "Epoch 3/100\n",
            "1000/1000 [==============================] - 54s 54ms/step - loss: 1.4224 - acc: 0.4859 - val_loss: 1.9600 - val_acc: 0.4070\n",
            "Epoch 4/100\n",
            "1000/1000 [==============================] - 52s 52ms/step - loss: 1.3599 - acc: 0.5104 - val_loss: 1.7786 - val_acc: 0.4617\n",
            "Epoch 5/100\n",
            "1000/1000 [==============================] - 52s 52ms/step - loss: 1.2982 - acc: 0.5336 - val_loss: 1.6686 - val_acc: 0.4899\n",
            "Epoch 6/100\n",
            "1000/1000 [==============================] - 52s 52ms/step - loss: 1.2446 - acc: 0.5543 - val_loss: 2.4492 - val_acc: 0.3898\n",
            "Epoch 7/100\n",
            "1000/1000 [==============================] - 53s 53ms/step - loss: 1.2108 - acc: 0.5674 - val_loss: 2.4763 - val_acc: 0.3895\n",
            "Epoch 8/100\n",
            "1000/1000 [==============================] - 51s 51ms/step - loss: 1.1743 - acc: 0.5796 - val_loss: 1.9480 - val_acc: 0.4911\n",
            "Epoch 9/100\n",
            "1000/1000 [==============================] - 53s 53ms/step - loss: 1.1337 - acc: 0.5993 - val_loss: 1.8198 - val_acc: 0.5197\n",
            "Epoch 10/100\n",
            "1000/1000 [==============================] - 52s 52ms/step - loss: 1.1177 - acc: 0.6059 - val_loss: 1.5495 - val_acc: 0.5547\n",
            "Epoch 11/100\n",
            "1000/1000 [==============================] - 52s 52ms/step - loss: 1.0810 - acc: 0.6176 - val_loss: 1.6243 - val_acc: 0.5516\n",
            "Epoch 12/100\n",
            "1000/1000 [==============================] - 51s 51ms/step - loss: 1.0552 - acc: 0.6266 - val_loss: 1.8602 - val_acc: 0.5169\n",
            "Epoch 13/100\n",
            "1000/1000 [==============================] - 52s 52ms/step - loss: 1.0337 - acc: 0.6308 - val_loss: 1.4109 - val_acc: 0.5949\n",
            "Epoch 14/100\n",
            "1000/1000 [==============================] - 51s 51ms/step - loss: 1.0106 - acc: 0.6407 - val_loss: 2.1428 - val_acc: 0.5072\n",
            "Epoch 15/100\n",
            "1000/1000 [==============================] - 53s 53ms/step - loss: 0.9949 - acc: 0.6467 - val_loss: 1.9630 - val_acc: 0.5299\n",
            "Epoch 16/100\n",
            "1000/1000 [==============================] - 53s 53ms/step - loss: 0.9675 - acc: 0.6565 - val_loss: 1.8083 - val_acc: 0.5546\n",
            "Epoch 17/100\n",
            "1000/1000 [==============================] - 52s 52ms/step - loss: 0.9601 - acc: 0.6584 - val_loss: 1.2489 - val_acc: 0.6356\n",
            "Epoch 18/100\n",
            "1000/1000 [==============================] - 52s 52ms/step - loss: 0.9357 - acc: 0.6714 - val_loss: 1.8168 - val_acc: 0.5603\n",
            "Epoch 19/100\n",
            "1000/1000 [==============================] - 52s 52ms/step - loss: 0.9183 - acc: 0.6775 - val_loss: 1.2037 - val_acc: 0.6582\n",
            "Epoch 20/100\n",
            "1000/1000 [==============================] - 51s 51ms/step - loss: 0.9159 - acc: 0.6778 - val_loss: 2.3072 - val_acc: 0.5222\n",
            "Epoch 21/100\n",
            "1000/1000 [==============================] - 52s 52ms/step - loss: 0.8903 - acc: 0.6847 - val_loss: 2.0966 - val_acc: 0.5456\n",
            "Epoch 22/100\n",
            "1000/1000 [==============================] - 53s 53ms/step - loss: 0.8825 - acc: 0.6879 - val_loss: 1.6654 - val_acc: 0.6104\n",
            "Epoch 23/100\n",
            "1000/1000 [==============================] - 52s 52ms/step - loss: 0.8683 - acc: 0.6920 - val_loss: 1.6349 - val_acc: 0.6081\n",
            "Epoch 24/100\n",
            "1000/1000 [==============================] - 52s 52ms/step - loss: 0.8565 - acc: 0.6987 - val_loss: 1.5014 - val_acc: 0.6301\n",
            "Epoch 25/100\n",
            "1000/1000 [==============================] - 51s 51ms/step - loss: 0.8577 - acc: 0.6988 - val_loss: 1.3589 - val_acc: 0.6523\n",
            "Epoch 26/100\n",
            "1000/1000 [==============================] - 52s 52ms/step - loss: 0.8429 - acc: 0.7035 - val_loss: 1.3342 - val_acc: 0.6607\n",
            "Epoch 27/100\n",
            "1000/1000 [==============================] - 53s 53ms/step - loss: 0.8332 - acc: 0.7069 - val_loss: 1.6722 - val_acc: 0.6218\n",
            "Epoch 28/100\n",
            "1000/1000 [==============================] - 53s 53ms/step - loss: 0.8162 - acc: 0.7107 - val_loss: 1.9117 - val_acc: 0.5999\n",
            "Epoch 29/100\n",
            "1000/1000 [==============================] - 53s 53ms/step - loss: 0.8180 - acc: 0.7139 - val_loss: 1.4381 - val_acc: 0.6608\n",
            "Epoch 30/100\n",
            "1000/1000 [==============================] - 52s 52ms/step - loss: 0.8056 - acc: 0.7178 - val_loss: 3.0134 - val_acc: 0.5191\n",
            "Epoch 31/100\n",
            "1000/1000 [==============================] - 52s 52ms/step - loss: 0.7957 - acc: 0.7208 - val_loss: 1.6034 - val_acc: 0.6408\n",
            "Epoch 32/100\n",
            "1000/1000 [==============================] - 54s 54ms/step - loss: 0.7780 - acc: 0.7293 - val_loss: 1.6615 - val_acc: 0.6536\n",
            "Epoch 33/100\n",
            "1000/1000 [==============================] - 54s 54ms/step - loss: 0.7926 - acc: 0.7228 - val_loss: 1.4127 - val_acc: 0.6809\n",
            "Epoch 34/100\n",
            "1000/1000 [==============================] - 54s 54ms/step - loss: 0.7785 - acc: 0.7287 - val_loss: 1.8999 - val_acc: 0.6297\n",
            "Epoch 35/100\n",
            "1000/1000 [==============================] - 53s 53ms/step - loss: 0.7665 - acc: 0.7323 - val_loss: 2.7166 - val_acc: 0.5586\n",
            "Epoch 36/100\n",
            "1000/1000 [==============================] - 53s 53ms/step - loss: 0.7683 - acc: 0.7332 - val_loss: 1.1964 - val_acc: 0.7011\n",
            "Epoch 37/100\n",
            "1000/1000 [==============================] - 53s 53ms/step - loss: 0.7548 - acc: 0.7360 - val_loss: 1.1057 - val_acc: 0.7097\n",
            "Epoch 38/100\n",
            "1000/1000 [==============================] - 26s 26ms/step - loss: 0.7560 - acc: 0.7367 - val_loss: 1.1871 - val_acc: 0.7055\n",
            "Epoch 39/100\n",
            "1000/1000 [==============================] - 28s 28ms/step - loss: 0.7539 - acc: 0.7363 - val_loss: 2.0192 - val_acc: 0.6139\n",
            "Epoch 40/100\n",
            "1000/1000 [==============================] - 27s 27ms/step - loss: 0.7423 - acc: 0.7379 - val_loss: 1.0508 - val_acc: 0.7169\n",
            "Epoch 41/100\n",
            "1000/1000 [==============================] - 28s 28ms/step - loss: 0.7401 - acc: 0.7416 - val_loss: 1.3904 - val_acc: 0.6876\n",
            "Epoch 42/100\n",
            "1000/1000 [==============================] - 27s 27ms/step - loss: 0.7324 - acc: 0.7459 - val_loss: 1.5933 - val_acc: 0.6486\n",
            "Epoch 43/100\n",
            "1000/1000 [==============================] - 48s 48ms/step - loss: 0.7335 - acc: 0.7465 - val_loss: 1.0254 - val_acc: 0.7269\n",
            "Epoch 44/100\n",
            "1000/1000 [==============================] - 48s 48ms/step - loss: 0.7256 - acc: 0.7494 - val_loss: 1.3275 - val_acc: 0.7027\n",
            "Epoch 45/100\n",
            "1000/1000 [==============================] - 49s 49ms/step - loss: 0.7225 - acc: 0.7513 - val_loss: 2.2960 - val_acc: 0.6275\n",
            "Epoch 46/100\n",
            "1000/1000 [==============================] - 49s 49ms/step - loss: 0.7206 - acc: 0.7506 - val_loss: 1.5158 - val_acc: 0.6828\n",
            "Epoch 47/100\n",
            "1000/1000 [==============================] - 49s 49ms/step - loss: 0.7088 - acc: 0.7535 - val_loss: 1.2760 - val_acc: 0.7096\n",
            "Epoch 48/100\n",
            "1000/1000 [==============================] - 48s 48ms/step - loss: 0.7182 - acc: 0.7524 - val_loss: 1.1575 - val_acc: 0.7194\n",
            "Epoch 49/100\n",
            "1000/1000 [==============================] - 48s 48ms/step - loss: 0.7038 - acc: 0.7591 - val_loss: 1.1603 - val_acc: 0.7098\n",
            "Epoch 50/100\n",
            "1000/1000 [==============================] - 47s 47ms/step - loss: 0.7117 - acc: 0.7531 - val_loss: 1.2126 - val_acc: 0.7077\n",
            "Epoch 51/100\n",
            "1000/1000 [==============================] - 48s 48ms/step - loss: 0.6951 - acc: 0.7587 - val_loss: 1.1551 - val_acc: 0.7229\n",
            "Epoch 52/100\n",
            "1000/1000 [==============================] - 49s 49ms/step - loss: 0.6915 - acc: 0.7628 - val_loss: 1.4155 - val_acc: 0.6994\n",
            "Epoch 53/100\n",
            "1000/1000 [==============================] - 48s 48ms/step - loss: 0.6945 - acc: 0.7585 - val_loss: 1.6856 - val_acc: 0.6762\n",
            "Epoch 54/100\n",
            "1000/1000 [==============================] - 49s 49ms/step - loss: 0.6975 - acc: 0.7619 - val_loss: 1.4493 - val_acc: 0.6920\n",
            "Epoch 55/100\n",
            "1000/1000 [==============================] - 47s 47ms/step - loss: 0.6937 - acc: 0.7608 - val_loss: 1.4823 - val_acc: 0.6970\n",
            "Epoch 56/100\n",
            "1000/1000 [==============================] - 50s 50ms/step - loss: 0.6789 - acc: 0.7643 - val_loss: 1.2741 - val_acc: 0.7163\n",
            "Epoch 57/100\n",
            "1000/1000 [==============================] - 51s 51ms/step - loss: 0.6818 - acc: 0.7657 - val_loss: 1.7150 - val_acc: 0.6703\n",
            "Epoch 58/100\n",
            "1000/1000 [==============================] - 74s 74ms/step - loss: 0.6721 - acc: 0.7700 - val_loss: 1.5377 - val_acc: 0.6916\n",
            "Epoch 59/100\n",
            "1000/1000 [==============================] - 76s 76ms/step - loss: 0.6813 - acc: 0.7642 - val_loss: 1.1000 - val_acc: 0.7285\n",
            "Epoch 60/100\n",
            "1000/1000 [==============================] - 74s 74ms/step - loss: 0.6814 - acc: 0.7660 - val_loss: 1.4563 - val_acc: 0.7011\n",
            "Epoch 61/100\n",
            "1000/1000 [==============================] - 75s 75ms/step - loss: 0.6774 - acc: 0.7688 - val_loss: 0.9928 - val_acc: 0.7400\n",
            "Epoch 62/100\n",
            "1000/1000 [==============================] - 75s 75ms/step - loss: 0.6681 - acc: 0.7687 - val_loss: 1.2731 - val_acc: 0.7236\n",
            "Epoch 63/100\n",
            "1000/1000 [==============================] - 76s 76ms/step - loss: 0.6696 - acc: 0.7704 - val_loss: 1.2274 - val_acc: 0.7248\n",
            "Epoch 64/100\n",
            "1000/1000 [==============================] - 74s 74ms/step - loss: 0.6663 - acc: 0.7709 - val_loss: 1.0762 - val_acc: 0.7312\n",
            "Epoch 65/100\n",
            "1000/1000 [==============================] - 78s 78ms/step - loss: 0.6686 - acc: 0.7697 - val_loss: 0.9860 - val_acc: 0.7435\n",
            "Epoch 66/100\n",
            "1000/1000 [==============================] - 77s 77ms/step - loss: 0.6633 - acc: 0.7718 - val_loss: 1.1350 - val_acc: 0.7317\n",
            "Epoch 67/100\n",
            "1000/1000 [==============================] - 76s 76ms/step - loss: 0.6539 - acc: 0.7773 - val_loss: 1.4660 - val_acc: 0.7064\n",
            "Epoch 68/100\n",
            "1000/1000 [==============================] - 76s 76ms/step - loss: 0.6510 - acc: 0.7757 - val_loss: 1.1503 - val_acc: 0.7317\n",
            "Epoch 69/100\n",
            "1000/1000 [==============================] - 75s 75ms/step - loss: 0.6514 - acc: 0.7754 - val_loss: 1.3144 - val_acc: 0.7219\n",
            "Epoch 70/100\n",
            "1000/1000 [==============================] - 75s 75ms/step - loss: 0.6517 - acc: 0.7768 - val_loss: 1.0993 - val_acc: 0.7216\n",
            "Epoch 71/100\n",
            "1000/1000 [==============================] - 76s 76ms/step - loss: 0.6339 - acc: 0.7823 - val_loss: 1.2442 - val_acc: 0.7282\n",
            "Epoch 72/100\n",
            "1000/1000 [==============================] - 75s 75ms/step - loss: 0.6505 - acc: 0.7776 - val_loss: 1.3821 - val_acc: 0.7059\n",
            "Epoch 73/100\n",
            "1000/1000 [==============================] - 76s 76ms/step - loss: 0.6343 - acc: 0.7827 - val_loss: 1.1544 - val_acc: 0.7279\n",
            "Epoch 74/100\n",
            "1000/1000 [==============================] - 77s 77ms/step - loss: 0.6430 - acc: 0.7791 - val_loss: 1.2799 - val_acc: 0.7127\n",
            "Epoch 75/100\n",
            "1000/1000 [==============================] - 75s 75ms/step - loss: 0.6252 - acc: 0.7853 - val_loss: 0.9921 - val_acc: 0.7418\n",
            "Epoch 76/100\n",
            "1000/1000 [==============================] - 76s 76ms/step - loss: 0.6313 - acc: 0.7848 - val_loss: 1.2559 - val_acc: 0.6935\n",
            "Epoch 77/100\n",
            "1000/1000 [==============================] - 72s 72ms/step - loss: 0.6348 - acc: 0.7845 - val_loss: 0.8671 - val_acc: 0.7521\n",
            "Epoch 78/100\n",
            "1000/1000 [==============================] - 75s 75ms/step - loss: 0.6339 - acc: 0.7810 - val_loss: 1.1430 - val_acc: 0.7198\n",
            "Epoch 79/100\n",
            "1000/1000 [==============================] - 74s 74ms/step - loss: 0.6270 - acc: 0.7852 - val_loss: 1.3668 - val_acc: 0.7126\n",
            "Epoch 80/100\n",
            "1000/1000 [==============================] - 78s 78ms/step - loss: 0.6321 - acc: 0.7852 - val_loss: 1.0344 - val_acc: 0.7302\n",
            "Epoch 81/100\n",
            "1000/1000 [==============================] - 76s 76ms/step - loss: 0.6241 - acc: 0.7898 - val_loss: 0.8718 - val_acc: 0.7505\n",
            "Epoch 82/100\n",
            "1000/1000 [==============================] - 77s 77ms/step - loss: 0.6202 - acc: 0.7883 - val_loss: 0.9617 - val_acc: 0.7400\n",
            "Epoch 83/100\n",
            "1000/1000 [==============================] - 76s 76ms/step - loss: 0.6145 - acc: 0.7895 - val_loss: 0.9948 - val_acc: 0.7351\n",
            "Epoch 84/100\n",
            "1000/1000 [==============================] - 78s 78ms/step - loss: 0.6215 - acc: 0.7910 - val_loss: 1.7349 - val_acc: 0.6639\n",
            "Epoch 85/100\n",
            "1000/1000 [==============================] - 77s 77ms/step - loss: 0.6122 - acc: 0.7912 - val_loss: 0.9779 - val_acc: 0.7482\n",
            "Epoch 86/100\n",
            "1000/1000 [==============================] - 78s 78ms/step - loss: 0.6063 - acc: 0.7920 - val_loss: 1.2325 - val_acc: 0.7021\n",
            "Epoch 87/100\n",
            "1000/1000 [==============================] - 76s 76ms/step - loss: 0.6032 - acc: 0.7945 - val_loss: 1.2826 - val_acc: 0.7099\n",
            "Epoch 88/100\n",
            "1000/1000 [==============================] - 75s 75ms/step - loss: 0.6099 - acc: 0.7907 - val_loss: 0.9149 - val_acc: 0.7474\n",
            "Epoch 89/100\n",
            "1000/1000 [==============================] - 77s 77ms/step - loss: 0.6072 - acc: 0.7928 - val_loss: 0.9911 - val_acc: 0.7393\n",
            "Epoch 90/100\n",
            "1000/1000 [==============================] - 75s 75ms/step - loss: 0.6089 - acc: 0.7918 - val_loss: 1.0966 - val_acc: 0.7277\n",
            "Epoch 91/100\n",
            "1000/1000 [==============================] - 76s 76ms/step - loss: 0.5959 - acc: 0.7974 - val_loss: 0.9382 - val_acc: 0.7433\n",
            "Epoch 92/100\n",
            "1000/1000 [==============================] - 76s 76ms/step - loss: 0.5851 - acc: 0.8002 - val_loss: 0.9112 - val_acc: 0.7546\n",
            "Epoch 93/100\n",
            "1000/1000 [==============================] - 75s 75ms/step - loss: 0.6092 - acc: 0.7933 - val_loss: 0.9509 - val_acc: 0.7424\n",
            "Epoch 94/100\n",
            "1000/1000 [==============================] - 76s 76ms/step - loss: 0.5957 - acc: 0.7977 - val_loss: 0.9826 - val_acc: 0.7465\n",
            "Epoch 95/100\n",
            "1000/1000 [==============================] - 75s 75ms/step - loss: 0.5974 - acc: 0.7972 - val_loss: 1.0310 - val_acc: 0.7290\n",
            "Epoch 96/100\n",
            "1000/1000 [==============================] - 76s 76ms/step - loss: 0.5887 - acc: 0.8005 - val_loss: 0.9441 - val_acc: 0.7375\n",
            "Epoch 97/100\n",
            "1000/1000 [==============================] - 77s 77ms/step - loss: 0.5849 - acc: 0.8039 - val_loss: 0.9557 - val_acc: 0.7380\n",
            "Epoch 98/100\n",
            "1000/1000 [==============================] - 75s 75ms/step - loss: 0.5935 - acc: 0.7971 - val_loss: 0.9049 - val_acc: 0.7510\n",
            "Epoch 99/100\n",
            "1000/1000 [==============================] - 77s 77ms/step - loss: 0.5827 - acc: 0.8028 - val_loss: 0.9291 - val_acc: 0.7571\n",
            "Epoch 100/100\n",
            "1000/1000 [==============================] - 80s 80ms/step - loss: 0.5828 - acc: 0.8006 - val_loss: 0.9126 - val_acc: 0.7574\n"
          ],
          "name": "stdout"
        },
        {
          "output_type": "execute_result",
          "data": {
            "text/plain": [
              "<keras.callbacks.History at 0x7f196eaa76d8>"
            ]
          },
          "metadata": {
            "tags": []
          },
          "execution_count": 18
        }
      ]
    },
    {
      "metadata": {
        "id": "k0FaHEvNedkp",
        "colab_type": "code",
        "colab": {
          "base_uri": "https://localhost:8080/",
          "height": 52
        },
        "outputId": "1dceb1ba-130e-4437-9cdc-7a92e3f6242c"
      },
      "cell_type": "code",
      "source": [
        "score = model.evaluate(val_X, val_Y, verbose=0) \n",
        "print('Validation score:', score[0]) \n",
        "print('Validation accuracy:', score[1])"
      ],
      "execution_count": 19,
      "outputs": [
        {
          "output_type": "stream",
          "text": [
            "Validation score: 0.9125799599170685\n",
            "Validation accuracy: 0.7574\n"
          ],
          "name": "stdout"
        }
      ]
    }
  ]
}